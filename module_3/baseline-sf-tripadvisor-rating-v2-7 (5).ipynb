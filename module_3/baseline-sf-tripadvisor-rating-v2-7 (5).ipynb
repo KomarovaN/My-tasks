{
 "cells": [
  {
   "cell_type": "markdown",
   "metadata": {},
   "source": [
    "![](https://www.pata.org/wp-content/uploads/2014/09/TripAdvisor_Logo-300x119.png)\n",
    "# Predict TripAdvisor Rating\n",
    "## В этом соревновании нам предстоит предсказать рейтинг ресторана в TripAdvisor\n",
    "**По ходу задачи:**\n",
    "* Прокачаем работу с pandas\n",
    "* Научимся работать с Kaggle Notebooks\n",
    "* Поймем как делать предобработку различных данных\n",
    "* Научимся работать с пропущенными данными (Nan)\n",
    "* Познакомимся с различными видами кодирования признаков\n",
    "* Немного попробуем [Feature Engineering](https://ru.wikipedia.org/wiki/Конструирование_признаков) (генерировать новые признаки)\n",
    "* И совсем немного затронем ML\n",
    "* И многое другое...   \n",
    "\n",
    "\n",
    "\n",
    "### И самое важное, все это вы сможете сделать самостоятельно!\n",
    "\n",
    "*Этот Ноутбук являетсся Примером/Шаблоном к этому соревнованию (Baseline) и не служит готовым решением!*   \n",
    "Вы можете использовать его как основу для построения своего решения.\n",
    "\n",
    "> что такое baseline решение, зачем оно нужно и почему предоставлять baseline к соревнованию стало важным стандартом на kaggle и других площадках.   \n",
    "**baseline** создается больше как шаблон, где можно посмотреть как происходит обращение с входящими данными и что нужно получить на выходе. При этом МЛ начинка может быть достаточно простой, просто для примера. Это помогает быстрее приступить к самому МЛ, а не тратить ценное время на чисто инженерные задачи. \n",
    "Также baseline являеться хорошей опорной точкой по метрике. Если твое решение хуже baseline - ты явно делаешь что-то не то и стоит попробовать другой путь) \n",
    "\n",
    "В контексте нашего соревнования baseline идет с небольшими примерами того, что можно делать с данными, и с инструкцией, что делать дальше, чтобы улучшить результат.  Вообще готовым решением это сложно назвать, так как используются всего 2 самых простых признака (а остальные исключаются)."
   ]
  },
  {
   "cell_type": "markdown",
   "metadata": {},
   "source": [
    "# import"
   ]
  },
  {
   "cell_type": "code",
   "execution_count": 1,
   "metadata": {
    "_cell_guid": "b1076dfc-b9ad-4769-8c92-a6c4dae69d19",
    "_uuid": "8f2839f25d086af736a60e9eeb907d3b93b6e0e5",
    "execution": {
     "iopub.execute_input": "2021-07-15T13:12:54.850115Z",
     "iopub.status.busy": "2021-07-15T13:12:54.849422Z",
     "iopub.status.idle": "2021-07-15T13:12:54.866987Z",
     "shell.execute_reply": "2021-07-15T13:12:54.866270Z",
     "shell.execute_reply.started": "2021-07-15T13:12:54.849854Z"
    }
   },
   "outputs": [],
   "source": [
    "# This Python 3 environment comes with many helpful analytics libraries installed\n",
    "# It is defined by the kaggle/python docker image: https://github.com/kaggle/docker-python\n",
    "# For example, here's several helpful packages to load in \n",
    "\n",
    "import numpy as np # linear algebra\n",
    "import pandas as pd # data processing, CSV file I/O (e.g. pd.read_csv)\n",
    "\n",
    "import matplotlib.pyplot as plt\n",
    "import seaborn as sns \n",
    "%matplotlib inline\n",
    "\n",
    "# Загружаем специальный удобный инструмент для разделения датасета:\n",
    "from sklearn.model_selection import train_test_split\n",
    "\n",
    "# Input data files are available in the \"../input/\" directory.\n",
    "# For example, running this (by clicking run or pressing Shift+Enter) will list all files under the input directory\n",
    "\n",
    "import os\n",
    "for dirname, _, filenames in os.walk('/kaggle/input'):\n",
    "    for filename in filenames:\n",
    "        print(os.path.join(dirname, filename))\n",
    "\n",
    "# Any results you write to the current directory are saved as output."
   ]
  },
  {
   "cell_type": "code",
   "execution_count": 2,
   "metadata": {
    "execution": {
     "iopub.execute_input": "2021-07-15T13:12:54.909230Z",
     "iopub.status.busy": "2021-07-15T13:12:54.908748Z",
     "iopub.status.idle": "2021-07-15T13:12:54.913519Z",
     "shell.execute_reply": "2021-07-15T13:12:54.912525Z",
     "shell.execute_reply.started": "2021-07-15T13:12:54.909180Z"
    }
   },
   "outputs": [],
   "source": [
    "# всегда фиксируйте RANDOM_SEED, чтобы ваши эксперименты были воспроизводимы!\n",
    "RANDOM_SEED = 42"
   ]
  },
  {
   "cell_type": "code",
   "execution_count": 3,
   "metadata": {
    "execution": {
     "iopub.execute_input": "2021-07-15T13:12:54.944359Z",
     "iopub.status.busy": "2021-07-15T13:12:54.943706Z",
     "iopub.status.idle": "2021-07-15T13:12:57.257515Z",
     "shell.execute_reply": "2021-07-15T13:12:57.256200Z",
     "shell.execute_reply.started": "2021-07-15T13:12:54.944300Z"
    }
   },
   "outputs": [],
   "source": [
    "# зафиксируем версию пакетов, чтобы эксперименты были воспроизводимы:\n",
    "!pip freeze > requirements.txt"
   ]
  },
  {
   "cell_type": "markdown",
   "metadata": {},
   "source": [
    "# DATA"
   ]
  },
  {
   "cell_type": "code",
   "execution_count": 4,
   "metadata": {
    "_cell_guid": "79c7e3d0-c299-4dcb-8224-4455121ee9b0",
    "_uuid": "d629ff2d2480ee46fbb7e2d37f6b5fab8052498a",
    "execution": {
     "iopub.execute_input": "2021-07-15T13:12:57.260738Z",
     "iopub.status.busy": "2021-07-15T13:12:57.260429Z",
     "iopub.status.idle": "2021-07-15T13:12:57.499718Z",
     "shell.execute_reply": "2021-07-15T13:12:57.498799Z",
     "shell.execute_reply.started": "2021-07-15T13:12:57.260680Z"
    }
   },
   "outputs": [],
   "source": [
    "#DATA_DIR = '/kaggle/input/sf-dst-restaurant-rating/'\n",
    "df_train = pd.read_csv('main_task.csv')\n",
    "df_test = pd.read_csv('kaggle_task.csv')\n",
    "sample_submission = pd.read_csv('sample_submission.csv')"
   ]
  },
  {
   "cell_type": "code",
   "execution_count": 5,
   "metadata": {
    "execution": {
     "iopub.execute_input": "2021-07-15T13:12:57.501483Z",
     "iopub.status.busy": "2021-07-15T13:12:57.501200Z",
     "iopub.status.idle": "2021-07-15T13:12:57.539485Z",
     "shell.execute_reply": "2021-07-15T13:12:57.538550Z",
     "shell.execute_reply.started": "2021-07-15T13:12:57.501430Z"
    }
   },
   "outputs": [
    {
     "name": "stdout",
     "output_type": "stream",
     "text": [
      "<class 'pandas.core.frame.DataFrame'>\n",
      "RangeIndex: 40000 entries, 0 to 39999\n",
      "Data columns (total 10 columns):\n",
      " #   Column             Non-Null Count  Dtype  \n",
      "---  ------             --------------  -----  \n",
      " 0   Restaurant_id      40000 non-null  object \n",
      " 1   City               40000 non-null  object \n",
      " 2   Cuisine Style      30717 non-null  object \n",
      " 3   Ranking            40000 non-null  float64\n",
      " 4   Rating             40000 non-null  float64\n",
      " 5   Price Range        26114 non-null  object \n",
      " 6   Number of Reviews  37457 non-null  float64\n",
      " 7   Reviews            40000 non-null  object \n",
      " 8   URL_TA             40000 non-null  object \n",
      " 9   ID_TA              40000 non-null  object \n",
      "dtypes: float64(3), object(7)\n",
      "memory usage: 3.1+ MB\n"
     ]
    }
   ],
   "source": [
    "df_train.info()"
   ]
  },
  {
   "cell_type": "code",
   "execution_count": 6,
   "metadata": {
    "execution": {
     "iopub.execute_input": "2021-07-15T13:12:57.540767Z",
     "iopub.status.busy": "2021-07-15T13:12:57.540537Z",
     "iopub.status.idle": "2021-07-15T13:12:57.557045Z",
     "shell.execute_reply": "2021-07-15T13:12:57.556380Z",
     "shell.execute_reply.started": "2021-07-15T13:12:57.540725Z"
    }
   },
   "outputs": [
    {
     "data": {
      "text/html": [
       "<div>\n",
       "<style scoped>\n",
       "    .dataframe tbody tr th:only-of-type {\n",
       "        vertical-align: middle;\n",
       "    }\n",
       "\n",
       "    .dataframe tbody tr th {\n",
       "        vertical-align: top;\n",
       "    }\n",
       "\n",
       "    .dataframe thead th {\n",
       "        text-align: right;\n",
       "    }\n",
       "</style>\n",
       "<table border=\"1\" class=\"dataframe\">\n",
       "  <thead>\n",
       "    <tr style=\"text-align: right;\">\n",
       "      <th></th>\n",
       "      <th>Restaurant_id</th>\n",
       "      <th>City</th>\n",
       "      <th>Cuisine Style</th>\n",
       "      <th>Ranking</th>\n",
       "      <th>Rating</th>\n",
       "      <th>Price Range</th>\n",
       "      <th>Number of Reviews</th>\n",
       "      <th>Reviews</th>\n",
       "      <th>URL_TA</th>\n",
       "      <th>ID_TA</th>\n",
       "    </tr>\n",
       "  </thead>\n",
       "  <tbody>\n",
       "    <tr>\n",
       "      <th>0</th>\n",
       "      <td>id_5569</td>\n",
       "      <td>Paris</td>\n",
       "      <td>['European', 'French', 'International']</td>\n",
       "      <td>5570.0</td>\n",
       "      <td>3.5</td>\n",
       "      <td>$$ - $$$</td>\n",
       "      <td>194.0</td>\n",
       "      <td>[['Good food at your doorstep', 'A good hotel ...</td>\n",
       "      <td>/Restaurant_Review-g187147-d1912643-Reviews-R_...</td>\n",
       "      <td>d1912643</td>\n",
       "    </tr>\n",
       "    <tr>\n",
       "      <th>1</th>\n",
       "      <td>id_1535</td>\n",
       "      <td>Stockholm</td>\n",
       "      <td>NaN</td>\n",
       "      <td>1537.0</td>\n",
       "      <td>4.0</td>\n",
       "      <td>NaN</td>\n",
       "      <td>10.0</td>\n",
       "      <td>[['Unique cuisine', 'Delicious Nepalese food']...</td>\n",
       "      <td>/Restaurant_Review-g189852-d7992032-Reviews-Bu...</td>\n",
       "      <td>d7992032</td>\n",
       "    </tr>\n",
       "    <tr>\n",
       "      <th>2</th>\n",
       "      <td>id_352</td>\n",
       "      <td>London</td>\n",
       "      <td>['Japanese', 'Sushi', 'Asian', 'Grill', 'Veget...</td>\n",
       "      <td>353.0</td>\n",
       "      <td>4.5</td>\n",
       "      <td>$$$$</td>\n",
       "      <td>688.0</td>\n",
       "      <td>[['Catch up with friends', 'Not exceptional'],...</td>\n",
       "      <td>/Restaurant_Review-g186338-d8632781-Reviews-RO...</td>\n",
       "      <td>d8632781</td>\n",
       "    </tr>\n",
       "    <tr>\n",
       "      <th>3</th>\n",
       "      <td>id_3456</td>\n",
       "      <td>Berlin</td>\n",
       "      <td>NaN</td>\n",
       "      <td>3458.0</td>\n",
       "      <td>5.0</td>\n",
       "      <td>NaN</td>\n",
       "      <td>3.0</td>\n",
       "      <td>[[], []]</td>\n",
       "      <td>/Restaurant_Review-g187323-d1358776-Reviews-Es...</td>\n",
       "      <td>d1358776</td>\n",
       "    </tr>\n",
       "    <tr>\n",
       "      <th>4</th>\n",
       "      <td>id_615</td>\n",
       "      <td>Munich</td>\n",
       "      <td>['German', 'Central European', 'Vegetarian Fri...</td>\n",
       "      <td>621.0</td>\n",
       "      <td>4.0</td>\n",
       "      <td>$$ - $$$</td>\n",
       "      <td>84.0</td>\n",
       "      <td>[['Best place to try a Bavarian food', 'Nice b...</td>\n",
       "      <td>/Restaurant_Review-g187309-d6864963-Reviews-Au...</td>\n",
       "      <td>d6864963</td>\n",
       "    </tr>\n",
       "  </tbody>\n",
       "</table>\n",
       "</div>"
      ],
      "text/plain": [
       "  Restaurant_id       City                                      Cuisine Style  \\\n",
       "0       id_5569      Paris            ['European', 'French', 'International']   \n",
       "1       id_1535  Stockholm                                                NaN   \n",
       "2        id_352     London  ['Japanese', 'Sushi', 'Asian', 'Grill', 'Veget...   \n",
       "3       id_3456     Berlin                                                NaN   \n",
       "4        id_615     Munich  ['German', 'Central European', 'Vegetarian Fri...   \n",
       "\n",
       "   Ranking  Rating Price Range  Number of Reviews  \\\n",
       "0   5570.0     3.5    $$ - $$$              194.0   \n",
       "1   1537.0     4.0         NaN               10.0   \n",
       "2    353.0     4.5        $$$$              688.0   \n",
       "3   3458.0     5.0         NaN                3.0   \n",
       "4    621.0     4.0    $$ - $$$               84.0   \n",
       "\n",
       "                                             Reviews  \\\n",
       "0  [['Good food at your doorstep', 'A good hotel ...   \n",
       "1  [['Unique cuisine', 'Delicious Nepalese food']...   \n",
       "2  [['Catch up with friends', 'Not exceptional'],...   \n",
       "3                                           [[], []]   \n",
       "4  [['Best place to try a Bavarian food', 'Nice b...   \n",
       "\n",
       "                                              URL_TA     ID_TA  \n",
       "0  /Restaurant_Review-g187147-d1912643-Reviews-R_...  d1912643  \n",
       "1  /Restaurant_Review-g189852-d7992032-Reviews-Bu...  d7992032  \n",
       "2  /Restaurant_Review-g186338-d8632781-Reviews-RO...  d8632781  \n",
       "3  /Restaurant_Review-g187323-d1358776-Reviews-Es...  d1358776  \n",
       "4  /Restaurant_Review-g187309-d6864963-Reviews-Au...  d6864963  "
      ]
     },
     "execution_count": 6,
     "metadata": {},
     "output_type": "execute_result"
    }
   ],
   "source": [
    "df_train.head(5)"
   ]
  },
  {
   "cell_type": "code",
   "execution_count": 7,
   "metadata": {
    "execution": {
     "iopub.execute_input": "2021-07-15T13:12:57.559534Z",
     "iopub.status.busy": "2021-07-15T13:12:57.559275Z",
     "iopub.status.idle": "2021-07-15T13:12:57.580594Z",
     "shell.execute_reply": "2021-07-15T13:12:57.579913Z",
     "shell.execute_reply.started": "2021-07-15T13:12:57.559490Z"
    }
   },
   "outputs": [
    {
     "name": "stdout",
     "output_type": "stream",
     "text": [
      "<class 'pandas.core.frame.DataFrame'>\n",
      "RangeIndex: 10000 entries, 0 to 9999\n",
      "Data columns (total 9 columns):\n",
      " #   Column             Non-Null Count  Dtype  \n",
      "---  ------             --------------  -----  \n",
      " 0   Restaurant_id      10000 non-null  object \n",
      " 1   City               10000 non-null  object \n",
      " 2   Cuisine Style      7693 non-null   object \n",
      " 3   Ranking            10000 non-null  float64\n",
      " 4   Price Range        6525 non-null   object \n",
      " 5   Number of Reviews  9343 non-null   float64\n",
      " 6   Reviews            9998 non-null   object \n",
      " 7   URL_TA             10000 non-null  object \n",
      " 8   ID_TA              10000 non-null  object \n",
      "dtypes: float64(2), object(7)\n",
      "memory usage: 703.2+ KB\n"
     ]
    }
   ],
   "source": [
    "df_test.info()"
   ]
  },
  {
   "cell_type": "code",
   "execution_count": 8,
   "metadata": {
    "execution": {
     "iopub.execute_input": "2021-07-15T13:12:57.584693Z",
     "iopub.status.busy": "2021-07-15T13:12:57.584428Z",
     "iopub.status.idle": "2021-07-15T13:12:57.600947Z",
     "shell.execute_reply": "2021-07-15T13:12:57.600042Z",
     "shell.execute_reply.started": "2021-07-15T13:12:57.584651Z"
    }
   },
   "outputs": [
    {
     "data": {
      "text/html": [
       "<div>\n",
       "<style scoped>\n",
       "    .dataframe tbody tr th:only-of-type {\n",
       "        vertical-align: middle;\n",
       "    }\n",
       "\n",
       "    .dataframe tbody tr th {\n",
       "        vertical-align: top;\n",
       "    }\n",
       "\n",
       "    .dataframe thead th {\n",
       "        text-align: right;\n",
       "    }\n",
       "</style>\n",
       "<table border=\"1\" class=\"dataframe\">\n",
       "  <thead>\n",
       "    <tr style=\"text-align: right;\">\n",
       "      <th></th>\n",
       "      <th>Restaurant_id</th>\n",
       "      <th>City</th>\n",
       "      <th>Cuisine Style</th>\n",
       "      <th>Ranking</th>\n",
       "      <th>Price Range</th>\n",
       "      <th>Number of Reviews</th>\n",
       "      <th>Reviews</th>\n",
       "      <th>URL_TA</th>\n",
       "      <th>ID_TA</th>\n",
       "    </tr>\n",
       "  </thead>\n",
       "  <tbody>\n",
       "    <tr>\n",
       "      <th>0</th>\n",
       "      <td>id_0</td>\n",
       "      <td>Paris</td>\n",
       "      <td>['Bar', 'Pub']</td>\n",
       "      <td>12963.0</td>\n",
       "      <td>$$ - $$$</td>\n",
       "      <td>4.0</td>\n",
       "      <td>[[], []]</td>\n",
       "      <td>/Restaurant_Review-g187147-d10746918-Reviews-L...</td>\n",
       "      <td>d10746918</td>\n",
       "    </tr>\n",
       "    <tr>\n",
       "      <th>1</th>\n",
       "      <td>id_1</td>\n",
       "      <td>Helsinki</td>\n",
       "      <td>['European', 'Scandinavian', 'Gluten Free Opti...</td>\n",
       "      <td>106.0</td>\n",
       "      <td>$$ - $$$</td>\n",
       "      <td>97.0</td>\n",
       "      <td>[['Very good reviews!', 'Fine dining in Hakani...</td>\n",
       "      <td>/Restaurant_Review-g189934-d6674944-Reviews-Ra...</td>\n",
       "      <td>d6674944</td>\n",
       "    </tr>\n",
       "    <tr>\n",
       "      <th>2</th>\n",
       "      <td>id_2</td>\n",
       "      <td>Edinburgh</td>\n",
       "      <td>['Vegetarian Friendly']</td>\n",
       "      <td>810.0</td>\n",
       "      <td>$$ - $$$</td>\n",
       "      <td>28.0</td>\n",
       "      <td>[['Better than the Links', 'Ivy Black'], ['12/...</td>\n",
       "      <td>/Restaurant_Review-g186525-d13129638-Reviews-B...</td>\n",
       "      <td>d13129638</td>\n",
       "    </tr>\n",
       "    <tr>\n",
       "      <th>3</th>\n",
       "      <td>id_3</td>\n",
       "      <td>London</td>\n",
       "      <td>['Italian', 'Mediterranean', 'European', 'Vege...</td>\n",
       "      <td>1669.0</td>\n",
       "      <td>$$$$</td>\n",
       "      <td>202.0</td>\n",
       "      <td>[['Most exquisite', 'Delicious and authentic']...</td>\n",
       "      <td>/Restaurant_Review-g186338-d680417-Reviews-Qui...</td>\n",
       "      <td>d680417</td>\n",
       "    </tr>\n",
       "    <tr>\n",
       "      <th>4</th>\n",
       "      <td>id_4</td>\n",
       "      <td>Bratislava</td>\n",
       "      <td>['Italian', 'Mediterranean', 'European', 'Seaf...</td>\n",
       "      <td>37.0</td>\n",
       "      <td>$$$$</td>\n",
       "      <td>162.0</td>\n",
       "      <td>[['Always the best in bratislava', 'Very good ...</td>\n",
       "      <td>/Restaurant_Review-g274924-d1112354-Reviews-Ma...</td>\n",
       "      <td>d1112354</td>\n",
       "    </tr>\n",
       "  </tbody>\n",
       "</table>\n",
       "</div>"
      ],
      "text/plain": [
       "  Restaurant_id        City  \\\n",
       "0          id_0       Paris   \n",
       "1          id_1    Helsinki   \n",
       "2          id_2   Edinburgh   \n",
       "3          id_3      London   \n",
       "4          id_4  Bratislava   \n",
       "\n",
       "                                       Cuisine Style  Ranking Price Range  \\\n",
       "0                                     ['Bar', 'Pub']  12963.0    $$ - $$$   \n",
       "1  ['European', 'Scandinavian', 'Gluten Free Opti...    106.0    $$ - $$$   \n",
       "2                            ['Vegetarian Friendly']    810.0    $$ - $$$   \n",
       "3  ['Italian', 'Mediterranean', 'European', 'Vege...   1669.0        $$$$   \n",
       "4  ['Italian', 'Mediterranean', 'European', 'Seaf...     37.0        $$$$   \n",
       "\n",
       "   Number of Reviews                                            Reviews  \\\n",
       "0                4.0                                           [[], []]   \n",
       "1               97.0  [['Very good reviews!', 'Fine dining in Hakani...   \n",
       "2               28.0  [['Better than the Links', 'Ivy Black'], ['12/...   \n",
       "3              202.0  [['Most exquisite', 'Delicious and authentic']...   \n",
       "4              162.0  [['Always the best in bratislava', 'Very good ...   \n",
       "\n",
       "                                              URL_TA      ID_TA  \n",
       "0  /Restaurant_Review-g187147-d10746918-Reviews-L...  d10746918  \n",
       "1  /Restaurant_Review-g189934-d6674944-Reviews-Ra...   d6674944  \n",
       "2  /Restaurant_Review-g186525-d13129638-Reviews-B...  d13129638  \n",
       "3  /Restaurant_Review-g186338-d680417-Reviews-Qui...    d680417  \n",
       "4  /Restaurant_Review-g274924-d1112354-Reviews-Ma...   d1112354  "
      ]
     },
     "execution_count": 8,
     "metadata": {},
     "output_type": "execute_result"
    }
   ],
   "source": [
    "df_test.head(5)"
   ]
  },
  {
   "cell_type": "code",
   "execution_count": 9,
   "metadata": {
    "execution": {
     "iopub.execute_input": "2021-07-15T13:12:57.602190Z",
     "iopub.status.busy": "2021-07-15T13:12:57.601975Z",
     "iopub.status.idle": "2021-07-15T13:12:57.614938Z",
     "shell.execute_reply": "2021-07-15T13:12:57.614155Z",
     "shell.execute_reply.started": "2021-07-15T13:12:57.602157Z"
    }
   },
   "outputs": [
    {
     "data": {
      "text/html": [
       "<div>\n",
       "<style scoped>\n",
       "    .dataframe tbody tr th:only-of-type {\n",
       "        vertical-align: middle;\n",
       "    }\n",
       "\n",
       "    .dataframe tbody tr th {\n",
       "        vertical-align: top;\n",
       "    }\n",
       "\n",
       "    .dataframe thead th {\n",
       "        text-align: right;\n",
       "    }\n",
       "</style>\n",
       "<table border=\"1\" class=\"dataframe\">\n",
       "  <thead>\n",
       "    <tr style=\"text-align: right;\">\n",
       "      <th></th>\n",
       "      <th>Restaurant_id</th>\n",
       "      <th>Rating</th>\n",
       "    </tr>\n",
       "  </thead>\n",
       "  <tbody>\n",
       "    <tr>\n",
       "      <th>0</th>\n",
       "      <td>id_0</td>\n",
       "      <td>2.0</td>\n",
       "    </tr>\n",
       "    <tr>\n",
       "      <th>1</th>\n",
       "      <td>id_1</td>\n",
       "      <td>2.5</td>\n",
       "    </tr>\n",
       "    <tr>\n",
       "      <th>2</th>\n",
       "      <td>id_2</td>\n",
       "      <td>4.0</td>\n",
       "    </tr>\n",
       "    <tr>\n",
       "      <th>3</th>\n",
       "      <td>id_3</td>\n",
       "      <td>1.0</td>\n",
       "    </tr>\n",
       "    <tr>\n",
       "      <th>4</th>\n",
       "      <td>id_4</td>\n",
       "      <td>4.0</td>\n",
       "    </tr>\n",
       "  </tbody>\n",
       "</table>\n",
       "</div>"
      ],
      "text/plain": [
       "  Restaurant_id  Rating\n",
       "0          id_0     2.0\n",
       "1          id_1     2.5\n",
       "2          id_2     4.0\n",
       "3          id_3     1.0\n",
       "4          id_4     4.0"
      ]
     },
     "execution_count": 9,
     "metadata": {},
     "output_type": "execute_result"
    }
   ],
   "source": [
    "sample_submission.head(5)"
   ]
  },
  {
   "cell_type": "code",
   "execution_count": 10,
   "metadata": {
    "execution": {
     "iopub.execute_input": "2021-07-15T13:12:57.616540Z",
     "iopub.status.busy": "2021-07-15T13:12:57.616323Z",
     "iopub.status.idle": "2021-07-15T13:12:57.629015Z",
     "shell.execute_reply": "2021-07-15T13:12:57.628007Z",
     "shell.execute_reply.started": "2021-07-15T13:12:57.616501Z"
    }
   },
   "outputs": [
    {
     "name": "stdout",
     "output_type": "stream",
     "text": [
      "<class 'pandas.core.frame.DataFrame'>\n",
      "RangeIndex: 10000 entries, 0 to 9999\n",
      "Data columns (total 2 columns):\n",
      " #   Column         Non-Null Count  Dtype  \n",
      "---  ------         --------------  -----  \n",
      " 0   Restaurant_id  10000 non-null  object \n",
      " 1   Rating         10000 non-null  float64\n",
      "dtypes: float64(1), object(1)\n",
      "memory usage: 156.4+ KB\n"
     ]
    }
   ],
   "source": [
    "sample_submission.info()"
   ]
  },
  {
   "cell_type": "code",
   "execution_count": 11,
   "metadata": {
    "execution": {
     "iopub.execute_input": "2021-07-15T13:12:57.630570Z",
     "iopub.status.busy": "2021-07-15T13:12:57.630327Z",
     "iopub.status.idle": "2021-07-15T13:12:57.672606Z",
     "shell.execute_reply": "2021-07-15T13:12:57.671643Z",
     "shell.execute_reply.started": "2021-07-15T13:12:57.630530Z"
    }
   },
   "outputs": [],
   "source": [
    "# ВАЖНО! дря корректной обработки признаков объединяем трейн и тест в один датасет\n",
    "df_train['sample'] = 1 # помечаем где у нас трейн\n",
    "df_test['sample'] = 0 # помечаем где у нас тест\n",
    "df_test['Rating'] = 0 # в тесте у нас нет значения Rating, мы его должны предсказать, по этому пока просто заполняем нулями\n",
    "\n",
    "data = df_test.append(df_train, sort=False).reset_index(drop=True) # объединяем"
   ]
  },
  {
   "cell_type": "code",
   "execution_count": 12,
   "metadata": {
    "execution": {
     "iopub.execute_input": "2021-07-15T13:12:57.674142Z",
     "iopub.status.busy": "2021-07-15T13:12:57.673872Z",
     "iopub.status.idle": "2021-07-15T13:12:57.719474Z",
     "shell.execute_reply": "2021-07-15T13:12:57.718371Z",
     "shell.execute_reply.started": "2021-07-15T13:12:57.674093Z"
    }
   },
   "outputs": [
    {
     "name": "stdout",
     "output_type": "stream",
     "text": [
      "<class 'pandas.core.frame.DataFrame'>\n",
      "RangeIndex: 50000 entries, 0 to 49999\n",
      "Data columns (total 11 columns):\n",
      " #   Column             Non-Null Count  Dtype  \n",
      "---  ------             --------------  -----  \n",
      " 0   Restaurant_id      50000 non-null  object \n",
      " 1   City               50000 non-null  object \n",
      " 2   Cuisine Style      38410 non-null  object \n",
      " 3   Ranking            50000 non-null  float64\n",
      " 4   Price Range        32639 non-null  object \n",
      " 5   Number of Reviews  46800 non-null  float64\n",
      " 6   Reviews            49998 non-null  object \n",
      " 7   URL_TA             50000 non-null  object \n",
      " 8   ID_TA              50000 non-null  object \n",
      " 9   sample             50000 non-null  int64  \n",
      " 10  Rating             50000 non-null  float64\n",
      "dtypes: float64(3), int64(1), object(7)\n",
      "memory usage: 4.2+ MB\n"
     ]
    }
   ],
   "source": [
    "data.info()"
   ]
  },
  {
   "cell_type": "markdown",
   "metadata": {},
   "source": [
    "Подробнее по признакам:\n",
    "* City: Город \n",
    "* Cuisine Style: Кухня\n",
    "* Ranking: Ранг ресторана относительно других ресторанов в этом городе\n",
    "* Price Range: Цены в ресторане в 3 категориях\n",
    "* Number of Reviews: Количество отзывов\n",
    "* Reviews: 2 последних отзыва и даты этих отзывов\n",
    "* URL_TA: страница ресторана на 'www.tripadvisor.com' \n",
    "* ID_TA: ID ресторана в TripAdvisor\n",
    "* Rating: Рейтинг ресторана"
   ]
  },
  {
   "cell_type": "code",
   "execution_count": 13,
   "metadata": {
    "execution": {
     "iopub.execute_input": "2021-07-15T13:12:57.721033Z",
     "iopub.status.busy": "2021-07-15T13:12:57.720771Z",
     "iopub.status.idle": "2021-07-15T13:12:57.740683Z",
     "shell.execute_reply": "2021-07-15T13:12:57.739848Z",
     "shell.execute_reply.started": "2021-07-15T13:12:57.720988Z"
    }
   },
   "outputs": [
    {
     "data": {
      "text/html": [
       "<div>\n",
       "<style scoped>\n",
       "    .dataframe tbody tr th:only-of-type {\n",
       "        vertical-align: middle;\n",
       "    }\n",
       "\n",
       "    .dataframe tbody tr th {\n",
       "        vertical-align: top;\n",
       "    }\n",
       "\n",
       "    .dataframe thead th {\n",
       "        text-align: right;\n",
       "    }\n",
       "</style>\n",
       "<table border=\"1\" class=\"dataframe\">\n",
       "  <thead>\n",
       "    <tr style=\"text-align: right;\">\n",
       "      <th></th>\n",
       "      <th>Restaurant_id</th>\n",
       "      <th>City</th>\n",
       "      <th>Cuisine Style</th>\n",
       "      <th>Ranking</th>\n",
       "      <th>Price Range</th>\n",
       "      <th>Number of Reviews</th>\n",
       "      <th>Reviews</th>\n",
       "      <th>URL_TA</th>\n",
       "      <th>ID_TA</th>\n",
       "      <th>sample</th>\n",
       "      <th>Rating</th>\n",
       "    </tr>\n",
       "  </thead>\n",
       "  <tbody>\n",
       "    <tr>\n",
       "      <th>24966</th>\n",
       "      <td>id_3273</td>\n",
       "      <td>Madrid</td>\n",
       "      <td>['Mediterranean', 'Spanish', 'Delicatessen', '...</td>\n",
       "      <td>3275.0</td>\n",
       "      <td>$$$$</td>\n",
       "      <td>21.0</td>\n",
       "      <td>[['Nothing to add', 'Daily breakfast at this r...</td>\n",
       "      <td>/Restaurant_Review-g187514-d10429092-Reviews-R...</td>\n",
       "      <td>d10429092</td>\n",
       "      <td>1</td>\n",
       "      <td>4.0</td>\n",
       "    </tr>\n",
       "    <tr>\n",
       "      <th>36438</th>\n",
       "      <td>id_524</td>\n",
       "      <td>Geneva</td>\n",
       "      <td>['Swiss', 'French', 'Mediterranean', 'European']</td>\n",
       "      <td>527.0</td>\n",
       "      <td>$$ - $$$</td>\n",
       "      <td>19.0</td>\n",
       "      <td>[['Under new management and excellent', 'Excel...</td>\n",
       "      <td>/Restaurant_Review-g188057-d1045050-Reviews-Sa...</td>\n",
       "      <td>d1045050</td>\n",
       "      <td>1</td>\n",
       "      <td>4.5</td>\n",
       "    </tr>\n",
       "    <tr>\n",
       "      <th>7002</th>\n",
       "      <td>id_7002</td>\n",
       "      <td>Geneva</td>\n",
       "      <td>['French', 'Mediterranean', 'European']</td>\n",
       "      <td>912.0</td>\n",
       "      <td>NaN</td>\n",
       "      <td>2.0</td>\n",
       "      <td>[[], []]</td>\n",
       "      <td>/Restaurant_Review-g188057-d1044869-Reviews-Bl...</td>\n",
       "      <td>d1044869</td>\n",
       "      <td>0</td>\n",
       "      <td>0.0</td>\n",
       "    </tr>\n",
       "    <tr>\n",
       "      <th>49899</th>\n",
       "      <td>id_1061</td>\n",
       "      <td>Edinburgh</td>\n",
       "      <td>['Chinese', 'Asian', 'Vegetarian Friendly']</td>\n",
       "      <td>1062.0</td>\n",
       "      <td>$</td>\n",
       "      <td>366.0</td>\n",
       "      <td>[['Good honest food no frills', 'Good food, bu...</td>\n",
       "      <td>/Restaurant_Review-g186525-d2236770-Reviews-Yo...</td>\n",
       "      <td>d2236770</td>\n",
       "      <td>1</td>\n",
       "      <td>3.5</td>\n",
       "    </tr>\n",
       "    <tr>\n",
       "      <th>41476</th>\n",
       "      <td>id_8580</td>\n",
       "      <td>London</td>\n",
       "      <td>['Bar', 'British', 'Pub']</td>\n",
       "      <td>8589.0</td>\n",
       "      <td>$</td>\n",
       "      <td>44.0</td>\n",
       "      <td>[['Great food', 'Cheap and Cheerful'], ['11/01...</td>\n",
       "      <td>/Restaurant_Review-g186338-d7238562-Reviews-Th...</td>\n",
       "      <td>d7238562</td>\n",
       "      <td>1</td>\n",
       "      <td>3.5</td>\n",
       "    </tr>\n",
       "  </tbody>\n",
       "</table>\n",
       "</div>"
      ],
      "text/plain": [
       "      Restaurant_id       City  \\\n",
       "24966       id_3273     Madrid   \n",
       "36438        id_524     Geneva   \n",
       "7002        id_7002     Geneva   \n",
       "49899       id_1061  Edinburgh   \n",
       "41476       id_8580     London   \n",
       "\n",
       "                                           Cuisine Style  Ranking Price Range  \\\n",
       "24966  ['Mediterranean', 'Spanish', 'Delicatessen', '...   3275.0        $$$$   \n",
       "36438   ['Swiss', 'French', 'Mediterranean', 'European']    527.0    $$ - $$$   \n",
       "7002             ['French', 'Mediterranean', 'European']    912.0         NaN   \n",
       "49899        ['Chinese', 'Asian', 'Vegetarian Friendly']   1062.0           $   \n",
       "41476                          ['Bar', 'British', 'Pub']   8589.0           $   \n",
       "\n",
       "       Number of Reviews                                            Reviews  \\\n",
       "24966               21.0  [['Nothing to add', 'Daily breakfast at this r...   \n",
       "36438               19.0  [['Under new management and excellent', 'Excel...   \n",
       "7002                 2.0                                           [[], []]   \n",
       "49899              366.0  [['Good honest food no frills', 'Good food, bu...   \n",
       "41476               44.0  [['Great food', 'Cheap and Cheerful'], ['11/01...   \n",
       "\n",
       "                                                  URL_TA      ID_TA  sample  \\\n",
       "24966  /Restaurant_Review-g187514-d10429092-Reviews-R...  d10429092       1   \n",
       "36438  /Restaurant_Review-g188057-d1045050-Reviews-Sa...   d1045050       1   \n",
       "7002   /Restaurant_Review-g188057-d1044869-Reviews-Bl...   d1044869       0   \n",
       "49899  /Restaurant_Review-g186525-d2236770-Reviews-Yo...   d2236770       1   \n",
       "41476  /Restaurant_Review-g186338-d7238562-Reviews-Th...   d7238562       1   \n",
       "\n",
       "       Rating  \n",
       "24966     4.0  \n",
       "36438     4.5  \n",
       "7002      0.0  \n",
       "49899     3.5  \n",
       "41476     3.5  "
      ]
     },
     "execution_count": 13,
     "metadata": {},
     "output_type": "execute_result"
    }
   ],
   "source": [
    "data.sample(5)"
   ]
  },
  {
   "cell_type": "code",
   "execution_count": 14,
   "metadata": {
    "execution": {
     "iopub.execute_input": "2021-07-15T13:12:57.742716Z",
     "iopub.status.busy": "2021-07-15T13:12:57.742349Z",
     "iopub.status.idle": "2021-07-15T13:12:57.752325Z",
     "shell.execute_reply": "2021-07-15T13:12:57.751542Z",
     "shell.execute_reply.started": "2021-07-15T13:12:57.742652Z"
    }
   },
   "outputs": [
    {
     "name": "stdout",
     "output_type": "stream",
     "text": [
      "<class 'str'>\n"
     ]
    },
    {
     "data": {
      "text/plain": [
       "\"[['Very good reviews!', 'Fine dining in Hakaniemi'], ['12/05/2017', '10/29/2017']]\""
      ]
     },
     "execution_count": 14,
     "metadata": {},
     "output_type": "execute_result"
    }
   ],
   "source": [
    "print(type(data.Reviews[1]))\n",
    "data.Reviews[1]"
   ]
  },
  {
   "cell_type": "code",
   "execution_count": 15,
   "metadata": {
    "execution": {
     "iopub.execute_input": "2021-07-15T13:12:57.753959Z",
     "iopub.status.busy": "2021-07-15T13:12:57.753612Z",
     "iopub.status.idle": "2021-07-15T13:12:57.803129Z",
     "shell.execute_reply": "2021-07-15T13:12:57.802249Z",
     "shell.execute_reply.started": "2021-07-15T13:12:57.753906Z"
    }
   },
   "outputs": [
    {
     "data": {
      "text/plain": [
       "[[], []]                                                                                                                              8112\n",
       "[['Very cozy!', 'Service rate: 1'], ['01/17/2016', '11/18/2015']]                                                                        2\n",
       "[['Improve your service', 'Great value chain restaurant'], ['12/14/2017', '07/30/2017']]                                                 2\n",
       "[['Whenever in Madrid, we never miss this gem...', 'Underrated sushi restaurant with very good...'], ['04/11/2017', '12/02/2016']]       2\n",
       "[['Enjoyable restaurant with indoor and outdo...', 'Delicious food'], ['11/04/2017', '10/31/2017']]                                      2\n",
       "                                                                                                                                      ... \n",
       "[[\"Homely feel, I'm an expat and I feel at ho...\"], ['06/14/2017']]                                                                      1\n",
       "[['Best vegan sushi in town', 'Vegetarian Sushi the best'], ['01/26/2017', '05/04/2016']]                                                1\n",
       "[['Brilliant!', 'The Best Bangers and Mash'], ['12/09/2017', '10/30/2017']]                                                              1\n",
       "[['Best chip shop loacally'], ['07/28/2016']]                                                                                            1\n",
       "[['A nice place with good food', 'Your average pizzeria'], ['09/21/2014', '03/09/2014']]                                                 1\n",
       "Name: Reviews, Length: 41857, dtype: int64"
      ]
     },
     "execution_count": 15,
     "metadata": {},
     "output_type": "execute_result"
    }
   ],
   "source": [
    "data.Reviews.value_counts()"
   ]
  },
  {
   "cell_type": "code",
   "execution_count": 16,
   "metadata": {
    "execution": {
     "iopub.execute_input": "2021-07-15T13:12:57.804587Z",
     "iopub.status.busy": "2021-07-15T13:12:57.804366Z",
     "iopub.status.idle": "2021-07-15T13:12:57.811055Z",
     "shell.execute_reply": "2021-07-15T13:12:57.810330Z",
     "shell.execute_reply.started": "2021-07-15T13:12:57.804552Z"
    }
   },
   "outputs": [
    {
     "name": "stdout",
     "output_type": "stream",
     "text": [
      "<class 'str'>\n"
     ]
    },
    {
     "data": {
      "text/plain": [
       "\"['European', 'Scandinavian', 'Gluten Free Options', 'Vegetarian Friendly', 'Vegan Options']\""
      ]
     },
     "execution_count": 16,
     "metadata": {},
     "output_type": "execute_result"
    }
   ],
   "source": [
    "print(type(data['Cuisine Style'][1]))\n",
    "data['Cuisine Style'][1]"
   ]
  },
  {
   "cell_type": "code",
   "execution_count": 17,
   "metadata": {
    "execution": {
     "iopub.execute_input": "2021-07-15T13:12:57.812223Z",
     "iopub.status.busy": "2021-07-15T13:12:57.811986Z",
     "iopub.status.idle": "2021-07-15T13:12:57.842639Z",
     "shell.execute_reply": "2021-07-15T13:12:57.841907Z",
     "shell.execute_reply.started": "2021-07-15T13:12:57.812187Z"
    }
   },
   "outputs": [
    {
     "data": {
      "text/plain": [
       "['Italian']                                                                                                     1332\n",
       "['French']                                                                                                      1019\n",
       "['Spanish']                                                                                                      860\n",
       "['French', 'European']                                                                                           503\n",
       "['Cafe']                                                                                                         500\n",
       "                                                                                                                ... \n",
       "['Austrian', 'Bar', 'European', 'Pub', 'Central European', 'German', 'International', 'Vegetarian Friendly']       1\n",
       "['Bar', 'Pub', 'Wine Bar', 'Argentinean', 'South American']                                                        1\n",
       "['European', 'British', 'Delicatessen']                                                                            1\n",
       "['Asian', 'Indonesian', 'Malaysian', 'Vegetarian Friendly']                                                        1\n",
       "['Cafe', 'Middle Eastern']                                                                                         1\n",
       "Name: Cuisine Style, Length: 10731, dtype: int64"
      ]
     },
     "execution_count": 17,
     "metadata": {},
     "output_type": "execute_result"
    }
   ],
   "source": [
    "data['Cuisine Style'].value_counts()"
   ]
  },
  {
   "cell_type": "code",
   "execution_count": 18,
   "metadata": {
    "execution": {
     "iopub.execute_input": "2021-07-15T13:12:57.844373Z",
     "iopub.status.busy": "2021-07-15T13:12:57.844118Z",
     "iopub.status.idle": "2021-07-15T13:12:57.866738Z",
     "shell.execute_reply": "2021-07-15T13:12:57.865918Z",
     "shell.execute_reply.started": "2021-07-15T13:12:57.844323Z"
    }
   },
   "outputs": [
    {
     "data": {
      "text/plain": [
       "London        7193\n",
       "Paris         6108\n",
       "Madrid        3813\n",
       "Barcelona     3395\n",
       "Berlin        2705\n",
       "Milan         2694\n",
       "Rome          2589\n",
       "Prague        1816\n",
       "Lisbon        1647\n",
       "Vienna        1443\n",
       "Amsterdam     1372\n",
       "Brussels      1314\n",
       "Hamburg       1186\n",
       "Munich        1145\n",
       "Lyon          1126\n",
       "Stockholm     1033\n",
       "Budapest      1021\n",
       "Warsaw         925\n",
       "Dublin         836\n",
       "Copenhagen     819\n",
       "Athens         776\n",
       "Edinburgh      745\n",
       "Zurich         685\n",
       "Oporto         642\n",
       "Geneva         590\n",
       "Krakow         554\n",
       "Oslo           488\n",
       "Helsinki       475\n",
       "Bratislava     380\n",
       "Luxembourg     263\n",
       "Ljubljana      222\n",
       "Name: City, dtype: int64"
      ]
     },
     "execution_count": 18,
     "metadata": {},
     "output_type": "execute_result"
    }
   ],
   "source": [
    "#Смотрим,сколько значений в City\n",
    "data['City'].value_counts()"
   ]
  },
  {
   "cell_type": "code",
   "execution_count": 18,
   "metadata": {
    "execution": {
     "iopub.execute_input": "2021-07-15T13:12:57.868559Z",
     "iopub.status.busy": "2021-07-15T13:12:57.868256Z",
     "iopub.status.idle": "2021-07-15T13:12:57.887689Z",
     "shell.execute_reply": "2021-07-15T13:12:57.886896Z",
     "shell.execute_reply.started": "2021-07-15T13:12:57.868460Z"
    }
   },
   "outputs": [
    {
     "data": {
      "text/plain": [
       "$$ - $$$    23041\n",
       "$            7816\n",
       "$$$$         1782\n",
       "Name: Price Range, dtype: int64"
      ]
     },
     "execution_count": 18,
     "metadata": {},
     "output_type": "execute_result"
    }
   ],
   "source": [
    "data['Price Range'].value_counts()"
   ]
  },
  {
   "cell_type": "markdown",
   "metadata": {},
   "source": [
    "Как видим, большинство признаков у нас требует очистки и предварительной обработки."
   ]
  },
  {
   "cell_type": "markdown",
   "metadata": {},
   "source": [
    "# Cleaning and Prepping Data\n",
    "Обычно данные содержат в себе кучу мусора, который необходимо почистить, для того чтобы привести их в приемлемый формат. Чистка данных — это необходимый этап решения почти любой реальной задачи.   \n",
    "![](https://analyticsindiamag.com/wp-content/uploads/2018/01/data-cleaning.png)"
   ]
  },
  {
   "cell_type": "markdown",
   "metadata": {},
   "source": [
    "## 1. Обработка NAN \n",
    "У наличия пропусков могут быть разные причины, но пропуски нужно либо заполнить, либо исключить из набора полностью. Но с пропусками нужно быть внимательным, **даже отсутствие информации может быть важным признаком!**   \n",
    "По этому перед обработкой NAN лучше вынести информацию о наличии пропуска как отдельный признак "
   ]
  },
  {
   "cell_type": "code",
   "execution_count": 19,
   "metadata": {
    "execution": {
     "iopub.execute_input": "2021-07-15T13:12:57.889426Z",
     "iopub.status.busy": "2021-07-15T13:12:57.889083Z",
     "iopub.status.idle": "2021-07-15T13:12:57.895511Z",
     "shell.execute_reply": "2021-07-15T13:12:57.894331Z",
     "shell.execute_reply.started": "2021-07-15T13:12:57.889280Z"
    }
   },
   "outputs": [],
   "source": [
    "# Для примера я возьму столбец Number of Reviews\n",
    "data['Number_of_Reviews_isNAN'] = pd.isna(data['Number of Reviews']).astype('uint8')"
   ]
  },
  {
   "cell_type": "code",
   "execution_count": 20,
   "metadata": {
    "execution": {
     "iopub.execute_input": "2021-07-15T13:12:57.897449Z",
     "iopub.status.busy": "2021-07-15T13:12:57.896881Z",
     "iopub.status.idle": "2021-07-15T13:12:57.906514Z",
     "shell.execute_reply": "2021-07-15T13:12:57.905718Z",
     "shell.execute_reply.started": "2021-07-15T13:12:57.897396Z"
    }
   },
   "outputs": [
    {
     "data": {
      "text/plain": [
       "0        0\n",
       "1        0\n",
       "2        0\n",
       "3        0\n",
       "4        0\n",
       "        ..\n",
       "49995    0\n",
       "49996    0\n",
       "49997    0\n",
       "49998    0\n",
       "49999    0\n",
       "Name: Number_of_Reviews_isNAN, Length: 50000, dtype: uint8"
      ]
     },
     "execution_count": 20,
     "metadata": {},
     "output_type": "execute_result"
    }
   ],
   "source": [
    "data['Number_of_Reviews_isNAN']"
   ]
  },
  {
   "cell_type": "code",
   "execution_count": 21,
   "metadata": {
    "execution": {
     "iopub.execute_input": "2021-07-15T13:12:57.908417Z",
     "iopub.status.busy": "2021-07-15T13:12:57.908000Z",
     "iopub.status.idle": "2021-07-15T13:12:57.914252Z",
     "shell.execute_reply": "2021-07-15T13:12:57.913560Z",
     "shell.execute_reply.started": "2021-07-15T13:12:57.908248Z"
    }
   },
   "outputs": [],
   "source": [
    "# Далее заполняем пропуски 1, вы можете попробовать заполнением средним или средним по городу и тд...\n",
    "data['Number of Reviews'].fillna(1, inplace=True)"
   ]
  },
  {
   "cell_type": "code",
   "execution_count": 22,
   "metadata": {
    "execution": {
     "iopub.execute_input": "2021-07-15T13:12:57.916220Z",
     "iopub.status.busy": "2021-07-15T13:12:57.915806Z",
     "iopub.status.idle": "2021-07-15T13:12:57.928063Z",
     "shell.execute_reply": "2021-07-15T13:12:57.927238Z",
     "shell.execute_reply.started": "2021-07-15T13:12:57.916036Z"
    }
   },
   "outputs": [],
   "source": [
    "#Заполнить пропуски в Price Range строкой с самым популярным значением\n",
    "data['Price Range'] = data['Price Range'].fillna('$$ - $$$')"
   ]
  },
  {
   "cell_type": "code",
   "execution_count": 23,
   "metadata": {
    "execution": {
     "iopub.execute_input": "2021-07-15T13:12:57.929893Z",
     "iopub.status.busy": "2021-07-15T13:12:57.929406Z",
     "iopub.status.idle": "2021-07-15T13:12:57.939730Z",
     "shell.execute_reply": "2021-07-15T13:12:57.939140Z",
     "shell.execute_reply.started": "2021-07-15T13:12:57.929624Z"
    }
   },
   "outputs": [],
   "source": [
    "#Заполнить пропуски в Cuisine Style строкой с пустым списком\n",
    "data['Cuisine Style'] = data['Cuisine Style'].fillna('[]')"
   ]
  },
  {
   "cell_type": "code",
   "execution_count": 25,
   "metadata": {
    "execution": {
     "iopub.execute_input": "2021-07-15T13:12:57.941386Z",
     "iopub.status.busy": "2021-07-15T13:12:57.940987Z",
     "iopub.status.idle": "2021-07-15T13:12:57.955517Z",
     "shell.execute_reply": "2021-07-15T13:12:57.954924Z",
     "shell.execute_reply.started": "2021-07-15T13:12:57.941349Z"
    }
   },
   "outputs": [],
   "source": [
    "#Заполнить пропуски в Reviews строкой с пустым списком списков\n",
    "data['Reviews'] = data['Reviews'].fillna('[[], []]')"
   ]
  },
  {
   "cell_type": "code",
   "execution_count": 26,
   "metadata": {
    "execution": {
     "iopub.execute_input": "2021-07-15T13:12:57.957049Z",
     "iopub.status.busy": "2021-07-15T13:12:57.956536Z",
     "iopub.status.idle": "2021-07-15T13:12:58.004900Z",
     "shell.execute_reply": "2021-07-15T13:12:58.003766Z",
     "shell.execute_reply.started": "2021-07-15T13:12:57.956790Z"
    }
   },
   "outputs": [
    {
     "name": "stdout",
     "output_type": "stream",
     "text": [
      "<class 'pandas.core.frame.DataFrame'>\n",
      "RangeIndex: 50000 entries, 0 to 49999\n",
      "Data columns (total 12 columns):\n",
      " #   Column                   Non-Null Count  Dtype  \n",
      "---  ------                   --------------  -----  \n",
      " 0   Restaurant_id            50000 non-null  object \n",
      " 1   City                     50000 non-null  object \n",
      " 2   Cuisine Style            50000 non-null  object \n",
      " 3   Ranking                  50000 non-null  float64\n",
      " 4   Price Range              50000 non-null  object \n",
      " 5   Number of Reviews        50000 non-null  float64\n",
      " 6   Reviews                  50000 non-null  object \n",
      " 7   URL_TA                   50000 non-null  object \n",
      " 8   ID_TA                    50000 non-null  object \n",
      " 9   sample                   50000 non-null  int64  \n",
      " 10  Rating                   50000 non-null  float64\n",
      " 11  Number_of_Reviews_isNAN  50000 non-null  uint8  \n",
      "dtypes: float64(3), int64(1), object(7), uint8(1)\n",
      "memory usage: 4.2+ MB\n"
     ]
    }
   ],
   "source": [
    "data.info()"
   ]
  },
  {
   "cell_type": "markdown",
   "metadata": {},
   "source": [
    "### 2. Обработка признаков\n",
    "Для начала посмотрим какие признаки у нас могут быть категориальными."
   ]
  },
  {
   "cell_type": "code",
   "execution_count": 27,
   "metadata": {
    "execution": {
     "iopub.execute_input": "2021-07-15T13:12:58.007008Z",
     "iopub.status.busy": "2021-07-15T13:12:58.006522Z",
     "iopub.status.idle": "2021-07-15T13:12:58.128245Z",
     "shell.execute_reply": "2021-07-15T13:12:58.127110Z",
     "shell.execute_reply.started": "2021-07-15T13:12:58.006914Z"
    }
   },
   "outputs": [
    {
     "data": {
      "text/plain": [
       "Restaurant_id              13094\n",
       "City                          31\n",
       "Cuisine Style              10732\n",
       "Ranking                    12975\n",
       "Price Range                    3\n",
       "Number of Reviews           1574\n",
       "Reviews                    41857\n",
       "URL_TA                     49963\n",
       "ID_TA                      49963\n",
       "sample                         2\n",
       "Rating                        10\n",
       "Number_of_Reviews_isNAN        2\n",
       "dtype: int64"
      ]
     },
     "execution_count": 27,
     "metadata": {},
     "output_type": "execute_result"
    }
   ],
   "source": [
    "data.nunique(dropna=False)"
   ]
  },
  {
   "cell_type": "markdown",
   "metadata": {},
   "source": [
    "Какие признаки можно считать категориальными?"
   ]
  },
  {
   "cell_type": "markdown",
   "metadata": {},
   "source": [
    "Для кодирования категориальных признаков есть множество подходов:\n",
    "* Label Encoding\n",
    "* One-Hot Encoding\n",
    "* Target Encoding\n",
    "* Hashing\n",
    "\n",
    "Выбор кодирования зависит от признака и выбраной модели.\n",
    "Не будем сейчас сильно погружаться в эту тематику, давайте посмотрим лучше пример с One-Hot Encoding:\n",
    "![](https://i.imgur.com/mtimFxh.png)"
   ]
  },
  {
   "cell_type": "code",
   "execution_count": 30,
   "metadata": {
    "execution": {
     "iopub.execute_input": "2021-07-15T13:12:58.129932Z",
     "iopub.status.busy": "2021-07-15T13:12:58.129664Z",
     "iopub.status.idle": "2021-07-15T13:12:58.271068Z",
     "shell.execute_reply": "2021-07-15T13:12:58.269946Z",
     "shell.execute_reply.started": "2021-07-15T13:12:58.129884Z"
    }
   },
   "outputs": [],
   "source": [
    "#признак 1 - столтца, 0 - не столица, численность населения в городах тыс.человек,\n",
    "#средняя зарплата в стране в долларах, количество (тыс.человек) гостей в гостиницах в 2018 году \n",
    "population_city = {'London': [1, 8173.921, 2703, 38664],\n",
    "                'Paris': [1, 2240.676, 3332, 89322],      \n",
    "                'Madrid': [1, 3155.368, 2133, 82808],\n",
    "                'Barcelona': [0, 1628.552, 2133, 82808], \n",
    "                'Berlin': [1, 3326.095, 4392, 38881], \n",
    "                'Milan': [0, 1331.586, 2726, 61567],\n",
    "                'Rome': [1, 2870.515, 2726, 61567],\n",
    "                'Prague': [1, 1272.783, 1454, 36268],\n",
    "                'Lisbon': [1, 547.828, 1288, 16186], \n",
    "                'Vienna': [1, 1765.700, 2940, 30816], \n",
    "                'Amsterdam': [1, 825.125, 3238, 18780],\n",
    "                'Brussels': [1, 144.835, 3930, 11715], \n",
    "                'Hamburg': [0, 1718.187, 4392, 38881], \n",
    "                'Munich': [0, 1364.992, 4392, 38881], \n",
    "                'Lyon': [0, 496.373, 3332, 89322],    \n",
    "                'Stockholm': [1, 1981.339, 2893, 7440], \n",
    "                'Budapest': [1, 1744.710, 1187, 17552], \n",
    "                'Warsaw': [1, 1720.442, 1253, 14283], \n",
    "                'Dublin': [1, 506.304, 3671, 10926],\n",
    "                'Copenhagen': [1, 1246.655, 6192, 12749],\n",
    "                'Athens': [1, 3168.940, 1203, 30123],\n",
    "                'Edinburgh': [0, 468.163, 2703, 38664],\n",
    "                'Zurich': [0, 402.294, 3930, 11715], \n",
    "                'Oporto': [1, 259.059, 1288, 16186],\n",
    "                'Geneva': [0, 196.173, 3930, 11715], \n",
    "                'Krakow': [0, 756.266, 1253, 14283],\n",
    "                'Oslo': [1, 673.519, 5450, 5688], \n",
    "                'Helsinki': [1, 574.679, 3908, 3224], \n",
    "                'Bratislava': [1, 413.207, 1283, 4869],\n",
    "                'Luxembourg': [1, 76.472, 5854, 1018],\n",
    "                'Ljubljana': [1, 277.597, 1914, 4425]} \n",
    "    \n",
    "#добавили столбец с численностью населения городов\n",
    "data['population'] = data.City.apply(lambda x: population_city[x][1])\n",
    "    \n",
    "#добавили столбец с признаком столицы\n",
    "data['capital'] = data.City.apply(lambda x: population_city[x][0])\n",
    "    \n",
    "#добавили столбец со средней зарплатой в стране в долларах\n",
    "data['salary'] = data.City.apply(lambda x: population_city[x][2])\n",
    "    \n",
    "#добавили столбец с количеством тыс. человек, которые жили в гостиницах в 2018 году \n",
    "data['mgzavreby'] = data.City.apply(lambda x: population_city[x][3])"
   ]
  },
  {
   "cell_type": "code",
   "execution_count": 31,
   "metadata": {
    "execution": {
     "iopub.execute_input": "2021-07-15T13:12:58.272650Z",
     "iopub.status.busy": "2021-07-15T13:12:58.272391Z",
     "iopub.status.idle": "2021-07-15T13:12:58.297880Z",
     "shell.execute_reply": "2021-07-15T13:12:58.297264Z",
     "shell.execute_reply.started": "2021-07-15T13:12:58.272603Z"
    }
   },
   "outputs": [
    {
     "data": {
      "text/html": [
       "<div>\n",
       "<style scoped>\n",
       "    .dataframe tbody tr th:only-of-type {\n",
       "        vertical-align: middle;\n",
       "    }\n",
       "\n",
       "    .dataframe tbody tr th {\n",
       "        vertical-align: top;\n",
       "    }\n",
       "\n",
       "    .dataframe thead th {\n",
       "        text-align: right;\n",
       "    }\n",
       "</style>\n",
       "<table border=\"1\" class=\"dataframe\">\n",
       "  <thead>\n",
       "    <tr style=\"text-align: right;\">\n",
       "      <th></th>\n",
       "      <th>Restaurant_id</th>\n",
       "      <th>City</th>\n",
       "      <th>Cuisine Style</th>\n",
       "      <th>Ranking</th>\n",
       "      <th>Price Range</th>\n",
       "      <th>Number of Reviews</th>\n",
       "      <th>Reviews</th>\n",
       "      <th>URL_TA</th>\n",
       "      <th>ID_TA</th>\n",
       "      <th>sample</th>\n",
       "      <th>Rating</th>\n",
       "      <th>Number_of_Reviews_isNAN</th>\n",
       "      <th>population</th>\n",
       "      <th>capital</th>\n",
       "      <th>salary</th>\n",
       "      <th>mgzavreby</th>\n",
       "    </tr>\n",
       "  </thead>\n",
       "  <tbody>\n",
       "    <tr>\n",
       "      <th>17432</th>\n",
       "      <td>id_1929</td>\n",
       "      <td>London</td>\n",
       "      <td>['Italian', 'Vegetarian Friendly', 'Gluten Fre...</td>\n",
       "      <td>1933.0</td>\n",
       "      <td>$$ - $$$</td>\n",
       "      <td>171.0</td>\n",
       "      <td>[['Favourite local restaurant!', 'A splendid T...</td>\n",
       "      <td>/Restaurant_Review-g186338-d2550578-Reviews-Ni...</td>\n",
       "      <td>d2550578</td>\n",
       "      <td>1</td>\n",
       "      <td>4.5</td>\n",
       "      <td>0</td>\n",
       "      <td>8173.921</td>\n",
       "      <td>1</td>\n",
       "      <td>2703</td>\n",
       "      <td>38664</td>\n",
       "    </tr>\n",
       "    <tr>\n",
       "      <th>12869</th>\n",
       "      <td>id_452</td>\n",
       "      <td>Ljubljana</td>\n",
       "      <td>['Steakhouse', 'European']</td>\n",
       "      <td>453.0</td>\n",
       "      <td>$$ - $$$</td>\n",
       "      <td>63.0</td>\n",
       "      <td>[['Many names for one place', 'Good location, ...</td>\n",
       "      <td>/Restaurant_Review-g274873-d2510196-Reviews-St...</td>\n",
       "      <td>d2510196</td>\n",
       "      <td>1</td>\n",
       "      <td>2.5</td>\n",
       "      <td>0</td>\n",
       "      <td>277.597</td>\n",
       "      <td>1</td>\n",
       "      <td>1914</td>\n",
       "      <td>4425</td>\n",
       "    </tr>\n",
       "    <tr>\n",
       "      <th>774</th>\n",
       "      <td>id_774</td>\n",
       "      <td>Prague</td>\n",
       "      <td>[]</td>\n",
       "      <td>3698.0</td>\n",
       "      <td>$$ - $$$</td>\n",
       "      <td>1.0</td>\n",
       "      <td>[[], []]</td>\n",
       "      <td>/Restaurant_Review-g274707-d12998030-Reviews-K...</td>\n",
       "      <td>d12998030</td>\n",
       "      <td>0</td>\n",
       "      <td>0.0</td>\n",
       "      <td>1</td>\n",
       "      <td>1272.783</td>\n",
       "      <td>1</td>\n",
       "      <td>1454</td>\n",
       "      <td>36268</td>\n",
       "    </tr>\n",
       "    <tr>\n",
       "      <th>1909</th>\n",
       "      <td>id_1909</td>\n",
       "      <td>London</td>\n",
       "      <td>['Cafe', 'Mediterranean', 'European', 'Spanish']</td>\n",
       "      <td>6096.0</td>\n",
       "      <td>$$ - $$$</td>\n",
       "      <td>21.0</td>\n",
       "      <td>[['Big brunch', 'Relaxed and informal atmosphe...</td>\n",
       "      <td>/Restaurant_Review-g186338-d10047724-Reviews-C...</td>\n",
       "      <td>d10047724</td>\n",
       "      <td>0</td>\n",
       "      <td>0.0</td>\n",
       "      <td>0</td>\n",
       "      <td>8173.921</td>\n",
       "      <td>1</td>\n",
       "      <td>2703</td>\n",
       "      <td>38664</td>\n",
       "    </tr>\n",
       "    <tr>\n",
       "      <th>43747</th>\n",
       "      <td>id_2102</td>\n",
       "      <td>Madrid</td>\n",
       "      <td>[]</td>\n",
       "      <td>2104.0</td>\n",
       "      <td>$$ - $$$</td>\n",
       "      <td>40.0</td>\n",
       "      <td>[['Gin &amp; Tonic like no other!', 'Exactly how i...</td>\n",
       "      <td>/Restaurant_Review-g187514-d7303776-Reviews-47...</td>\n",
       "      <td>d7303776</td>\n",
       "      <td>1</td>\n",
       "      <td>4.5</td>\n",
       "      <td>0</td>\n",
       "      <td>3155.368</td>\n",
       "      <td>1</td>\n",
       "      <td>2133</td>\n",
       "      <td>82808</td>\n",
       "    </tr>\n",
       "  </tbody>\n",
       "</table>\n",
       "</div>"
      ],
      "text/plain": [
       "      Restaurant_id       City  \\\n",
       "17432       id_1929     London   \n",
       "12869        id_452  Ljubljana   \n",
       "774          id_774     Prague   \n",
       "1909        id_1909     London   \n",
       "43747       id_2102     Madrid   \n",
       "\n",
       "                                           Cuisine Style  Ranking Price Range  \\\n",
       "17432  ['Italian', 'Vegetarian Friendly', 'Gluten Fre...   1933.0    $$ - $$$   \n",
       "12869                         ['Steakhouse', 'European']    453.0    $$ - $$$   \n",
       "774                                                   []   3698.0    $$ - $$$   \n",
       "1909    ['Cafe', 'Mediterranean', 'European', 'Spanish']   6096.0    $$ - $$$   \n",
       "43747                                                 []   2104.0    $$ - $$$   \n",
       "\n",
       "       Number of Reviews                                            Reviews  \\\n",
       "17432              171.0  [['Favourite local restaurant!', 'A splendid T...   \n",
       "12869               63.0  [['Many names for one place', 'Good location, ...   \n",
       "774                  1.0                                           [[], []]   \n",
       "1909                21.0  [['Big brunch', 'Relaxed and informal atmosphe...   \n",
       "43747               40.0  [['Gin & Tonic like no other!', 'Exactly how i...   \n",
       "\n",
       "                                                  URL_TA      ID_TA  sample  \\\n",
       "17432  /Restaurant_Review-g186338-d2550578-Reviews-Ni...   d2550578       1   \n",
       "12869  /Restaurant_Review-g274873-d2510196-Reviews-St...   d2510196       1   \n",
       "774    /Restaurant_Review-g274707-d12998030-Reviews-K...  d12998030       0   \n",
       "1909   /Restaurant_Review-g186338-d10047724-Reviews-C...  d10047724       0   \n",
       "43747  /Restaurant_Review-g187514-d7303776-Reviews-47...   d7303776       1   \n",
       "\n",
       "       Rating  Number_of_Reviews_isNAN  population  capital  salary  mgzavreby  \n",
       "17432     4.5                        0    8173.921        1    2703      38664  \n",
       "12869     2.5                        0     277.597        1    1914       4425  \n",
       "774       0.0                        1    1272.783        1    1454      36268  \n",
       "1909      0.0                        0    8173.921        1    2703      38664  \n",
       "43747     4.5                        0    3155.368        1    2133      82808  "
      ]
     },
     "execution_count": 31,
     "metadata": {},
     "output_type": "execute_result"
    }
   ],
   "source": [
    "data.sample(5)"
   ]
  },
  {
   "cell_type": "code",
   "execution_count": 32,
   "metadata": {
    "execution": {
     "iopub.execute_input": "2021-07-15T13:12:58.298936Z",
     "iopub.status.busy": "2021-07-15T13:12:58.298725Z",
     "iopub.status.idle": "2021-07-15T13:12:58.331258Z",
     "shell.execute_reply": "2021-07-15T13:12:58.330287Z",
     "shell.execute_reply.started": "2021-07-15T13:12:58.298905Z"
    }
   },
   "outputs": [],
   "source": [
    "# для One-Hot Encoding в pandas есть готовая функция - get_dummies. Особенно радует параметр dummy_na\n",
    "data = pd.get_dummies(data, columns=[ 'City',], dummy_na=True)"
   ]
  },
  {
   "cell_type": "code",
   "execution_count": 33,
   "metadata": {
    "execution": {
     "iopub.execute_input": "2021-07-15T13:12:58.333498Z",
     "iopub.status.busy": "2021-07-15T13:12:58.332792Z",
     "iopub.status.idle": "2021-07-15T13:12:58.391831Z",
     "shell.execute_reply": "2021-07-15T13:12:58.390943Z",
     "shell.execute_reply.started": "2021-07-15T13:12:58.333157Z"
    }
   },
   "outputs": [
    {
     "name": "stdout",
     "output_type": "stream",
     "text": [
      "<class 'pandas.core.frame.DataFrame'>\n",
      "RangeIndex: 50000 entries, 0 to 49999\n",
      "Data columns (total 47 columns):\n",
      " #   Column                   Non-Null Count  Dtype  \n",
      "---  ------                   --------------  -----  \n",
      " 0   Restaurant_id            50000 non-null  object \n",
      " 1   Cuisine Style            50000 non-null  object \n",
      " 2   Ranking                  50000 non-null  float64\n",
      " 3   Price Range              50000 non-null  object \n",
      " 4   Number of Reviews        50000 non-null  float64\n",
      " 5   Reviews                  50000 non-null  object \n",
      " 6   URL_TA                   50000 non-null  object \n",
      " 7   ID_TA                    50000 non-null  object \n",
      " 8   sample                   50000 non-null  int64  \n",
      " 9   Rating                   50000 non-null  float64\n",
      " 10  Number_of_Reviews_isNAN  50000 non-null  uint8  \n",
      " 11  population               50000 non-null  float64\n",
      " 12  capital                  50000 non-null  int64  \n",
      " 13  salary                   50000 non-null  int64  \n",
      " 14  mgzavreby                50000 non-null  int64  \n",
      " 15  City_Amsterdam           50000 non-null  uint8  \n",
      " 16  City_Athens              50000 non-null  uint8  \n",
      " 17  City_Barcelona           50000 non-null  uint8  \n",
      " 18  City_Berlin              50000 non-null  uint8  \n",
      " 19  City_Bratislava          50000 non-null  uint8  \n",
      " 20  City_Brussels            50000 non-null  uint8  \n",
      " 21  City_Budapest            50000 non-null  uint8  \n",
      " 22  City_Copenhagen          50000 non-null  uint8  \n",
      " 23  City_Dublin              50000 non-null  uint8  \n",
      " 24  City_Edinburgh           50000 non-null  uint8  \n",
      " 25  City_Geneva              50000 non-null  uint8  \n",
      " 26  City_Hamburg             50000 non-null  uint8  \n",
      " 27  City_Helsinki            50000 non-null  uint8  \n",
      " 28  City_Krakow              50000 non-null  uint8  \n",
      " 29  City_Lisbon              50000 non-null  uint8  \n",
      " 30  City_Ljubljana           50000 non-null  uint8  \n",
      " 31  City_London              50000 non-null  uint8  \n",
      " 32  City_Luxembourg          50000 non-null  uint8  \n",
      " 33  City_Lyon                50000 non-null  uint8  \n",
      " 34  City_Madrid              50000 non-null  uint8  \n",
      " 35  City_Milan               50000 non-null  uint8  \n",
      " 36  City_Munich              50000 non-null  uint8  \n",
      " 37  City_Oporto              50000 non-null  uint8  \n",
      " 38  City_Oslo                50000 non-null  uint8  \n",
      " 39  City_Paris               50000 non-null  uint8  \n",
      " 40  City_Prague              50000 non-null  uint8  \n",
      " 41  City_Rome                50000 non-null  uint8  \n",
      " 42  City_Stockholm           50000 non-null  uint8  \n",
      " 43  City_Vienna              50000 non-null  uint8  \n",
      " 44  City_Warsaw              50000 non-null  uint8  \n",
      " 45  City_Zurich              50000 non-null  uint8  \n",
      " 46  City_nan                 50000 non-null  uint8  \n",
      "dtypes: float64(4), int64(4), object(6), uint8(33)\n",
      "memory usage: 6.9+ MB\n"
     ]
    }
   ],
   "source": [
    "data.info()"
   ]
  },
  {
   "cell_type": "code",
   "execution_count": 34,
   "metadata": {
    "execution": {
     "iopub.execute_input": "2021-07-15T13:12:58.393801Z",
     "iopub.status.busy": "2021-07-15T13:12:58.393313Z",
     "iopub.status.idle": "2021-07-15T13:12:58.423780Z",
     "shell.execute_reply": "2021-07-15T13:12:58.422863Z",
     "shell.execute_reply.started": "2021-07-15T13:12:58.393745Z"
    }
   },
   "outputs": [
    {
     "data": {
      "text/html": [
       "<div>\n",
       "<style scoped>\n",
       "    .dataframe tbody tr th:only-of-type {\n",
       "        vertical-align: middle;\n",
       "    }\n",
       "\n",
       "    .dataframe tbody tr th {\n",
       "        vertical-align: top;\n",
       "    }\n",
       "\n",
       "    .dataframe thead th {\n",
       "        text-align: right;\n",
       "    }\n",
       "</style>\n",
       "<table border=\"1\" class=\"dataframe\">\n",
       "  <thead>\n",
       "    <tr style=\"text-align: right;\">\n",
       "      <th></th>\n",
       "      <th>Restaurant_id</th>\n",
       "      <th>Cuisine Style</th>\n",
       "      <th>Ranking</th>\n",
       "      <th>Price Range</th>\n",
       "      <th>Number of Reviews</th>\n",
       "      <th>Reviews</th>\n",
       "      <th>URL_TA</th>\n",
       "      <th>ID_TA</th>\n",
       "      <th>sample</th>\n",
       "      <th>Rating</th>\n",
       "      <th>...</th>\n",
       "      <th>City_Oporto</th>\n",
       "      <th>City_Oslo</th>\n",
       "      <th>City_Paris</th>\n",
       "      <th>City_Prague</th>\n",
       "      <th>City_Rome</th>\n",
       "      <th>City_Stockholm</th>\n",
       "      <th>City_Vienna</th>\n",
       "      <th>City_Warsaw</th>\n",
       "      <th>City_Zurich</th>\n",
       "      <th>City_nan</th>\n",
       "    </tr>\n",
       "  </thead>\n",
       "  <tbody>\n",
       "    <tr>\n",
       "      <th>42338</th>\n",
       "      <td>id_6697</td>\n",
       "      <td>['Mediterranean', 'Middle Eastern', 'Barbecue'...</td>\n",
       "      <td>6706.0</td>\n",
       "      <td>$</td>\n",
       "      <td>16.0</td>\n",
       "      <td>[['5* Turkish Meal !!', 'Delicious'], ['08/24/...</td>\n",
       "      <td>/Restaurant_Review-g186338-d4925029-Reviews-Su...</td>\n",
       "      <td>d4925029</td>\n",
       "      <td>1</td>\n",
       "      <td>5.0</td>\n",
       "      <td>...</td>\n",
       "      <td>0</td>\n",
       "      <td>0</td>\n",
       "      <td>0</td>\n",
       "      <td>0</td>\n",
       "      <td>0</td>\n",
       "      <td>0</td>\n",
       "      <td>0</td>\n",
       "      <td>0</td>\n",
       "      <td>0</td>\n",
       "      <td>0</td>\n",
       "    </tr>\n",
       "    <tr>\n",
       "      <th>33014</th>\n",
       "      <td>id_2802</td>\n",
       "      <td>['Italian', 'European', 'Delicatessen']</td>\n",
       "      <td>2804.0</td>\n",
       "      <td>$$ - $$$</td>\n",
       "      <td>6.0</td>\n",
       "      <td>[[], []]</td>\n",
       "      <td>/Restaurant_Review-g187849-d12860472-Reviews-P...</td>\n",
       "      <td>d12860472</td>\n",
       "      <td>1</td>\n",
       "      <td>4.5</td>\n",
       "      <td>...</td>\n",
       "      <td>0</td>\n",
       "      <td>0</td>\n",
       "      <td>0</td>\n",
       "      <td>0</td>\n",
       "      <td>0</td>\n",
       "      <td>0</td>\n",
       "      <td>0</td>\n",
       "      <td>0</td>\n",
       "      <td>0</td>\n",
       "      <td>0</td>\n",
       "    </tr>\n",
       "    <tr>\n",
       "      <th>40159</th>\n",
       "      <td>id_10218</td>\n",
       "      <td>[]</td>\n",
       "      <td>10220.0</td>\n",
       "      <td>$$ - $$$</td>\n",
       "      <td>3.0</td>\n",
       "      <td>[['Their famous hot-dog was...disappointing......</td>\n",
       "      <td>/Restaurant_Review-g187147-d11742535-Reviews-M...</td>\n",
       "      <td>d11742535</td>\n",
       "      <td>1</td>\n",
       "      <td>4.0</td>\n",
       "      <td>...</td>\n",
       "      <td>0</td>\n",
       "      <td>0</td>\n",
       "      <td>1</td>\n",
       "      <td>0</td>\n",
       "      <td>0</td>\n",
       "      <td>0</td>\n",
       "      <td>0</td>\n",
       "      <td>0</td>\n",
       "      <td>0</td>\n",
       "      <td>0</td>\n",
       "    </tr>\n",
       "    <tr>\n",
       "      <th>21396</th>\n",
       "      <td>id_1896</td>\n",
       "      <td>['Italian', 'Mediterranean', 'Seafood', 'Veget...</td>\n",
       "      <td>1898.0</td>\n",
       "      <td>$$ - $$$</td>\n",
       "      <td>189.0</td>\n",
       "      <td>[['Good Food, Nice Place', \"Harry's Bar a grea...</td>\n",
       "      <td>/Restaurant_Review-g187849-d2339817-Reviews-Ha...</td>\n",
       "      <td>d2339817</td>\n",
       "      <td>1</td>\n",
       "      <td>4.0</td>\n",
       "      <td>...</td>\n",
       "      <td>0</td>\n",
       "      <td>0</td>\n",
       "      <td>0</td>\n",
       "      <td>0</td>\n",
       "      <td>0</td>\n",
       "      <td>0</td>\n",
       "      <td>0</td>\n",
       "      <td>0</td>\n",
       "      <td>0</td>\n",
       "      <td>0</td>\n",
       "    </tr>\n",
       "    <tr>\n",
       "      <th>26484</th>\n",
       "      <td>id_7872</td>\n",
       "      <td>[]</td>\n",
       "      <td>7881.0</td>\n",
       "      <td>$$ - $$$</td>\n",
       "      <td>8.0</td>\n",
       "      <td>[['Delicious flavours in a basic restaurant', ...</td>\n",
       "      <td>/Restaurant_Review-g186338-d10028267-Reviews-B...</td>\n",
       "      <td>d10028267</td>\n",
       "      <td>1</td>\n",
       "      <td>4.5</td>\n",
       "      <td>...</td>\n",
       "      <td>0</td>\n",
       "      <td>0</td>\n",
       "      <td>0</td>\n",
       "      <td>0</td>\n",
       "      <td>0</td>\n",
       "      <td>0</td>\n",
       "      <td>0</td>\n",
       "      <td>0</td>\n",
       "      <td>0</td>\n",
       "      <td>0</td>\n",
       "    </tr>\n",
       "  </tbody>\n",
       "</table>\n",
       "<p>5 rows × 47 columns</p>\n",
       "</div>"
      ],
      "text/plain": [
       "      Restaurant_id                                      Cuisine Style  \\\n",
       "42338       id_6697  ['Mediterranean', 'Middle Eastern', 'Barbecue'...   \n",
       "33014       id_2802            ['Italian', 'European', 'Delicatessen']   \n",
       "40159      id_10218                                                 []   \n",
       "21396       id_1896  ['Italian', 'Mediterranean', 'Seafood', 'Veget...   \n",
       "26484       id_7872                                                 []   \n",
       "\n",
       "       Ranking Price Range  Number of Reviews  \\\n",
       "42338   6706.0           $               16.0   \n",
       "33014   2804.0    $$ - $$$                6.0   \n",
       "40159  10220.0    $$ - $$$                3.0   \n",
       "21396   1898.0    $$ - $$$              189.0   \n",
       "26484   7881.0    $$ - $$$                8.0   \n",
       "\n",
       "                                                 Reviews  \\\n",
       "42338  [['5* Turkish Meal !!', 'Delicious'], ['08/24/...   \n",
       "33014                                           [[], []]   \n",
       "40159  [['Their famous hot-dog was...disappointing......   \n",
       "21396  [['Good Food, Nice Place', \"Harry's Bar a grea...   \n",
       "26484  [['Delicious flavours in a basic restaurant', ...   \n",
       "\n",
       "                                                  URL_TA      ID_TA  sample  \\\n",
       "42338  /Restaurant_Review-g186338-d4925029-Reviews-Su...   d4925029       1   \n",
       "33014  /Restaurant_Review-g187849-d12860472-Reviews-P...  d12860472       1   \n",
       "40159  /Restaurant_Review-g187147-d11742535-Reviews-M...  d11742535       1   \n",
       "21396  /Restaurant_Review-g187849-d2339817-Reviews-Ha...   d2339817       1   \n",
       "26484  /Restaurant_Review-g186338-d10028267-Reviews-B...  d10028267       1   \n",
       "\n",
       "       Rating  ...  City_Oporto  City_Oslo  City_Paris  City_Prague  \\\n",
       "42338     5.0  ...            0          0           0            0   \n",
       "33014     4.5  ...            0          0           0            0   \n",
       "40159     4.0  ...            0          0           1            0   \n",
       "21396     4.0  ...            0          0           0            0   \n",
       "26484     4.5  ...            0          0           0            0   \n",
       "\n",
       "       City_Rome  City_Stockholm  City_Vienna  City_Warsaw  City_Zurich  \\\n",
       "42338          0               0            0            0            0   \n",
       "33014          0               0            0            0            0   \n",
       "40159          0               0            0            0            0   \n",
       "21396          0               0            0            0            0   \n",
       "26484          0               0            0            0            0   \n",
       "\n",
       "       City_nan  \n",
       "42338         0  \n",
       "33014         0  \n",
       "40159         0  \n",
       "21396         0  \n",
       "26484         0  \n",
       "\n",
       "[5 rows x 47 columns]"
      ]
     },
     "execution_count": 34,
     "metadata": {},
     "output_type": "execute_result"
    }
   ],
   "source": [
    "data.sample(5)"
   ]
  },
  {
   "cell_type": "markdown",
   "metadata": {},
   "source": [
    "#### Возьмем следующий признак \"Price Range\"."
   ]
  },
  {
   "cell_type": "code",
   "execution_count": 35,
   "metadata": {
    "execution": {
     "iopub.execute_input": "2021-07-15T13:12:58.425572Z",
     "iopub.status.busy": "2021-07-15T13:12:58.425088Z",
     "iopub.status.idle": "2021-07-15T13:12:58.446658Z",
     "shell.execute_reply": "2021-07-15T13:12:58.445930Z",
     "shell.execute_reply.started": "2021-07-15T13:12:58.425517Z"
    }
   },
   "outputs": [
    {
     "data": {
      "text/plain": [
       "$$ - $$$    40402\n",
       "$            7816\n",
       "$$$$         1782\n",
       "Name: Price Range, dtype: int64"
      ]
     },
     "execution_count": 35,
     "metadata": {},
     "output_type": "execute_result"
    }
   ],
   "source": [
    "data['Price Range'].value_counts()"
   ]
  },
  {
   "cell_type": "markdown",
   "metadata": {},
   "source": [
    "По описанию 'Price Range' это - Цены в ресторане.  \n",
    "Их можно поставить по возрастанию (значит это не категориальный признак). А это значит, что их можно заменить последовательными числами, например 1,2,3  \n",
    "*Попробуйте сделать обработку этого признака уже самостоятельно!*"
   ]
  },
  {
   "cell_type": "code",
   "execution_count": 34,
   "metadata": {
    "execution": {
     "iopub.execute_input": "2021-07-15T13:12:58.448584Z",
     "iopub.status.busy": "2021-07-15T13:12:58.448247Z",
     "iopub.status.idle": "2021-07-15T13:12:58.454040Z",
     "shell.execute_reply": "2021-07-15T13:12:58.453259Z",
     "shell.execute_reply.started": "2021-07-15T13:12:58.448529Z"
    }
   },
   "outputs": [],
   "source": [
    "# Ваша обработка 'Price Range'"
   ]
  },
  {
   "cell_type": "code",
   "execution_count": 36,
   "metadata": {
    "execution": {
     "iopub.execute_input": "2021-07-15T13:12:58.455853Z",
     "iopub.status.busy": "2021-07-15T13:12:58.455569Z",
     "iopub.status.idle": "2021-07-15T13:12:58.461686Z",
     "shell.execute_reply": "2021-07-15T13:12:58.460899Z",
     "shell.execute_reply.started": "2021-07-15T13:12:58.455792Z"
    }
   },
   "outputs": [],
   "source": [
    "price_range = {'$': 1,\n",
    "               '$$ - $$$': 2,\n",
    "               '$$$$': 3}"
   ]
  },
  {
   "cell_type": "code",
   "execution_count": 37,
   "metadata": {
    "execution": {
     "iopub.execute_input": "2021-07-15T13:12:58.464128Z",
     "iopub.status.busy": "2021-07-15T13:12:58.463789Z",
     "iopub.status.idle": "2021-07-15T13:12:58.504781Z",
     "shell.execute_reply": "2021-07-15T13:12:58.503689Z",
     "shell.execute_reply.started": "2021-07-15T13:12:58.464067Z"
    }
   },
   "outputs": [
    {
     "data": {
      "text/plain": [
       "2    40402\n",
       "1     7816\n",
       "3     1782\n",
       "Name: PriceRangeInt, dtype: int64"
      ]
     },
     "execution_count": 37,
     "metadata": {},
     "output_type": "execute_result"
    }
   ],
   "source": [
    "data['PriceRangeInt'] = data['Price Range'].apply(lambda x: price_range[x])\n",
    "data['PriceRangeInt'].value_counts()"
   ]
  },
  {
   "cell_type": "code",
   "execution_count": null,
   "metadata": {},
   "outputs": [],
   "source": []
  },
  {
   "cell_type": "markdown",
   "metadata": {},
   "source": [
    "> Для некоторых алгоритмов МЛ даже для не категориальных признаков можно применить One-Hot Encoding, и это может улучшить качество модели. Пробуйте разные подходы к кодированию признака - никто не знает заранее, что может взлететь."
   ]
  },
  {
   "cell_type": "markdown",
   "metadata": {},
   "source": [
    "### Обработать другие признаки вы должны самостоятельно!\n",
    "Для обработки других признаков вам возможно придется даже написать свою функцию, а может даже и не одну, но в этом и есть ваша практика в этом модуле!     \n",
    "Следуя подсказкам в модуле вы сможете более подробно узнать, как сделать эти приобразования."
   ]
  },
  {
   "cell_type": "code",
   "execution_count": 37,
   "metadata": {
    "execution": {
     "iopub.execute_input": "2021-07-15T13:12:58.506733Z",
     "iopub.status.busy": "2021-07-15T13:12:58.506258Z",
     "iopub.status.idle": "2021-07-15T13:12:58.511168Z",
     "shell.execute_reply": "2021-07-15T13:12:58.510268Z",
     "shell.execute_reply.started": "2021-07-15T13:12:58.506661Z"
    }
   },
   "outputs": [],
   "source": [
    "# тут ваш код на обработку других признаков"
   ]
  },
  {
   "cell_type": "code",
   "execution_count": 39,
   "metadata": {
    "execution": {
     "iopub.execute_input": "2021-07-15T13:12:58.512911Z",
     "iopub.status.busy": "2021-07-15T13:12:58.512607Z",
     "iopub.status.idle": "2021-07-15T13:12:58.619053Z",
     "shell.execute_reply": "2021-07-15T13:12:58.618040Z",
     "shell.execute_reply.started": "2021-07-15T13:12:58.512860Z"
    }
   },
   "outputs": [],
   "source": [
    "#преобразуем значения стобца Cuisine Style из строки в список\n",
    "def CuisineStyle_to_list(s):\n",
    "        if s != '[]':\n",
    "            l = [c.strip()[1:-1] for c in s[1:-1].split(',')] \n",
    "        else: l = ['other']\n",
    "        return l\n",
    "\n",
    "data['Cuisine Style'] = data['Cuisine Style'].apply(CuisineStyle_to_list)\n",
    "    "
   ]
  },
  {
   "cell_type": "code",
   "execution_count": 40,
   "metadata": {
    "execution": {
     "iopub.execute_input": "2021-07-15T13:12:58.620657Z",
     "iopub.status.busy": "2021-07-15T13:12:58.620383Z",
     "iopub.status.idle": "2021-07-15T13:12:58.654641Z",
     "shell.execute_reply": "2021-07-15T13:12:58.653719Z",
     "shell.execute_reply.started": "2021-07-15T13:12:58.620607Z"
    }
   },
   "outputs": [
    {
     "data": {
      "text/html": [
       "<div>\n",
       "<style scoped>\n",
       "    .dataframe tbody tr th:only-of-type {\n",
       "        vertical-align: middle;\n",
       "    }\n",
       "\n",
       "    .dataframe tbody tr th {\n",
       "        vertical-align: top;\n",
       "    }\n",
       "\n",
       "    .dataframe thead th {\n",
       "        text-align: right;\n",
       "    }\n",
       "</style>\n",
       "<table border=\"1\" class=\"dataframe\">\n",
       "  <thead>\n",
       "    <tr style=\"text-align: right;\">\n",
       "      <th></th>\n",
       "      <th>Restaurant_id</th>\n",
       "      <th>Cuisine Style</th>\n",
       "      <th>Ranking</th>\n",
       "      <th>Price Range</th>\n",
       "      <th>Number of Reviews</th>\n",
       "      <th>Reviews</th>\n",
       "      <th>URL_TA</th>\n",
       "      <th>ID_TA</th>\n",
       "      <th>sample</th>\n",
       "      <th>Rating</th>\n",
       "      <th>...</th>\n",
       "      <th>City_Oslo</th>\n",
       "      <th>City_Paris</th>\n",
       "      <th>City_Prague</th>\n",
       "      <th>City_Rome</th>\n",
       "      <th>City_Stockholm</th>\n",
       "      <th>City_Vienna</th>\n",
       "      <th>City_Warsaw</th>\n",
       "      <th>City_Zurich</th>\n",
       "      <th>City_nan</th>\n",
       "      <th>PriceRangeInt</th>\n",
       "    </tr>\n",
       "  </thead>\n",
       "  <tbody>\n",
       "    <tr>\n",
       "      <th>34822</th>\n",
       "      <td>id_2802</td>\n",
       "      <td>[other]</td>\n",
       "      <td>2804.0</td>\n",
       "      <td>$$ - $$$</td>\n",
       "      <td>8.0</td>\n",
       "      <td>[['Good neighborhood konditorei/coffee shop'],...</td>\n",
       "      <td>/Restaurant_Review-g190454-d10831182-Reviews-N...</td>\n",
       "      <td>d10831182</td>\n",
       "      <td>1</td>\n",
       "      <td>4.0</td>\n",
       "      <td>...</td>\n",
       "      <td>0</td>\n",
       "      <td>0</td>\n",
       "      <td>0</td>\n",
       "      <td>0</td>\n",
       "      <td>0</td>\n",
       "      <td>1</td>\n",
       "      <td>0</td>\n",
       "      <td>0</td>\n",
       "      <td>0</td>\n",
       "      <td>2</td>\n",
       "    </tr>\n",
       "    <tr>\n",
       "      <th>23860</th>\n",
       "      <td>id_223</td>\n",
       "      <td>[Japanese, Sushi, Asian, Soups, Vegetarian Fri...</td>\n",
       "      <td>224.0</td>\n",
       "      <td>$$$$</td>\n",
       "      <td>732.0</td>\n",
       "      <td>[['Good japanese food but quite expensive', 'A...</td>\n",
       "      <td>/Restaurant_Review-g187849-d1105260-Reviews-Os...</td>\n",
       "      <td>d1105260</td>\n",
       "      <td>1</td>\n",
       "      <td>4.0</td>\n",
       "      <td>...</td>\n",
       "      <td>0</td>\n",
       "      <td>0</td>\n",
       "      <td>0</td>\n",
       "      <td>0</td>\n",
       "      <td>0</td>\n",
       "      <td>0</td>\n",
       "      <td>0</td>\n",
       "      <td>0</td>\n",
       "      <td>0</td>\n",
       "      <td>3</td>\n",
       "    </tr>\n",
       "    <tr>\n",
       "      <th>7116</th>\n",
       "      <td>id_7116</td>\n",
       "      <td>[Italian, European, Pizza, Mediterranean, Vege...</td>\n",
       "      <td>2617.0</td>\n",
       "      <td>$$ - $$$</td>\n",
       "      <td>62.0</td>\n",
       "      <td>[['Cool place', 'Surprised by negative reviews...</td>\n",
       "      <td>/Restaurant_Review-g187323-d5819147-Reviews-Pe...</td>\n",
       "      <td>d5819147</td>\n",
       "      <td>0</td>\n",
       "      <td>0.0</td>\n",
       "      <td>...</td>\n",
       "      <td>0</td>\n",
       "      <td>0</td>\n",
       "      <td>0</td>\n",
       "      <td>0</td>\n",
       "      <td>0</td>\n",
       "      <td>0</td>\n",
       "      <td>0</td>\n",
       "      <td>0</td>\n",
       "      <td>0</td>\n",
       "      <td>2</td>\n",
       "    </tr>\n",
       "    <tr>\n",
       "      <th>10539</th>\n",
       "      <td>id_8120</td>\n",
       "      <td>[other]</td>\n",
       "      <td>8129.0</td>\n",
       "      <td>$$ - $$$</td>\n",
       "      <td>3.0</td>\n",
       "      <td>[['Best of its kind!', 'Brilliant cafe'], ['11...</td>\n",
       "      <td>/Restaurant_Review-g186338-d11842481-Reviews-D...</td>\n",
       "      <td>d11842481</td>\n",
       "      <td>1</td>\n",
       "      <td>5.0</td>\n",
       "      <td>...</td>\n",
       "      <td>0</td>\n",
       "      <td>0</td>\n",
       "      <td>0</td>\n",
       "      <td>0</td>\n",
       "      <td>0</td>\n",
       "      <td>0</td>\n",
       "      <td>0</td>\n",
       "      <td>0</td>\n",
       "      <td>0</td>\n",
       "      <td>2</td>\n",
       "    </tr>\n",
       "    <tr>\n",
       "      <th>12550</th>\n",
       "      <td>id_727</td>\n",
       "      <td>[Cafe, British, Vegetarian Friendly, Vegan Opt...</td>\n",
       "      <td>728.0</td>\n",
       "      <td>$$ - $$$</td>\n",
       "      <td>339.0</td>\n",
       "      <td>[['So good we came back the next day!', 'Gorge...</td>\n",
       "      <td>/Restaurant_Review-g186338-d1989026-Reviews-Pi...</td>\n",
       "      <td>d1989026</td>\n",
       "      <td>1</td>\n",
       "      <td>4.5</td>\n",
       "      <td>...</td>\n",
       "      <td>0</td>\n",
       "      <td>0</td>\n",
       "      <td>0</td>\n",
       "      <td>0</td>\n",
       "      <td>0</td>\n",
       "      <td>0</td>\n",
       "      <td>0</td>\n",
       "      <td>0</td>\n",
       "      <td>0</td>\n",
       "      <td>2</td>\n",
       "    </tr>\n",
       "  </tbody>\n",
       "</table>\n",
       "<p>5 rows × 48 columns</p>\n",
       "</div>"
      ],
      "text/plain": [
       "      Restaurant_id                                      Cuisine Style  \\\n",
       "34822       id_2802                                            [other]   \n",
       "23860        id_223  [Japanese, Sushi, Asian, Soups, Vegetarian Fri...   \n",
       "7116        id_7116  [Italian, European, Pizza, Mediterranean, Vege...   \n",
       "10539       id_8120                                            [other]   \n",
       "12550        id_727  [Cafe, British, Vegetarian Friendly, Vegan Opt...   \n",
       "\n",
       "       Ranking Price Range  Number of Reviews  \\\n",
       "34822   2804.0    $$ - $$$                8.0   \n",
       "23860    224.0        $$$$              732.0   \n",
       "7116    2617.0    $$ - $$$               62.0   \n",
       "10539   8129.0    $$ - $$$                3.0   \n",
       "12550    728.0    $$ - $$$              339.0   \n",
       "\n",
       "                                                 Reviews  \\\n",
       "34822  [['Good neighborhood konditorei/coffee shop'],...   \n",
       "23860  [['Good japanese food but quite expensive', 'A...   \n",
       "7116   [['Cool place', 'Surprised by negative reviews...   \n",
       "10539  [['Best of its kind!', 'Brilliant cafe'], ['11...   \n",
       "12550  [['So good we came back the next day!', 'Gorge...   \n",
       "\n",
       "                                                  URL_TA      ID_TA  sample  \\\n",
       "34822  /Restaurant_Review-g190454-d10831182-Reviews-N...  d10831182       1   \n",
       "23860  /Restaurant_Review-g187849-d1105260-Reviews-Os...   d1105260       1   \n",
       "7116   /Restaurant_Review-g187323-d5819147-Reviews-Pe...   d5819147       0   \n",
       "10539  /Restaurant_Review-g186338-d11842481-Reviews-D...  d11842481       1   \n",
       "12550  /Restaurant_Review-g186338-d1989026-Reviews-Pi...   d1989026       1   \n",
       "\n",
       "       Rating  ...  City_Oslo  City_Paris  City_Prague  City_Rome  \\\n",
       "34822     4.0  ...          0           0            0          0   \n",
       "23860     4.0  ...          0           0            0          0   \n",
       "7116      0.0  ...          0           0            0          0   \n",
       "10539     5.0  ...          0           0            0          0   \n",
       "12550     4.5  ...          0           0            0          0   \n",
       "\n",
       "       City_Stockholm  City_Vienna  City_Warsaw  City_Zurich  City_nan  \\\n",
       "34822               0            1            0            0         0   \n",
       "23860               0            0            0            0         0   \n",
       "7116                0            0            0            0         0   \n",
       "10539               0            0            0            0         0   \n",
       "12550               0            0            0            0         0   \n",
       "\n",
       "       PriceRangeInt  \n",
       "34822              2  \n",
       "23860              3  \n",
       "7116               2  \n",
       "10539              2  \n",
       "12550              2  \n",
       "\n",
       "[5 rows x 48 columns]"
      ]
     },
     "execution_count": 40,
     "metadata": {},
     "output_type": "execute_result"
    }
   ],
   "source": [
    "data.sample(5)"
   ]
  },
  {
   "cell_type": "code",
   "execution_count": 41,
   "metadata": {
    "execution": {
     "iopub.execute_input": "2021-07-15T13:12:58.656214Z",
     "iopub.status.busy": "2021-07-15T13:12:58.655968Z",
     "iopub.status.idle": "2021-07-15T13:12:58.661516Z",
     "shell.execute_reply": "2021-07-15T13:12:58.660701Z",
     "shell.execute_reply.started": "2021-07-15T13:12:58.656165Z"
    }
   },
   "outputs": [
    {
     "data": {
      "text/plain": [
       "list"
      ]
     },
     "execution_count": 41,
     "metadata": {},
     "output_type": "execute_result"
    }
   ],
   "source": [
    "type(data['Cuisine Style'][0])"
   ]
  },
  {
   "cell_type": "code",
   "execution_count": 42,
   "metadata": {
    "execution": {
     "iopub.execute_input": "2021-07-15T13:12:58.663418Z",
     "iopub.status.busy": "2021-07-15T13:12:58.662976Z",
     "iopub.status.idle": "2021-07-15T13:12:58.704866Z",
     "shell.execute_reply": "2021-07-15T13:12:58.704133Z",
     "shell.execute_reply.started": "2021-07-15T13:12:58.663197Z"
    }
   },
   "outputs": [],
   "source": [
    "#добавили столбец с количеством типов кухонь в каждом ресторане\n",
    "data['count_cuisines'] = data['Cuisine Style'].apply(lambda x: len(x))"
   ]
  },
  {
   "cell_type": "code",
   "execution_count": 43,
   "metadata": {
    "execution": {
     "iopub.execute_input": "2021-07-15T13:12:58.706340Z",
     "iopub.status.busy": "2021-07-15T13:12:58.706086Z",
     "iopub.status.idle": "2021-07-15T13:12:58.715995Z",
     "shell.execute_reply": "2021-07-15T13:12:58.715016Z",
     "shell.execute_reply.started": "2021-07-15T13:12:58.706293Z"
    }
   },
   "outputs": [
    {
     "data": {
      "text/plain": [
       "1     20744\n",
       "2      7794\n",
       "3      6638\n",
       "4      5948\n",
       "5      4482\n",
       "6      2611\n",
       "7      1294\n",
       "8       363\n",
       "9        93\n",
       "10       26\n",
       "11        4\n",
       "21        1\n",
       "15        1\n",
       "13        1\n",
       "Name: count_cuisines, dtype: int64"
      ]
     },
     "execution_count": 43,
     "metadata": {},
     "output_type": "execute_result"
    }
   ],
   "source": [
    "data['count_cuisines'].value_counts()"
   ]
  },
  {
   "cell_type": "code",
   "execution_count": 44,
   "metadata": {
    "execution": {
     "iopub.execute_input": "2021-07-15T13:12:58.717699Z",
     "iopub.status.busy": "2021-07-15T13:12:58.717452Z",
     "iopub.status.idle": "2021-07-15T13:13:00.764071Z",
     "shell.execute_reply": "2021-07-15T13:13:00.763260Z",
     "shell.execute_reply.started": "2021-07-15T13:12:58.717653Z"
    }
   },
   "outputs": [],
   "source": [
    "#нашли индекс популярности типов кухонь ресторана и добавили соответстующий столбец\n",
    "def index_popular(s):\n",
    "    i = 0\n",
    "    for c in s:\n",
    "        for p in popular_cuisines: \n",
    "            if c == p:    i+=1\n",
    "    return i\n",
    "\n",
    "cuisines = []\n",
    "for s in data['Cuisine Style']:\n",
    "    if s[0] != 'other':\n",
    "        cuisines += s\n",
    "cuisines_s = pd.Series(cuisines)\n",
    "popular_cuisines = cuisines_s.value_counts().index[:6]\n",
    "data['IndexPopularCuisines'] = data['Cuisine Style'].apply(index_popular)"
   ]
  },
  {
   "cell_type": "code",
   "execution_count": 45,
   "metadata": {
    "execution": {
     "iopub.execute_input": "2021-07-15T13:13:00.765477Z",
     "iopub.status.busy": "2021-07-15T13:13:00.765259Z",
     "iopub.status.idle": "2021-07-15T13:13:00.816841Z",
     "shell.execute_reply": "2021-07-15T13:13:00.815945Z",
     "shell.execute_reply.started": "2021-07-15T13:13:00.765444Z"
    }
   },
   "outputs": [
    {
     "name": "stdout",
     "output_type": "stream",
     "text": [
      "125\n"
     ]
    },
    {
     "data": {
      "text/plain": [
       "Vegetarian Friendly    14021\n",
       "European               12561\n",
       "Mediterranean           7820\n",
       "Italian                 7433\n",
       "Vegan Options           5684\n",
       "Gluten Free Options     5185\n",
       "Bar                     4094\n",
       "French                  3970\n",
       "Asian                   3786\n",
       "Pizza                   3502\n",
       "Spanish                 3456\n",
       "dtype: int64"
      ]
     },
     "execution_count": 45,
     "metadata": {},
     "output_type": "execute_result"
    }
   ],
   "source": [
    "print(len(cuisines_s.unique()))\n",
    "cuisines_s.value_counts().head(11)"
   ]
  },
  {
   "cell_type": "code",
   "execution_count": 46,
   "metadata": {
    "execution": {
     "iopub.execute_input": "2021-07-15T13:13:00.818364Z",
     "iopub.status.busy": "2021-07-15T13:13:00.818014Z",
     "iopub.status.idle": "2021-07-15T13:13:00.826469Z",
     "shell.execute_reply": "2021-07-15T13:13:00.825448Z",
     "shell.execute_reply.started": "2021-07-15T13:13:00.818202Z"
    }
   },
   "outputs": [
    {
     "data": {
      "text/plain": [
       "0    24331\n",
       "1    11685\n",
       "2     6274\n",
       "3     4025\n",
       "4     2349\n",
       "5     1016\n",
       "6      320\n",
       "Name: IndexPopularCuisines, dtype: int64"
      ]
     },
     "execution_count": 46,
     "metadata": {},
     "output_type": "execute_result"
    }
   ],
   "source": [
    "data['IndexPopularCuisines'].value_counts()"
   ]
  },
  {
   "cell_type": "code",
   "execution_count": 47,
   "metadata": {
    "execution": {
     "iopub.execute_input": "2021-07-15T13:13:00.828149Z",
     "iopub.status.busy": "2021-07-15T13:13:00.827759Z",
     "iopub.status.idle": "2021-07-15T13:13:00.834045Z",
     "shell.execute_reply": "2021-07-15T13:13:00.833230Z",
     "shell.execute_reply.started": "2021-07-15T13:13:00.828104Z"
    }
   },
   "outputs": [
    {
     "data": {
      "text/plain": [
       "Index(['Vegetarian Friendly', 'European', 'Mediterranean', 'Italian',\n",
       "       'Vegan Options', 'Gluten Free Options'],\n",
       "      dtype='object')"
      ]
     },
     "execution_count": 47,
     "metadata": {},
     "output_type": "execute_result"
    }
   ],
   "source": [
    "popular_cuisines"
   ]
  },
  {
   "cell_type": "code",
   "execution_count": 48,
   "metadata": {
    "execution": {
     "iopub.execute_input": "2021-07-15T13:13:00.835709Z",
     "iopub.status.busy": "2021-07-15T13:13:00.835251Z",
     "iopub.status.idle": "2021-07-15T13:13:01.148122Z",
     "shell.execute_reply": "2021-07-15T13:13:01.147297Z",
     "shell.execute_reply.started": "2021-07-15T13:13:00.835667Z"
    }
   },
   "outputs": [
    {
     "name": "stdout",
     "output_type": "stream",
     "text": [
      "<class 'pandas.core.frame.DataFrame'>\n",
      "RangeIndex: 50000 entries, 0 to 49999\n",
      "Data columns (total 56 columns):\n",
      " #   Column                   Non-Null Count  Dtype  \n",
      "---  ------                   --------------  -----  \n",
      " 0   Restaurant_id            50000 non-null  object \n",
      " 1   Cuisine Style            50000 non-null  object \n",
      " 2   Ranking                  50000 non-null  float64\n",
      " 3   Price Range              50000 non-null  object \n",
      " 4   Number of Reviews        50000 non-null  float64\n",
      " 5   Reviews                  50000 non-null  object \n",
      " 6   URL_TA                   50000 non-null  object \n",
      " 7   ID_TA                    50000 non-null  object \n",
      " 8   sample                   50000 non-null  int64  \n",
      " 9   Rating                   50000 non-null  float64\n",
      " 10  Number_of_Reviews_isNAN  50000 non-null  uint8  \n",
      " 11  population               50000 non-null  float64\n",
      " 12  capital                  50000 non-null  int64  \n",
      " 13  salary                   50000 non-null  int64  \n",
      " 14  mgzavreby                50000 non-null  int64  \n",
      " 15  City_Amsterdam           50000 non-null  uint8  \n",
      " 16  City_Athens              50000 non-null  uint8  \n",
      " 17  City_Barcelona           50000 non-null  uint8  \n",
      " 18  City_Berlin              50000 non-null  uint8  \n",
      " 19  City_Bratislava          50000 non-null  uint8  \n",
      " 20  City_Brussels            50000 non-null  uint8  \n",
      " 21  City_Budapest            50000 non-null  uint8  \n",
      " 22  City_Copenhagen          50000 non-null  uint8  \n",
      " 23  City_Dublin              50000 non-null  uint8  \n",
      " 24  City_Edinburgh           50000 non-null  uint8  \n",
      " 25  City_Geneva              50000 non-null  uint8  \n",
      " 26  City_Hamburg             50000 non-null  uint8  \n",
      " 27  City_Helsinki            50000 non-null  uint8  \n",
      " 28  City_Krakow              50000 non-null  uint8  \n",
      " 29  City_Lisbon              50000 non-null  uint8  \n",
      " 30  City_Ljubljana           50000 non-null  uint8  \n",
      " 31  City_London              50000 non-null  uint8  \n",
      " 32  City_Luxembourg          50000 non-null  uint8  \n",
      " 33  City_Lyon                50000 non-null  uint8  \n",
      " 34  City_Madrid              50000 non-null  uint8  \n",
      " 35  City_Milan               50000 non-null  uint8  \n",
      " 36  City_Munich              50000 non-null  uint8  \n",
      " 37  City_Oporto              50000 non-null  uint8  \n",
      " 38  City_Oslo                50000 non-null  uint8  \n",
      " 39  City_Paris               50000 non-null  uint8  \n",
      " 40  City_Prague              50000 non-null  uint8  \n",
      " 41  City_Rome                50000 non-null  uint8  \n",
      " 42  City_Stockholm           50000 non-null  uint8  \n",
      " 43  City_Vienna              50000 non-null  uint8  \n",
      " 44  City_Warsaw              50000 non-null  uint8  \n",
      " 45  City_Zurich              50000 non-null  uint8  \n",
      " 46  City_nan                 50000 non-null  uint8  \n",
      " 47  PriceRangeInt            50000 non-null  int64  \n",
      " 48  count_cuisines           50000 non-null  int64  \n",
      " 49  IndexPopularCuisines     50000 non-null  int64  \n",
      " 50  Vegetarian Friendly      50000 non-null  int64  \n",
      " 51  European                 50000 non-null  int64  \n",
      " 52  Mediterranean            50000 non-null  int64  \n",
      " 53  Italian                  50000 non-null  int64  \n",
      " 54  Vegan Options            50000 non-null  int64  \n",
      " 55  Gluten Free Options      50000 non-null  int64  \n",
      "dtypes: float64(4), int64(13), object(6), uint8(33)\n",
      "memory usage: 10.3+ MB\n"
     ]
    }
   ],
   "source": [
    "#добавили вручную столбцы по принципу dummy для самых часто встречающихся типов кухонь\n",
    "for p in popular_cuisines: \n",
    "    data[p] = data['Cuisine Style'].apply(lambda x: int(p in x))\n",
    "data.info()"
   ]
  },
  {
   "cell_type": "code",
   "execution_count": 49,
   "metadata": {
    "execution": {
     "iopub.execute_input": "2021-07-15T13:13:01.149888Z",
     "iopub.status.busy": "2021-07-15T13:13:01.149604Z",
     "iopub.status.idle": "2021-07-15T13:13:02.437600Z",
     "shell.execute_reply": "2021-07-15T13:13:02.436434Z",
     "shell.execute_reply.started": "2021-07-15T13:13:01.149834Z"
    }
   },
   "outputs": [],
   "source": [
    "#преобразуем значения столбца Reviews из строки в список дат в формате datetime\n",
    "from datetime import datetime\n",
    "\n",
    "def Reviews_to_dtlist(s):\n",
    "    if s != '[[], []]':\n",
    "        s_dt = s[s.rfind('[')+1:-2].split(',')\n",
    "        l_dt = [datetime.strptime(c.strip()[1:-1],'%m/%d/%Y') for c in s_dt] \n",
    "    else: \n",
    "        l_dt = [datetime.strptime('01/01/2017','%m/%d/%Y')] #так как больше всего отзывово было в 2017 году - 41927\n",
    "    return l_dt\n",
    "\n",
    "#добавляем новый столбец с преобразованными значениями\n",
    "data['DateReviews'] = data['Reviews'].apply(Reviews_to_dtlist)"
   ]
  },
  {
   "cell_type": "code",
   "execution_count": 50,
   "metadata": {
    "execution": {
     "iopub.execute_input": "2021-07-15T13:13:02.439749Z",
     "iopub.status.busy": "2021-07-15T13:13:02.439265Z",
     "iopub.status.idle": "2021-07-15T13:13:02.485188Z",
     "shell.execute_reply": "2021-07-15T13:13:02.484287Z",
     "shell.execute_reply.started": "2021-07-15T13:13:02.439541Z"
    }
   },
   "outputs": [
    {
     "data": {
      "text/html": [
       "<div>\n",
       "<style scoped>\n",
       "    .dataframe tbody tr th:only-of-type {\n",
       "        vertical-align: middle;\n",
       "    }\n",
       "\n",
       "    .dataframe tbody tr th {\n",
       "        vertical-align: top;\n",
       "    }\n",
       "\n",
       "    .dataframe thead th {\n",
       "        text-align: right;\n",
       "    }\n",
       "</style>\n",
       "<table border=\"1\" class=\"dataframe\">\n",
       "  <thead>\n",
       "    <tr style=\"text-align: right;\">\n",
       "      <th></th>\n",
       "      <th>Restaurant_id</th>\n",
       "      <th>Cuisine Style</th>\n",
       "      <th>Ranking</th>\n",
       "      <th>Price Range</th>\n",
       "      <th>Number of Reviews</th>\n",
       "      <th>Reviews</th>\n",
       "      <th>URL_TA</th>\n",
       "      <th>ID_TA</th>\n",
       "      <th>sample</th>\n",
       "      <th>Rating</th>\n",
       "      <th>...</th>\n",
       "      <th>PriceRangeInt</th>\n",
       "      <th>count_cuisines</th>\n",
       "      <th>IndexPopularCuisines</th>\n",
       "      <th>Vegetarian Friendly</th>\n",
       "      <th>European</th>\n",
       "      <th>Mediterranean</th>\n",
       "      <th>Italian</th>\n",
       "      <th>Vegan Options</th>\n",
       "      <th>Gluten Free Options</th>\n",
       "      <th>DateReviews</th>\n",
       "    </tr>\n",
       "  </thead>\n",
       "  <tbody>\n",
       "    <tr>\n",
       "      <th>43937</th>\n",
       "      <td>id_3001</td>\n",
       "      <td>[Italian]</td>\n",
       "      <td>3002.0</td>\n",
       "      <td>$$ - $$$</td>\n",
       "      <td>398.0</td>\n",
       "      <td>[[], []]</td>\n",
       "      <td>/Restaurant_Review-g187791-d11823818-Reviews-R...</td>\n",
       "      <td>d11823818</td>\n",
       "      <td>1</td>\n",
       "      <td>3.5</td>\n",
       "      <td>...</td>\n",
       "      <td>2</td>\n",
       "      <td>1</td>\n",
       "      <td>1</td>\n",
       "      <td>0</td>\n",
       "      <td>0</td>\n",
       "      <td>0</td>\n",
       "      <td>1</td>\n",
       "      <td>0</td>\n",
       "      <td>0</td>\n",
       "      <td>[2017-01-01 00:00:00]</td>\n",
       "    </tr>\n",
       "    <tr>\n",
       "      <th>4772</th>\n",
       "      <td>id_4772</td>\n",
       "      <td>[Soups]</td>\n",
       "      <td>1305.0</td>\n",
       "      <td>$$ - $$$</td>\n",
       "      <td>4.0</td>\n",
       "      <td>[['Friendly staff, acceptable coffee, good so....</td>\n",
       "      <td>/Restaurant_Review-g186525-d7271995-Reviews-So...</td>\n",
       "      <td>d7271995</td>\n",
       "      <td>0</td>\n",
       "      <td>0.0</td>\n",
       "      <td>...</td>\n",
       "      <td>2</td>\n",
       "      <td>1</td>\n",
       "      <td>0</td>\n",
       "      <td>0</td>\n",
       "      <td>0</td>\n",
       "      <td>0</td>\n",
       "      <td>0</td>\n",
       "      <td>0</td>\n",
       "      <td>0</td>\n",
       "      <td>[2016-04-02 00:00:00, 2015-10-12 00:00:00]</td>\n",
       "    </tr>\n",
       "    <tr>\n",
       "      <th>43390</th>\n",
       "      <td>id_1063</td>\n",
       "      <td>[Brazilian, South American]</td>\n",
       "      <td>1067.0</td>\n",
       "      <td>$$ - $$$</td>\n",
       "      <td>29.0</td>\n",
       "      <td>[['Good brasil food', 'Nice surprise with good...</td>\n",
       "      <td>/Restaurant_Review-g188113-d1950696-Reviews-Ca...</td>\n",
       "      <td>d1950696</td>\n",
       "      <td>1</td>\n",
       "      <td>4.0</td>\n",
       "      <td>...</td>\n",
       "      <td>2</td>\n",
       "      <td>2</td>\n",
       "      <td>0</td>\n",
       "      <td>0</td>\n",
       "      <td>0</td>\n",
       "      <td>0</td>\n",
       "      <td>0</td>\n",
       "      <td>0</td>\n",
       "      <td>0</td>\n",
       "      <td>[2017-12-06 00:00:00, 2017-12-04 00:00:00]</td>\n",
       "    </tr>\n",
       "    <tr>\n",
       "      <th>13621</th>\n",
       "      <td>id_10075</td>\n",
       "      <td>[Sushi]</td>\n",
       "      <td>10084.0</td>\n",
       "      <td>$</td>\n",
       "      <td>11.0</td>\n",
       "      <td>[['good cheap noodles and rice dishes', 'Nice ...</td>\n",
       "      <td>/Restaurant_Review-g186338-d8809194-Reviews-It...</td>\n",
       "      <td>d8809194</td>\n",
       "      <td>1</td>\n",
       "      <td>4.0</td>\n",
       "      <td>...</td>\n",
       "      <td>1</td>\n",
       "      <td>1</td>\n",
       "      <td>0</td>\n",
       "      <td>0</td>\n",
       "      <td>0</td>\n",
       "      <td>0</td>\n",
       "      <td>0</td>\n",
       "      <td>0</td>\n",
       "      <td>0</td>\n",
       "      <td>[2017-07-09 00:00:00, 2017-07-11 00:00:00]</td>\n",
       "    </tr>\n",
       "    <tr>\n",
       "      <th>9585</th>\n",
       "      <td>id_9585</td>\n",
       "      <td>[Fusion, Street Food, French]</td>\n",
       "      <td>4699.0</td>\n",
       "      <td>$</td>\n",
       "      <td>36.0</td>\n",
       "      <td>[['Amazing', 'Simplicity'], ['07/06/2016', '06...</td>\n",
       "      <td>/Restaurant_Review-g187147-d7372153-Reviews-Ch...</td>\n",
       "      <td>d7372153</td>\n",
       "      <td>0</td>\n",
       "      <td>0.0</td>\n",
       "      <td>...</td>\n",
       "      <td>1</td>\n",
       "      <td>3</td>\n",
       "      <td>0</td>\n",
       "      <td>0</td>\n",
       "      <td>0</td>\n",
       "      <td>0</td>\n",
       "      <td>0</td>\n",
       "      <td>0</td>\n",
       "      <td>0</td>\n",
       "      <td>[2016-07-06 00:00:00, 2015-06-21 00:00:00]</td>\n",
       "    </tr>\n",
       "  </tbody>\n",
       "</table>\n",
       "<p>5 rows × 57 columns</p>\n",
       "</div>"
      ],
      "text/plain": [
       "      Restaurant_id                  Cuisine Style  Ranking Price Range  \\\n",
       "43937       id_3001                      [Italian]   3002.0    $$ - $$$   \n",
       "4772        id_4772                        [Soups]   1305.0    $$ - $$$   \n",
       "43390       id_1063    [Brazilian, South American]   1067.0    $$ - $$$   \n",
       "13621      id_10075                        [Sushi]  10084.0           $   \n",
       "9585        id_9585  [Fusion, Street Food, French]   4699.0           $   \n",
       "\n",
       "       Number of Reviews                                            Reviews  \\\n",
       "43937              398.0                                           [[], []]   \n",
       "4772                 4.0  [['Friendly staff, acceptable coffee, good so....   \n",
       "43390               29.0  [['Good brasil food', 'Nice surprise with good...   \n",
       "13621               11.0  [['good cheap noodles and rice dishes', 'Nice ...   \n",
       "9585                36.0  [['Amazing', 'Simplicity'], ['07/06/2016', '06...   \n",
       "\n",
       "                                                  URL_TA      ID_TA  sample  \\\n",
       "43937  /Restaurant_Review-g187791-d11823818-Reviews-R...  d11823818       1   \n",
       "4772   /Restaurant_Review-g186525-d7271995-Reviews-So...   d7271995       0   \n",
       "43390  /Restaurant_Review-g188113-d1950696-Reviews-Ca...   d1950696       1   \n",
       "13621  /Restaurant_Review-g186338-d8809194-Reviews-It...   d8809194       1   \n",
       "9585   /Restaurant_Review-g187147-d7372153-Reviews-Ch...   d7372153       0   \n",
       "\n",
       "       Rating  ...  PriceRangeInt  count_cuisines  IndexPopularCuisines  \\\n",
       "43937     3.5  ...              2               1                     1   \n",
       "4772      0.0  ...              2               1                     0   \n",
       "43390     4.0  ...              2               2                     0   \n",
       "13621     4.0  ...              1               1                     0   \n",
       "9585      0.0  ...              1               3                     0   \n",
       "\n",
       "       Vegetarian Friendly  European  Mediterranean  Italian  Vegan Options  \\\n",
       "43937                    0         0              0        1              0   \n",
       "4772                     0         0              0        0              0   \n",
       "43390                    0         0              0        0              0   \n",
       "13621                    0         0              0        0              0   \n",
       "9585                     0         0              0        0              0   \n",
       "\n",
       "       Gluten Free Options                                 DateReviews  \n",
       "43937                    0                       [2017-01-01 00:00:00]  \n",
       "4772                     0  [2016-04-02 00:00:00, 2015-10-12 00:00:00]  \n",
       "43390                    0  [2017-12-06 00:00:00, 2017-12-04 00:00:00]  \n",
       "13621                    0  [2017-07-09 00:00:00, 2017-07-11 00:00:00]  \n",
       "9585                     0  [2016-07-06 00:00:00, 2015-06-21 00:00:00]  \n",
       "\n",
       "[5 rows x 57 columns]"
      ]
     },
     "execution_count": 50,
     "metadata": {},
     "output_type": "execute_result"
    }
   ],
   "source": [
    "data.sample(5)"
   ]
  },
  {
   "cell_type": "code",
   "execution_count": 51,
   "metadata": {
    "execution": {
     "iopub.execute_input": "2021-07-15T13:13:02.486787Z",
     "iopub.status.busy": "2021-07-15T13:13:02.486531Z",
     "iopub.status.idle": "2021-07-15T13:13:02.729235Z",
     "shell.execute_reply": "2021-07-15T13:13:02.728147Z",
     "shell.execute_reply.started": "2021-07-15T13:13:02.486737Z"
    }
   },
   "outputs": [],
   "source": [
    "#добавили столбец, сколько дней прошло с даты последнего отзыва\n",
    "data['last_review'] = data['DateReviews'].apply(lambda d: (datetime.today() - max(d)).days)\n",
    "#добавили столбец, количество дней отделяет даты публикации отзывов, размещённых на сайте ресторана\n",
    "data['interval_reviews'] = data['DateReviews'].apply(lambda d: (max(d) - min(d)).days)"
   ]
  },
  {
   "cell_type": "code",
   "execution_count": 52,
   "metadata": {
    "execution": {
     "iopub.execute_input": "2021-07-15T13:13:02.730825Z",
     "iopub.status.busy": "2021-07-15T13:13:02.730535Z",
     "iopub.status.idle": "2021-07-15T13:13:02.739704Z",
     "shell.execute_reply": "2021-07-15T13:13:02.738939Z",
     "shell.execute_reply.started": "2021-07-15T13:13:02.730757Z"
    }
   },
   "outputs": [
    {
     "data": {
      "text/plain": [
       "1656    8146\n",
       "1285     646\n",
       "1289     568\n",
       "1286     522\n",
       "1288     492\n",
       "        ... \n",
       "2758       1\n",
       "4805       1\n",
       "2726       1\n",
       "2630       1\n",
       "2855       1\n",
       "Name: last_review, Length: 1976, dtype: int64"
      ]
     },
     "execution_count": 52,
     "metadata": {},
     "output_type": "execute_result"
    }
   ],
   "source": [
    "data['last_review'].value_counts()"
   ]
  },
  {
   "cell_type": "code",
   "execution_count": 53,
   "metadata": {
    "execution": {
     "iopub.execute_input": "2021-07-15T13:13:02.741580Z",
     "iopub.status.busy": "2021-07-15T13:13:02.741326Z",
     "iopub.status.idle": "2021-07-15T13:13:02.752040Z",
     "shell.execute_reply": "2021-07-15T13:13:02.751113Z",
     "shell.execute_reply.started": "2021-07-15T13:13:02.741532Z"
    }
   },
   "outputs": [
    {
     "data": {
      "text/plain": [
       "0       14425\n",
       "1         829\n",
       "2         629\n",
       "3         606\n",
       "4         538\n",
       "        ...  \n",
       "1775        1\n",
       "1455        1\n",
       "1423        1\n",
       "1391        1\n",
       "943         1\n",
       "Name: interval_reviews, Length: 1310, dtype: int64"
      ]
     },
     "execution_count": 53,
     "metadata": {},
     "output_type": "execute_result"
    }
   ],
   "source": [
    "data['interval_reviews'].value_counts()"
   ]
  },
  {
   "cell_type": "code",
   "execution_count": 54,
   "metadata": {
    "execution": {
     "iopub.execute_input": "2021-07-15T13:13:02.753379Z",
     "iopub.status.busy": "2021-07-15T13:13:02.753134Z",
     "iopub.status.idle": "2021-07-15T13:13:02.762373Z",
     "shell.execute_reply": "2021-07-15T13:13:02.761356Z",
     "shell.execute_reply.started": "2021-07-15T13:13:02.753337Z"
    }
   },
   "outputs": [
    {
     "data": {
      "text/plain": [
       "8173.921    7193\n",
       "2240.676    6108\n",
       "3155.368    3813\n",
       "1628.552    3395\n",
       "3326.095    2705\n",
       "1331.586    2694\n",
       "2870.515    2589\n",
       "1272.783    1816\n",
       "547.828     1647\n",
       "1765.700    1443\n",
       "825.125     1372\n",
       "144.835     1314\n",
       "1718.187    1186\n",
       "1364.992    1145\n",
       "496.373     1126\n",
       "1981.339    1033\n",
       "1744.710    1021\n",
       "1720.442     925\n",
       "506.304      836\n",
       "1246.655     819\n",
       "3168.940     776\n",
       "468.163      745\n",
       "402.294      685\n",
       "259.059      642\n",
       "196.173      590\n",
       "756.266      554\n",
       "673.519      488\n",
       "574.679      475\n",
       "413.207      380\n",
       "76.472       263\n",
       "277.597      222\n",
       "Name: population, dtype: int64"
      ]
     },
     "execution_count": 54,
     "metadata": {},
     "output_type": "execute_result"
    }
   ],
   "source": [
    "data['population'].value_counts()"
   ]
  },
  {
   "cell_type": "code",
   "execution_count": 55,
   "metadata": {
    "execution": {
     "iopub.execute_input": "2021-07-15T13:13:02.764039Z",
     "iopub.status.busy": "2021-07-15T13:13:02.763478Z",
     "iopub.status.idle": "2021-07-15T13:13:02.769832Z",
     "shell.execute_reply": "2021-07-15T13:13:02.768925Z",
     "shell.execute_reply.started": "2021-07-15T13:13:02.763994Z"
    }
   },
   "outputs": [],
   "source": [
    "#добавили столбец - коэффициент, равный отношению ранга ресторана в городе к численности населения в городе\n",
    "data['ranking_of_population'] = data['Ranking'] / data['population']"
   ]
  },
  {
   "cell_type": "code",
   "execution_count": 56,
   "metadata": {
    "execution": {
     "iopub.execute_input": "2021-07-15T13:13:02.771271Z",
     "iopub.status.busy": "2021-07-15T13:13:02.770911Z",
     "iopub.status.idle": "2021-07-15T13:13:02.786778Z",
     "shell.execute_reply": "2021-07-15T13:13:02.786223Z",
     "shell.execute_reply.started": "2021-07-15T13:13:02.771203Z"
    }
   },
   "outputs": [
    {
     "data": {
      "text/plain": [
       "1.046824     2\n",
       "1.151448     2\n",
       "0.281505     1\n",
       "12.096524    1\n",
       "1.559784     1\n",
       "            ..\n",
       "2.789906     1\n",
       "1.635625     1\n",
       "0.499824     1\n",
       "3.341402     1\n",
       "0.965387     1\n",
       "Name: ranking_of_population, Length: 49998, dtype: int64"
      ]
     },
     "execution_count": 56,
     "metadata": {},
     "output_type": "execute_result"
    }
   ],
   "source": [
    "data['ranking_of_population'].value_counts()"
   ]
  },
  {
   "cell_type": "code",
   "execution_count": null,
   "metadata": {},
   "outputs": [],
   "source": []
  },
  {
   "cell_type": "code",
   "execution_count": 57,
   "metadata": {
    "execution": {
     "iopub.execute_input": "2021-07-15T13:13:02.787998Z",
     "iopub.status.busy": "2021-07-15T13:13:02.787656Z",
     "iopub.status.idle": "2021-07-15T13:13:02.851577Z",
     "shell.execute_reply": "2021-07-15T13:13:02.850946Z",
     "shell.execute_reply.started": "2021-07-15T13:13:02.787962Z"
    }
   },
   "outputs": [
    {
     "name": "stdout",
     "output_type": "stream",
     "text": [
      "<class 'pandas.core.frame.DataFrame'>\n",
      "RangeIndex: 50000 entries, 0 to 49999\n",
      "Data columns (total 60 columns):\n",
      " #   Column                   Non-Null Count  Dtype  \n",
      "---  ------                   --------------  -----  \n",
      " 0   Restaurant_id            50000 non-null  object \n",
      " 1   Cuisine Style            50000 non-null  object \n",
      " 2   Ranking                  50000 non-null  float64\n",
      " 3   Price Range              50000 non-null  object \n",
      " 4   Number of Reviews        50000 non-null  float64\n",
      " 5   Reviews                  50000 non-null  object \n",
      " 6   URL_TA                   50000 non-null  object \n",
      " 7   ID_TA                    50000 non-null  object \n",
      " 8   sample                   50000 non-null  int64  \n",
      " 9   Rating                   50000 non-null  float64\n",
      " 10  Number_of_Reviews_isNAN  50000 non-null  uint8  \n",
      " 11  population               50000 non-null  float64\n",
      " 12  capital                  50000 non-null  int64  \n",
      " 13  salary                   50000 non-null  int64  \n",
      " 14  mgzavreby                50000 non-null  int64  \n",
      " 15  City_Amsterdam           50000 non-null  uint8  \n",
      " 16  City_Athens              50000 non-null  uint8  \n",
      " 17  City_Barcelona           50000 non-null  uint8  \n",
      " 18  City_Berlin              50000 non-null  uint8  \n",
      " 19  City_Bratislava          50000 non-null  uint8  \n",
      " 20  City_Brussels            50000 non-null  uint8  \n",
      " 21  City_Budapest            50000 non-null  uint8  \n",
      " 22  City_Copenhagen          50000 non-null  uint8  \n",
      " 23  City_Dublin              50000 non-null  uint8  \n",
      " 24  City_Edinburgh           50000 non-null  uint8  \n",
      " 25  City_Geneva              50000 non-null  uint8  \n",
      " 26  City_Hamburg             50000 non-null  uint8  \n",
      " 27  City_Helsinki            50000 non-null  uint8  \n",
      " 28  City_Krakow              50000 non-null  uint8  \n",
      " 29  City_Lisbon              50000 non-null  uint8  \n",
      " 30  City_Ljubljana           50000 non-null  uint8  \n",
      " 31  City_London              50000 non-null  uint8  \n",
      " 32  City_Luxembourg          50000 non-null  uint8  \n",
      " 33  City_Lyon                50000 non-null  uint8  \n",
      " 34  City_Madrid              50000 non-null  uint8  \n",
      " 35  City_Milan               50000 non-null  uint8  \n",
      " 36  City_Munich              50000 non-null  uint8  \n",
      " 37  City_Oporto              50000 non-null  uint8  \n",
      " 38  City_Oslo                50000 non-null  uint8  \n",
      " 39  City_Paris               50000 non-null  uint8  \n",
      " 40  City_Prague              50000 non-null  uint8  \n",
      " 41  City_Rome                50000 non-null  uint8  \n",
      " 42  City_Stockholm           50000 non-null  uint8  \n",
      " 43  City_Vienna              50000 non-null  uint8  \n",
      " 44  City_Warsaw              50000 non-null  uint8  \n",
      " 45  City_Zurich              50000 non-null  uint8  \n",
      " 46  City_nan                 50000 non-null  uint8  \n",
      " 47  PriceRangeInt            50000 non-null  int64  \n",
      " 48  count_cuisines           50000 non-null  int64  \n",
      " 49  IndexPopularCuisines     50000 non-null  int64  \n",
      " 50  Vegetarian Friendly      50000 non-null  int64  \n",
      " 51  European                 50000 non-null  int64  \n",
      " 52  Mediterranean            50000 non-null  int64  \n",
      " 53  Italian                  50000 non-null  int64  \n",
      " 54  Vegan Options            50000 non-null  int64  \n",
      " 55  Gluten Free Options      50000 non-null  int64  \n",
      " 56  DateReviews              50000 non-null  object \n",
      " 57  last_review              50000 non-null  int64  \n",
      " 58  interval_reviews         50000 non-null  int64  \n",
      " 59  ranking_of_population    50000 non-null  float64\n",
      "dtypes: float64(5), int64(15), object(7), uint8(33)\n",
      "memory usage: 11.9+ MB\n"
     ]
    }
   ],
   "source": [
    "data.info()"
   ]
  },
  {
   "cell_type": "markdown",
   "metadata": {},
   "source": [
    "![](https://cs10.pikabu.ru/post_img/2018/09/06/11/1536261023140110012.jpg)"
   ]
  },
  {
   "cell_type": "markdown",
   "metadata": {},
   "source": [
    "# EDA \n",
    "[Exploratory Data Analysis](https://ru.wikipedia.org/wiki/Разведочный_анализ_данных) - Анализ данных\n",
    "На этом этапе мы строим графики, ищем закономерности, аномалии, выбросы или связи между признаками.\n",
    "В общем цель этого этапа понять, что эти данные могут нам дать и как признаки могут быть взаимосвязаны между собой.\n",
    "Понимание изначальных признаков позволит сгенерировать новые, более сильные и, тем самым, сделать нашу модель лучше.\n",
    "![](https://miro.medium.com/max/2598/1*RXdMb7Uk6mGqWqPguHULaQ.png)"
   ]
  },
  {
   "cell_type": "markdown",
   "metadata": {},
   "source": [
    "### Посмотрим распределение признака"
   ]
  },
  {
   "cell_type": "code",
   "execution_count": 58,
   "metadata": {
    "execution": {
     "iopub.execute_input": "2021-07-15T13:13:02.852863Z",
     "iopub.status.busy": "2021-07-15T13:13:02.852510Z",
     "iopub.status.idle": "2021-07-15T13:13:03.329085Z",
     "shell.execute_reply": "2021-07-15T13:13:03.328143Z",
     "shell.execute_reply.started": "2021-07-15T13:13:02.852800Z"
    }
   },
   "outputs": [
    {
     "data": {
      "text/plain": [
       "<AxesSubplot:>"
      ]
     },
     "execution_count": 58,
     "metadata": {},
     "output_type": "execute_result"
    },
    {
     "data": {
      "image/png": "[encoded data removed]",
      "text/plain": [
       "<Figure size 720x504 with 1 Axes>"
      ]
     },
     "metadata": {
      "needs_background": "light"
     },
     "output_type": "display_data"
    }
   ],
   "source": [
    "plt.rcParams['figure.figsize'] = (10,7)\n",
    "df_train['Ranking'].hist(bins=100)"
   ]
  },
  {
   "cell_type": "markdown",
   "metadata": {},
   "source": [
    "У нас много ресторанов, которые не дотягивают и до 2500 места в своем городе, а что там по городам?"
   ]
  },
  {
   "cell_type": "code",
   "execution_count": 59,
   "metadata": {
    "execution": {
     "iopub.execute_input": "2021-07-15T13:13:03.331196Z",
     "iopub.status.busy": "2021-07-15T13:13:03.330615Z",
     "iopub.status.idle": "2021-07-15T13:13:03.784540Z",
     "shell.execute_reply": "2021-07-15T13:13:03.783652Z",
     "shell.execute_reply.started": "2021-07-15T13:13:03.331138Z"
    }
   },
   "outputs": [
    {
     "data": {
      "text/plain": [
       "<AxesSubplot:>"
      ]
     },
     "execution_count": 59,
     "metadata": {},
     "output_type": "execute_result"
    },
    {
     "data": {
      "image/png": "[encoded data removed]",
      "text/plain": [
       "<Figure size 720x504 with 1 Axes>"
      ]
     },
     "metadata": {
      "needs_background": "light"
     },
     "output_type": "display_data"
    }
   ],
   "source": [
    "df_train['City'].value_counts(ascending=True).plot(kind='barh')"
   ]
  },
  {
   "cell_type": "markdown",
   "metadata": {},
   "source": [
    "А кто-то говорил, что французы любят поесть=) Посмотрим, как изменится распределение в большом городе:"
   ]
  },
  {
   "cell_type": "code",
   "execution_count": 60,
   "metadata": {
    "execution": {
     "iopub.execute_input": "2021-07-15T13:13:03.786541Z",
     "iopub.status.busy": "2021-07-15T13:13:03.786045Z",
     "iopub.status.idle": "2021-07-15T13:13:04.276898Z",
     "shell.execute_reply": "2021-07-15T13:13:04.275976Z",
     "shell.execute_reply.started": "2021-07-15T13:13:03.786485Z"
    }
   },
   "outputs": [
    {
     "data": {
      "text/plain": [
       "<AxesSubplot:>"
      ]
     },
     "execution_count": 60,
     "metadata": {},
     "output_type": "execute_result"
    },
    {
     "data": {
      "image/png": "[encoded data removed]",
      "text/plain": [
       "<Figure size 720x504 with 1 Axes>"
      ]
     },
     "metadata": {
      "needs_background": "light"
     },
     "output_type": "display_data"
    }
   ],
   "source": [
    "df_train['Ranking'][df_train['City'] =='London'].hist(bins=100)"
   ]
  },
  {
   "cell_type": "code",
   "execution_count": 61,
   "metadata": {
    "execution": {
     "iopub.execute_input": "2021-07-15T13:13:04.278940Z",
     "iopub.status.busy": "2021-07-15T13:13:04.278423Z",
     "iopub.status.idle": "2021-07-15T13:13:07.087355Z",
     "shell.execute_reply": "2021-07-15T13:13:07.086076Z",
     "shell.execute_reply.started": "2021-07-15T13:13:04.278882Z"
    }
   },
   "outputs": [
    {
     "data": {
      "image/png": "[encoded data removed]",
      "text/plain": [
       "<Figure size 720x504 with 1 Axes>"
      ]
     },
     "metadata": {
      "needs_background": "light"
     },
     "output_type": "display_data"
    }
   ],
   "source": [
    "# посмотрим на топ 10 городов\n",
    "for x in (df_train['City'].value_counts())[0:10].index:\n",
    "    df_train['Ranking'][df_train['City'] == x].hist(bins=100)\n",
    "plt.show()"
   ]
  },
  {
   "cell_type": "markdown",
   "metadata": {},
   "source": [
    "Получается, что Ranking имеет нормальное распределение, просто в больших городах больше ресторанов, из-за мы этого имеем смещение.\n",
    "\n",
    ">Подумайте как из этого можно сделать признак для вашей модели. Я покажу вам пример, как визуализация помогает находить взаимосвязи. А далее действуйте без подсказок =) \n"
   ]
  },
  {
   "cell_type": "code",
   "execution_count": 62,
   "metadata": {
    "execution": {
     "iopub.execute_input": "2021-07-15T13:13:07.089695Z",
     "iopub.status.busy": "2021-07-15T13:13:07.089140Z",
     "iopub.status.idle": "2021-07-15T13:13:07.576261Z",
     "shell.execute_reply": "2021-07-15T13:13:07.575088Z",
     "shell.execute_reply.started": "2021-07-15T13:13:07.089434Z"
    }
   },
   "outputs": [
    {
     "data": {
      "text/plain": [
       "<AxesSubplot:>"
      ]
     },
     "execution_count": 62,
     "metadata": {},
     "output_type": "execute_result"
    },
    {
     "data": {
      "image/png": "[encoded data removed]",
      "text/plain": [
       "<Figure size 720x504 with 1 Axes>"
      ]
     },
     "metadata": {
      "needs_background": "light"
     },
     "output_type": "display_data"
    }
   ],
   "source": [
    "plt.rcParams['figure.figsize'] = (10,7)\n",
    "data['IndexPopularCuisines'].hist(bins=100)"
   ]
  },
  {
   "cell_type": "code",
   "execution_count": 62,
   "metadata": {
    "execution": {
     "iopub.execute_input": "2021-07-15T13:13:07.578328Z",
     "iopub.status.busy": "2021-07-15T13:13:07.577981Z",
     "iopub.status.idle": "2021-07-15T13:13:07.997630Z",
     "shell.execute_reply": "2021-07-15T13:13:07.996666Z",
     "shell.execute_reply.started": "2021-07-15T13:13:07.578268Z"
    }
   },
   "outputs": [
    {
     "data": {
      "text/plain": [
       "<matplotlib.axes._subplots.AxesSubplot at 0x7f856c3d8a90>"
      ]
     },
     "execution_count": 62,
     "metadata": {},
     "output_type": "execute_result"
    },
    {
     "data": {
      "image/png": "[encoded data removed]",
      "text/plain": [
       "<Figure size 720x504 with 1 Axes>"
      ]
     },
     "metadata": {
      "needs_background": "light"
     },
     "output_type": "display_data"
    }
   ],
   "source": [
    "data['count_cuisines'].hist(bins=100)"
   ]
  },
  {
   "cell_type": "code",
   "execution_count": 63,
   "metadata": {
    "execution": {
     "iopub.execute_input": "2021-07-15T13:13:07.999601Z",
     "iopub.status.busy": "2021-07-15T13:13:07.999080Z",
     "iopub.status.idle": "2021-07-15T13:13:08.397055Z",
     "shell.execute_reply": "2021-07-15T13:13:08.396285Z",
     "shell.execute_reply.started": "2021-07-15T13:13:07.999540Z"
    }
   },
   "outputs": [
    {
     "data": {
      "text/plain": [
       "<AxesSubplot:>"
      ]
     },
     "execution_count": 63,
     "metadata": {},
     "output_type": "execute_result"
    },
    {
     "data": {
      "image/png": "[encoded data removed]",
      "text/plain": [
       "<Figure size 720x504 with 1 Axes>"
      ]
     },
     "metadata": {
      "needs_background": "light"
     },
     "output_type": "display_data"
    }
   ],
   "source": [
    "data['ranking_of_population'].hist(bins=100)"
   ]
  },
  {
   "cell_type": "markdown",
   "metadata": {},
   "source": [
    "### Посмотрим распределение целевой переменной"
   ]
  },
  {
   "cell_type": "code",
   "execution_count": 64,
   "metadata": {
    "execution": {
     "iopub.execute_input": "2021-07-15T13:13:08.398667Z",
     "iopub.status.busy": "2021-07-15T13:13:08.398389Z",
     "iopub.status.idle": "2021-07-15T13:13:08.699712Z",
     "shell.execute_reply": "2021-07-15T13:13:08.698438Z",
     "shell.execute_reply.started": "2021-07-15T13:13:08.398617Z"
    }
   },
   "outputs": [
    {
     "data": {
      "text/plain": [
       "<AxesSubplot:>"
      ]
     },
     "execution_count": 64,
     "metadata": {},
     "output_type": "execute_result"
    },
    {
     "data": {
      "image/png": "[encoded data removed]",
      "text/plain": [
       "<Figure size 720x504 with 1 Axes>"
      ]
     },
     "metadata": {
      "needs_background": "light"
     },
     "output_type": "display_data"
    }
   ],
   "source": [
    "df_train['Rating'].value_counts(ascending=True).plot(kind='barh')"
   ]
  },
  {
   "cell_type": "markdown",
   "metadata": {},
   "source": [
    "### Посмотрим распределение целевой переменной относительно признака"
   ]
  },
  {
   "cell_type": "code",
   "execution_count": 65,
   "metadata": {
    "execution": {
     "iopub.execute_input": "2021-07-15T13:13:08.702095Z",
     "iopub.status.busy": "2021-07-15T13:13:08.701495Z",
     "iopub.status.idle": "2021-07-15T13:13:09.210576Z",
     "shell.execute_reply": "2021-07-15T13:13:09.209587Z",
     "shell.execute_reply.started": "2021-07-15T13:13:08.701788Z"
    }
   },
   "outputs": [
    {
     "data": {
      "text/plain": [
       "<AxesSubplot:>"
      ]
     },
     "execution_count": 65,
     "metadata": {},
     "output_type": "execute_result"
    },
    {
     "data": {
      "image/png": "[encoded data removed]",
      "text/plain": [
       "<Figure size 720x504 with 1 Axes>"
      ]
     },
     "metadata": {
      "needs_background": "light"
     },
     "output_type": "display_data"
    }
   ],
   "source": [
    "df_train['Ranking'][df_train['Rating'] == 5].hist(bins=100)"
   ]
  },
  {
   "cell_type": "code",
   "execution_count": 66,
   "metadata": {
    "execution": {
     "iopub.execute_input": "2021-07-15T13:13:09.212891Z",
     "iopub.status.busy": "2021-07-15T13:13:09.212297Z",
     "iopub.status.idle": "2021-07-15T13:13:09.720865Z",
     "shell.execute_reply": "2021-07-15T13:13:09.719914Z",
     "shell.execute_reply.started": "2021-07-15T13:13:09.212827Z"
    }
   },
   "outputs": [
    {
     "data": {
      "text/plain": [
       "<AxesSubplot:>"
      ]
     },
     "execution_count": 66,
     "metadata": {},
     "output_type": "execute_result"
    },
    {
     "data": {
      "image/png": "[encoded data removed]",
      "text/plain": [
       "<Figure size 720x504 with 1 Axes>"
      ]
     },
     "metadata": {
      "needs_background": "light"
     },
     "output_type": "display_data"
    }
   ],
   "source": [
    "df_train['Ranking'][df_train['Rating'] < 4].hist(bins=100)"
   ]
  },
  {
   "cell_type": "code",
   "execution_count": 67,
   "metadata": {
    "execution": {
     "iopub.execute_input": "2021-07-15T13:13:09.723011Z",
     "iopub.status.busy": "2021-07-15T13:13:09.722475Z",
     "iopub.status.idle": "2021-07-15T13:13:10.128156Z",
     "shell.execute_reply": "2021-07-15T13:13:10.127233Z",
     "shell.execute_reply.started": "2021-07-15T13:13:09.722953Z"
    }
   },
   "outputs": [
    {
     "data": {
      "text/plain": [
       "<AxesSubplot:>"
      ]
     },
     "execution_count": 67,
     "metadata": {},
     "output_type": "execute_result"
    },
    {
     "data": {
      "image/png": "[encoded data removed]",
      "text/plain": [
       "<Figure size 720x504 with 1 Axes>"
      ]
     },
     "metadata": {
      "needs_background": "light"
     },
     "output_type": "display_data"
    }
   ],
   "source": [
    "data['IndexPopularCuisines'][data['Rating'] == 5].hist(bins=100)"
   ]
  },
  {
   "cell_type": "code",
   "execution_count": 68,
   "metadata": {
    "execution": {
     "iopub.execute_input": "2021-07-15T13:13:10.129733Z",
     "iopub.status.busy": "2021-07-15T13:13:10.129465Z",
     "iopub.status.idle": "2021-07-15T13:13:10.536090Z",
     "shell.execute_reply": "2021-07-15T13:13:10.535147Z",
     "shell.execute_reply.started": "2021-07-15T13:13:10.129683Z"
    }
   },
   "outputs": [
    {
     "data": {
      "text/plain": [
       "<AxesSubplot:>"
      ]
     },
     "execution_count": 68,
     "metadata": {},
     "output_type": "execute_result"
    },
    {
     "data": {
      "image/png": "[encoded data removed]",
      "text/plain": [
       "<Figure size 720x504 with 1 Axes>"
      ]
     },
     "metadata": {
      "needs_background": "light"
     },
     "output_type": "display_data"
    }
   ],
   "source": [
    "data['count_cuisines'][data['Rating'] == 5].hist(bins=100)"
   ]
  },
  {
   "cell_type": "code",
   "execution_count": 69,
   "metadata": {
    "execution": {
     "iopub.execute_input": "2021-07-15T13:13:10.537844Z",
     "iopub.status.busy": "2021-07-15T13:13:10.537502Z",
     "iopub.status.idle": "2021-07-15T13:13:10.930562Z",
     "shell.execute_reply": "2021-07-15T13:13:10.929455Z",
     "shell.execute_reply.started": "2021-07-15T13:13:10.537770Z"
    }
   },
   "outputs": [
    {
     "data": {
      "text/plain": [
       "<AxesSubplot:>"
      ]
     },
     "execution_count": 69,
     "metadata": {},
     "output_type": "execute_result"
    },
    {
     "data": {
      "image/png": "[encoded data removed]",
      "text/plain": [
       "<Figure size 720x504 with 1 Axes>"
      ]
     },
     "metadata": {
      "needs_background": "light"
     },
     "output_type": "display_data"
    }
   ],
   "source": [
    "data['Number of Reviews'][data['Rating'] == 5].hist(bins=100)"
   ]
  },
  {
   "cell_type": "code",
   "execution_count": 70,
   "metadata": {
    "execution": {
     "iopub.execute_input": "2021-07-15T13:13:10.932650Z",
     "iopub.status.busy": "2021-07-15T13:13:10.932152Z",
     "iopub.status.idle": "2021-07-15T13:13:11.691801Z",
     "shell.execute_reply": "2021-07-15T13:13:11.690868Z",
     "shell.execute_reply.started": "2021-07-15T13:13:10.932456Z"
    }
   },
   "outputs": [
    {
     "data": {
      "text/plain": [
       "<AxesSubplot:>"
      ]
     },
     "execution_count": 70,
     "metadata": {},
     "output_type": "execute_result"
    },
    {
     "data": {
      "image/png": "[encoded data removed]",
      "text/plain": [
       "<Figure size 720x504 with 1 Axes>"
      ]
     },
     "metadata": {
      "needs_background": "light"
     },
     "output_type": "display_data"
    }
   ],
   "source": [
    "data['ranking_of_population'][data['Rating'] == 5].hist(bins=100)"
   ]
  },
  {
   "cell_type": "code",
   "execution_count": 71,
   "metadata": {
    "execution": {
     "iopub.execute_input": "2021-07-15T13:13:11.694106Z",
     "iopub.status.busy": "2021-07-15T13:13:11.693501Z",
     "iopub.status.idle": "2021-07-15T13:13:12.189678Z",
     "shell.execute_reply": "2021-07-15T13:13:12.188786Z",
     "shell.execute_reply.started": "2021-07-15T13:13:11.694046Z"
    }
   },
   "outputs": [
    {
     "data": {
      "text/plain": [
       "<AxesSubplot:>"
      ]
     },
     "execution_count": 71,
     "metadata": {},
     "output_type": "execute_result"
    },
    {
     "data": {
      "image/png": "[encoded data removed]",
      "text/plain": [
       "<Figure size 720x504 with 1 Axes>"
      ]
     },
     "metadata": {
      "needs_background": "light"
     },
     "output_type": "display_data"
    }
   ],
   "source": [
    "data['IndexPopularCuisines'][data['Rating'] < 4].hist(bins=100)"
   ]
  },
  {
   "cell_type": "code",
   "execution_count": 72,
   "metadata": {
    "execution": {
     "iopub.execute_input": "2021-07-15T13:13:12.191942Z",
     "iopub.status.busy": "2021-07-15T13:13:12.191328Z",
     "iopub.status.idle": "2021-07-15T13:13:12.677817Z",
     "shell.execute_reply": "2021-07-15T13:13:12.676926Z",
     "shell.execute_reply.started": "2021-07-15T13:13:12.191882Z"
    }
   },
   "outputs": [
    {
     "data": {
      "text/plain": [
       "<matplotlib.axes._subplots.AxesSubplot at 0x7f856c50b860>"
      ]
     },
     "execution_count": 72,
     "metadata": {},
     "output_type": "execute_result"
    },
    {
     "data": {
      "image/png": "[encoded data removed]",
      "text/plain": [
       "<Figure size 720x504 with 1 Axes>"
      ]
     },
     "metadata": {
      "needs_background": "light"
     },
     "output_type": "display_data"
    }
   ],
   "source": [
    "data['count_cuisines'][data['Rating'] < 4].hist(bins=100)"
   ]
  },
  {
   "cell_type": "code",
   "execution_count": 72,
   "metadata": {
    "execution": {
     "iopub.execute_input": "2021-07-15T13:13:12.680025Z",
     "iopub.status.busy": "2021-07-15T13:13:12.679420Z",
     "iopub.status.idle": "2021-07-15T13:13:13.179890Z",
     "shell.execute_reply": "2021-07-15T13:13:13.178947Z",
     "shell.execute_reply.started": "2021-07-15T13:13:12.679964Z"
    }
   },
   "outputs": [
    {
     "data": {
      "text/plain": [
       "<AxesSubplot:>"
      ]
     },
     "execution_count": 72,
     "metadata": {},
     "output_type": "execute_result"
    },
    {
     "data": {
      "image/png": "[encoded data removed]",
      "text/plain": [
       "<Figure size 720x504 with 1 Axes>"
      ]
     },
     "metadata": {
      "needs_background": "light"
     },
     "output_type": "display_data"
    }
   ],
   "source": [
    "data['Number of Reviews'][data['Rating'] < 4].hist(bins=100)"
   ]
  },
  {
   "cell_type": "markdown",
   "metadata": {},
   "source": [
    "### И один из моих любимых - [корреляция признаков](https://ru.wikipedia.org/wiki/Корреляция)\n",
    "На этом графике уже сейчас вы сможете заметить, как признаки связаны между собой и с целевой переменной."
   ]
  },
  {
   "cell_type": "code",
   "execution_count": 73,
   "metadata": {
    "execution": {
     "iopub.execute_input": "2021-07-15T13:13:13.182278Z",
     "iopub.status.busy": "2021-07-15T13:13:13.181651Z",
     "iopub.status.idle": "2021-07-15T13:13:15.526606Z",
     "shell.execute_reply": "2021-07-15T13:13:15.525395Z",
     "shell.execute_reply.started": "2021-07-15T13:13:13.182216Z"
    }
   },
   "outputs": [
    {
     "data": {
      "text/plain": [
       "<AxesSubplot:>"
      ]
     },
     "execution_count": 73,
     "metadata": {},
     "output_type": "execute_result"
    },
    {
     "data": {
      "image/png": "[encoded data removed]",
      "text/plain": [
       "<Figure size 1080x720 with 2 Axes>"
      ]
     },
     "metadata": {
      "needs_background": "light"
     },
     "output_type": "display_data"
    }
   ],
   "source": [
    "plt.rcParams['figure.figsize'] = (15,10)\n",
    "sns.heatmap(data.drop(['sample'], axis=1).corr(),)"
   ]
  },
  {
   "cell_type": "code",
   "execution_count": null,
   "metadata": {},
   "outputs": [],
   "source": []
  },
  {
   "cell_type": "markdown",
   "metadata": {},
   "source": [
    "Вообще благодаря визуализации в этом датасете можно узнать много интересных фактов, например:\n",
    "* где больше Пицерий в Мадриде или Лондоне?\n",
    "* в каком городе кухня ресторанов более разнообразна?\n",
    "\n",
    "придумайте свои вопрос и найдите на него ответ в данных)"
   ]
  },
  {
   "cell_type": "markdown",
   "metadata": {},
   "source": [
    "# Data Preprocessing\n",
    "Теперь, для удобства и воспроизводимости кода, завернем всю обработку в одну большую функцию."
   ]
  },
  {
   "cell_type": "code",
   "execution_count": 75,
   "metadata": {
    "execution": {
     "iopub.execute_input": "2021-07-15T13:13:15.529340Z",
     "iopub.status.busy": "2021-07-15T13:13:15.528825Z",
     "iopub.status.idle": "2021-07-15T13:13:15.831419Z",
     "shell.execute_reply": "2021-07-15T13:13:15.830582Z",
     "shell.execute_reply.started": "2021-07-15T13:13:15.529130Z"
    }
   },
   "outputs": [
    {
     "name": "stdout",
     "output_type": "stream",
     "text": [
      "<class 'pandas.core.frame.DataFrame'>\n",
      "RangeIndex: 50000 entries, 0 to 49999\n",
      "Data columns (total 11 columns):\n",
      " #   Column             Non-Null Count  Dtype  \n",
      "---  ------             --------------  -----  \n",
      " 0   Restaurant_id      50000 non-null  object \n",
      " 1   City               50000 non-null  object \n",
      " 2   Cuisine Style      38410 non-null  object \n",
      " 3   Ranking            50000 non-null  float64\n",
      " 4   Price Range        32639 non-null  object \n",
      " 5   Number of Reviews  46800 non-null  float64\n",
      " 6   Reviews            49998 non-null  object \n",
      " 7   URL_TA             50000 non-null  object \n",
      " 8   ID_TA              50000 non-null  object \n",
      " 9   sample             50000 non-null  int64  \n",
      " 10  Rating             50000 non-null  float64\n",
      "dtypes: float64(3), int64(1), object(7)\n",
      "memory usage: 4.2+ MB\n"
     ]
    }
   ],
   "source": [
    "# на всякий случай, заново подгружаем данные\n",
    "df_train = pd.read_csv('main_task.csv')\n",
    "df_test = pd.read_csv('kaggle_task.csv')\n",
    "df_train['sample'] = 1 # помечаем где у нас трейн\n",
    "df_test['sample'] = 0 # помечаем где у нас тест\n",
    "df_test['Rating'] = 0 # в тесте у нас нет значения Rating, мы его должны предсказать, по этому пока просто заполняем нулями\n",
    "\n",
    "data = df_test.append(df_train, sort=False).reset_index(drop=True) # объединяем\n",
    "data.info()"
   ]
  },
  {
   "cell_type": "code",
   "execution_count": 76,
   "metadata": {
    "execution": {
     "iopub.execute_input": "2021-07-15T13:13:15.833632Z",
     "iopub.status.busy": "2021-07-15T13:13:15.833257Z",
     "iopub.status.idle": "2021-07-15T13:13:15.873885Z",
     "shell.execute_reply": "2021-07-15T13:13:15.872949Z",
     "shell.execute_reply.started": "2021-07-15T13:13:15.833548Z"
    }
   },
   "outputs": [],
   "source": [
    "def preproc_data(df_input):\n",
    "    '''includes several functions to pre-process the predictor data.'''\n",
    "    \n",
    "    df_output = df_input.copy()\n",
    "    \n",
    "    # ################### 1. Предобработка ############################################################## \n",
    "    # убираем не нужные для модели признаки\n",
    "    df_output.drop(['Restaurant_id','ID_TA',], axis = 1, inplace=True)\n",
    "    \n",
    "    \n",
    "    # ################### 2. NAN ############################################################## \n",
    "    # Далее заполняем пропуски, вы можете попробовать заполнением средним или средним по городу и тд...\n",
    "    df_output['Number of Reviews'].fillna(1, inplace=True)\n",
    "    # тут ваш код по обработке NAN\n",
    "    #Заполнить пропуски в Price Range\n",
    "    df_output['Price Range'] = df_output['Price Range'].fillna('$$ - $$$')\n",
    "    #Заполнить пропуски в Cuisine Style \n",
    "    df_output['Cuisine Style'] = df_output['Cuisine Style'].fillna('[]')\n",
    "    #Заполнить пропуски в Reviews строкой с пустым списком списков\n",
    "    df_output['Reviews'] = df_output['Reviews'].fillna('[[], []]')\n",
    "    \n",
    "    # ################### 3. Encoding ############################################################## \n",
    "    #признак 1 - столтца, 0 - не столица, численность населения в городах тыс.человек,\n",
    "    #средняя зарплата в стране в долларах, количество (тыс.человек) гостей в гостиницах в 2018 году \n",
    "    population_city = {'London': [1, 8173.921, 2703, 38664],\n",
    "            'Paris': [1, 2240.676, 3332, 89322],      \n",
    "            'Madrid': [1, 3155.368, 2133, 82808],\n",
    "            'Barcelona': [0, 1628.552, 2133, 82808], \n",
    "            'Berlin': [1, 3326.095, 4392, 38881], \n",
    "            'Milan': [0, 1331.586, 2726, 61567],\n",
    "            'Rome': [1, 2870.515, 2726, 61567],\n",
    "            'Prague': [1, 1272.783, 1454, 36268],\n",
    "            'Lisbon': [1, 547.828, 1288, 16186], \n",
    "            'Vienna': [1, 1765.700, 2940, 30816], \n",
    "            'Amsterdam': [1, 825.125, 3238, 18780],\n",
    "            'Brussels': [1, 144.835, 3930, 11715], \n",
    "            'Hamburg': [0, 1718.187, 4392, 38881], \n",
    "            'Munich': [0, 1364.992, 4392, 38881], \n",
    "            'Lyon': [0, 496.373, 3332, 89322],    \n",
    "            'Stockholm': [1, 1981.339, 2893, 7440], \n",
    "            'Budapest': [1, 1744.710, 1187, 17552], \n",
    "            'Warsaw': [1, 1720.442, 1253, 14283], \n",
    "            'Dublin': [1, 506.304, 3671, 10926],\n",
    "            'Copenhagen': [1, 1246.655, 6192, 12749],\n",
    "            'Athens': [1, 3168.940, 1203, 30123],\n",
    "            'Edinburgh': [0, 468.163, 2703, 38664],\n",
    "            'Zurich': [0, 402.294, 3930, 11715], \n",
    "            'Oporto': [1, 259.059, 1288, 16186],\n",
    "            'Geneva': [0, 196.173, 3930, 11715], \n",
    "            'Krakow': [0, 756.266, 1253, 14283],\n",
    "            'Oslo': [1, 673.519, 5450, 5688], \n",
    "            'Helsinki': [1, 574.679, 3908, 3224], \n",
    "            'Bratislava': [1, 413.207, 1283, 4869],\n",
    "            'Luxembourg': [1, 76.472, 5854, 1018],\n",
    "            'Ljubljana': [1, 277.597, 1914, 4425]} \n",
    "    \n",
    "    #добавили столбец с численностью населения городов\n",
    "    df_output['population'] = df_output.City.apply(lambda x: population_city[x][1])\n",
    "    \n",
    "    #добавили столбец с признаком столицы\n",
    "    df_output['capital'] = df_output.City.apply(lambda x: population_city[x][0])\n",
    "    \n",
    "    #добавили столбец со средней зарплатой в стране в долларах\n",
    "    df_output['salary'] = df_output.City.apply(lambda x: population_city[x][2])\n",
    "    \n",
    "    #добавили столбец с количеством тыс. человек, которые жили в гостиницах в 2018 году \n",
    "    df_output['mgzavreby'] = df_output.City.apply(lambda x: population_city[x][3])\n",
    "    \n",
    "    # для One-Hot Encoding в pandas есть готовая функция - get_dummies. Особенно радует параметр dummy_na\n",
    "    df_output = pd.get_dummies(df_output, columns=['City'], dummy_na=True)\n",
    "    \n",
    "    # тут ваш код не Encoding фитчей\n",
    "    # обработка 'Price Range'\n",
    "    price_range = {'$': 1,\n",
    "               '$$ - $$$': 2,\n",
    "               '$$$$': 3}\n",
    "    df_output['PriceRangeInt'] = df_output['Price Range'].apply(lambda x: price_range[x])\n",
    "    \n",
    "    #преобразуем значения стобца Cuisine Style из строки в список\n",
    "    def CuisineStyle_to_list(s):\n",
    "        if s != '[]':\n",
    "            l = [c.strip()[1:-1] for c in s[1:-1].split(',')] \n",
    "        else: l = ['other']\n",
    "        return l\n",
    "\n",
    "    df_output['Cuisine Style'] = df_output['Cuisine Style'].apply(CuisineStyle_to_list)\n",
    "    \n",
    "    #преобразуем значения столбца Reviews из строки в список дат в формате datetime\n",
    "    def Reviews_to_dtlist(s):\n",
    "        if s != '[[], []]':\n",
    "            s_dt = s[s.rfind('[')+1:-2].split(',')\n",
    "            l_dt = [datetime.strptime(c.strip()[1:-1],'%m/%d/%Y') for c in s_dt] \n",
    "        else: \n",
    "            l_dt = [datetime.strptime('01/01/2017','%m/%d/%Y')] #так как больше всего отзывово было в 2017 году - 41927\n",
    "        return l_dt\n",
    "\n",
    "    #добавляем новый столбец с преобразованными значениями\n",
    "    df_output['DateReviews'] = df_output['Reviews'].apply(Reviews_to_dtlist)\n",
    "    \n",
    "         \n",
    "    # ################### 4. Feature Engineering ####################################################\n",
    "    # тут ваш код на генерацию новых фитчей\n",
    "    #добавили столбец с количеством типов кухонь в каждом ресторане\n",
    "    df_output['count_cuisines'] = df_output['Cuisine Style'].apply(lambda x: len(x))\n",
    "    \n",
    "    #найдем индекс популярности типов кухонь ресторана и добавили столбец\n",
    "    def index_popular(s):\n",
    "        i = 0\n",
    "        for c in s:\n",
    "            for p in popular_cuisines: \n",
    "                if c == p:    i+=1\n",
    "        return i\n",
    "\n",
    "    cuisines = []\n",
    "    for s in df_output['Cuisine Style']:\n",
    "        if s[0] != 'other':\n",
    "            cuisines += s\n",
    "    cuisines_s = pd.Series(cuisines)\n",
    "    popular_cuisines = cuisines_s.value_counts().index[:4]\n",
    "    df_output['IndexPopularCuisines'] = df_output['Cuisine Style'].apply(index_popular)\n",
    "    \n",
    "    #добавили вручную столбцы по принципу dummy для самых часто встречающихся типов кухонь\n",
    "    #for p in popular_cuisines: \n",
    "       #df_output[p] = df_output['Cuisine Style'].apply(lambda x: int(p in x))\n",
    "    \n",
    "        \n",
    "    #добавили столбец, сколько дней прошло с даты последнего отзыва\n",
    "    df_output['last_review'] = df_output['DateReviews'].apply(lambda d: (datetime.today() - max(d)).days)\n",
    "    #добавили столбец, количество дней отделяет даты публикации отзывов, размещённых на сайте ресторана\n",
    "    df_output['interval_reviews'] = df_output['DateReviews'].apply(lambda d: (max(d) - min(d)).days)\n",
    "    \n",
    "    #добавили столбец - коэффициент, равный отношению ранга ресторана в городе к численности населения в городе\n",
    "    df_output['ranking_of_population'] = df_output['Ranking'] / df_output['population']\n",
    "   \n",
    "    # ################### 5. Clean #################################################### \n",
    "    # убираем признаки, которые еще не успели обработать, \n",
    "    # модель на признаках с dtypes \"object\" обучаться не будет, просто выберим их и удалим\n",
    "    object_columns = [s for s in df_output.columns if df_output[s].dtypes == 'object']\n",
    "    df_output.drop(object_columns, axis = 1, inplace=True)\n",
    "    \n",
    "    return df_output"
   ]
  },
  {
   "cell_type": "markdown",
   "metadata": {},
   "source": [
    ">По хорошему, можно было бы перевести эту большую функцию в класс и разбить на подфункции (согласно ООП). "
   ]
  },
  {
   "cell_type": "markdown",
   "metadata": {},
   "source": [
    "#### Запускаем и проверяем что получилось"
   ]
  },
  {
   "cell_type": "code",
   "execution_count": 77,
   "metadata": {
    "execution": {
     "iopub.execute_input": "2021-07-15T13:13:15.876116Z",
     "iopub.status.busy": "2021-07-15T13:13:15.875584Z",
     "iopub.status.idle": "2021-07-15T13:13:19.792752Z",
     "shell.execute_reply": "2021-07-15T13:13:19.791874Z",
     "shell.execute_reply.started": "2021-07-15T13:13:15.875902Z"
    }
   },
   "outputs": [
    {
     "data": {
      "text/html": [
       "<div>\n",
       "<style scoped>\n",
       "    .dataframe tbody tr th:only-of-type {\n",
       "        vertical-align: middle;\n",
       "    }\n",
       "\n",
       "    .dataframe tbody tr th {\n",
       "        vertical-align: top;\n",
       "    }\n",
       "\n",
       "    .dataframe thead th {\n",
       "        text-align: right;\n",
       "    }\n",
       "</style>\n",
       "<table border=\"1\" class=\"dataframe\">\n",
       "  <thead>\n",
       "    <tr style=\"text-align: right;\">\n",
       "      <th></th>\n",
       "      <th>Ranking</th>\n",
       "      <th>Number of Reviews</th>\n",
       "      <th>sample</th>\n",
       "      <th>Rating</th>\n",
       "      <th>population</th>\n",
       "      <th>capital</th>\n",
       "      <th>salary</th>\n",
       "      <th>mgzavreby</th>\n",
       "      <th>City_Amsterdam</th>\n",
       "      <th>City_Athens</th>\n",
       "      <th>...</th>\n",
       "      <th>City_Vienna</th>\n",
       "      <th>City_Warsaw</th>\n",
       "      <th>City_Zurich</th>\n",
       "      <th>City_nan</th>\n",
       "      <th>PriceRangeInt</th>\n",
       "      <th>count_cuisines</th>\n",
       "      <th>IndexPopularCuisines</th>\n",
       "      <th>last_review</th>\n",
       "      <th>interval_reviews</th>\n",
       "      <th>ranking_of_population</th>\n",
       "    </tr>\n",
       "  </thead>\n",
       "  <tbody>\n",
       "    <tr>\n",
       "      <th>32861</th>\n",
       "      <td>1677.0</td>\n",
       "      <td>217.0</td>\n",
       "      <td>1</td>\n",
       "      <td>3.5</td>\n",
       "      <td>825.125</td>\n",
       "      <td>1</td>\n",
       "      <td>3238</td>\n",
       "      <td>18780</td>\n",
       "      <td>1</td>\n",
       "      <td>0</td>\n",
       "      <td>...</td>\n",
       "      <td>0</td>\n",
       "      <td>0</td>\n",
       "      <td>0</td>\n",
       "      <td>0</td>\n",
       "      <td>2</td>\n",
       "      <td>4</td>\n",
       "      <td>0</td>\n",
       "      <td>1345</td>\n",
       "      <td>33</td>\n",
       "      <td>2.032419</td>\n",
       "    </tr>\n",
       "    <tr>\n",
       "      <th>40466</th>\n",
       "      <td>11179.0</td>\n",
       "      <td>28.0</td>\n",
       "      <td>1</td>\n",
       "      <td>3.5</td>\n",
       "      <td>2240.676</td>\n",
       "      <td>1</td>\n",
       "      <td>3332</td>\n",
       "      <td>89322</td>\n",
       "      <td>0</td>\n",
       "      <td>0</td>\n",
       "      <td>...</td>\n",
       "      <td>0</td>\n",
       "      <td>0</td>\n",
       "      <td>0</td>\n",
       "      <td>0</td>\n",
       "      <td>2</td>\n",
       "      <td>1</td>\n",
       "      <td>0</td>\n",
       "      <td>1909</td>\n",
       "      <td>207</td>\n",
       "      <td>4.989119</td>\n",
       "    </tr>\n",
       "    <tr>\n",
       "      <th>39009</th>\n",
       "      <td>2539.0</td>\n",
       "      <td>35.0</td>\n",
       "      <td>1</td>\n",
       "      <td>4.5</td>\n",
       "      <td>2870.515</td>\n",
       "      <td>1</td>\n",
       "      <td>2726</td>\n",
       "      <td>61567</td>\n",
       "      <td>0</td>\n",
       "      <td>0</td>\n",
       "      <td>...</td>\n",
       "      <td>0</td>\n",
       "      <td>0</td>\n",
       "      <td>0</td>\n",
       "      <td>0</td>\n",
       "      <td>2</td>\n",
       "      <td>4</td>\n",
       "      <td>2</td>\n",
       "      <td>1656</td>\n",
       "      <td>0</td>\n",
       "      <td>0.884510</td>\n",
       "    </tr>\n",
       "    <tr>\n",
       "      <th>46613</th>\n",
       "      <td>894.0</td>\n",
       "      <td>17.0</td>\n",
       "      <td>1</td>\n",
       "      <td>4.0</td>\n",
       "      <td>1718.187</td>\n",
       "      <td>0</td>\n",
       "      <td>4392</td>\n",
       "      <td>38881</td>\n",
       "      <td>0</td>\n",
       "      <td>0</td>\n",
       "      <td>...</td>\n",
       "      <td>0</td>\n",
       "      <td>0</td>\n",
       "      <td>0</td>\n",
       "      <td>0</td>\n",
       "      <td>2</td>\n",
       "      <td>1</td>\n",
       "      <td>0</td>\n",
       "      <td>1440</td>\n",
       "      <td>171</td>\n",
       "      <td>0.520316</td>\n",
       "    </tr>\n",
       "    <tr>\n",
       "      <th>11010</th>\n",
       "      <td>2582.0</td>\n",
       "      <td>9.0</td>\n",
       "      <td>1</td>\n",
       "      <td>4.0</td>\n",
       "      <td>1765.700</td>\n",
       "      <td>1</td>\n",
       "      <td>2940</td>\n",
       "      <td>30816</td>\n",
       "      <td>0</td>\n",
       "      <td>0</td>\n",
       "      <td>...</td>\n",
       "      <td>1</td>\n",
       "      <td>0</td>\n",
       "      <td>0</td>\n",
       "      <td>0</td>\n",
       "      <td>2</td>\n",
       "      <td>5</td>\n",
       "      <td>2</td>\n",
       "      <td>1656</td>\n",
       "      <td>0</td>\n",
       "      <td>1.462310</td>\n",
       "    </tr>\n",
       "    <tr>\n",
       "      <th>16104</th>\n",
       "      <td>11480.0</td>\n",
       "      <td>24.0</td>\n",
       "      <td>1</td>\n",
       "      <td>3.5</td>\n",
       "      <td>2240.676</td>\n",
       "      <td>1</td>\n",
       "      <td>3332</td>\n",
       "      <td>89322</td>\n",
       "      <td>0</td>\n",
       "      <td>0</td>\n",
       "      <td>...</td>\n",
       "      <td>0</td>\n",
       "      <td>0</td>\n",
       "      <td>0</td>\n",
       "      <td>0</td>\n",
       "      <td>2</td>\n",
       "      <td>3</td>\n",
       "      <td>2</td>\n",
       "      <td>1404</td>\n",
       "      <td>135</td>\n",
       "      <td>5.123454</td>\n",
       "    </tr>\n",
       "    <tr>\n",
       "      <th>32139</th>\n",
       "      <td>523.0</td>\n",
       "      <td>211.0</td>\n",
       "      <td>1</td>\n",
       "      <td>4.5</td>\n",
       "      <td>468.163</td>\n",
       "      <td>0</td>\n",
       "      <td>2703</td>\n",
       "      <td>38664</td>\n",
       "      <td>0</td>\n",
       "      <td>0</td>\n",
       "      <td>...</td>\n",
       "      <td>0</td>\n",
       "      <td>0</td>\n",
       "      <td>0</td>\n",
       "      <td>0</td>\n",
       "      <td>1</td>\n",
       "      <td>4</td>\n",
       "      <td>1</td>\n",
       "      <td>1291</td>\n",
       "      <td>15</td>\n",
       "      <td>1.117132</td>\n",
       "    </tr>\n",
       "    <tr>\n",
       "      <th>28674</th>\n",
       "      <td>7777.0</td>\n",
       "      <td>2.0</td>\n",
       "      <td>1</td>\n",
       "      <td>1.0</td>\n",
       "      <td>1628.552</td>\n",
       "      <td>0</td>\n",
       "      <td>2133</td>\n",
       "      <td>82808</td>\n",
       "      <td>0</td>\n",
       "      <td>0</td>\n",
       "      <td>...</td>\n",
       "      <td>0</td>\n",
       "      <td>0</td>\n",
       "      <td>0</td>\n",
       "      <td>0</td>\n",
       "      <td>2</td>\n",
       "      <td>1</td>\n",
       "      <td>0</td>\n",
       "      <td>1656</td>\n",
       "      <td>0</td>\n",
       "      <td>4.775408</td>\n",
       "    </tr>\n",
       "    <tr>\n",
       "      <th>37689</th>\n",
       "      <td>2383.0</td>\n",
       "      <td>25.0</td>\n",
       "      <td>1</td>\n",
       "      <td>2.5</td>\n",
       "      <td>1981.339</td>\n",
       "      <td>1</td>\n",
       "      <td>2893</td>\n",
       "      <td>7440</td>\n",
       "      <td>0</td>\n",
       "      <td>0</td>\n",
       "      <td>...</td>\n",
       "      <td>0</td>\n",
       "      <td>0</td>\n",
       "      <td>0</td>\n",
       "      <td>0</td>\n",
       "      <td>2</td>\n",
       "      <td>1</td>\n",
       "      <td>0</td>\n",
       "      <td>2194</td>\n",
       "      <td>481</td>\n",
       "      <td>1.202722</td>\n",
       "    </tr>\n",
       "    <tr>\n",
       "      <th>20016</th>\n",
       "      <td>3962.0</td>\n",
       "      <td>295.0</td>\n",
       "      <td>1</td>\n",
       "      <td>3.5</td>\n",
       "      <td>2240.676</td>\n",
       "      <td>1</td>\n",
       "      <td>3332</td>\n",
       "      <td>89322</td>\n",
       "      <td>0</td>\n",
       "      <td>0</td>\n",
       "      <td>...</td>\n",
       "      <td>0</td>\n",
       "      <td>0</td>\n",
       "      <td>0</td>\n",
       "      <td>0</td>\n",
       "      <td>2</td>\n",
       "      <td>3</td>\n",
       "      <td>1</td>\n",
       "      <td>1317</td>\n",
       "      <td>311</td>\n",
       "      <td>1.768216</td>\n",
       "    </tr>\n",
       "  </tbody>\n",
       "</table>\n",
       "<p>10 rows × 46 columns</p>\n",
       "</div>"
      ],
      "text/plain": [
       "       Ranking  Number of Reviews  sample  Rating  population  capital  \\\n",
       "32861   1677.0              217.0       1     3.5     825.125        1   \n",
       "40466  11179.0               28.0       1     3.5    2240.676        1   \n",
       "39009   2539.0               35.0       1     4.5    2870.515        1   \n",
       "46613    894.0               17.0       1     4.0    1718.187        0   \n",
       "11010   2582.0                9.0       1     4.0    1765.700        1   \n",
       "16104  11480.0               24.0       1     3.5    2240.676        1   \n",
       "32139    523.0              211.0       1     4.5     468.163        0   \n",
       "28674   7777.0                2.0       1     1.0    1628.552        0   \n",
       "37689   2383.0               25.0       1     2.5    1981.339        1   \n",
       "20016   3962.0              295.0       1     3.5    2240.676        1   \n",
       "\n",
       "       salary  mgzavreby  City_Amsterdam  City_Athens  ...  City_Vienna  \\\n",
       "32861    3238      18780               1            0  ...            0   \n",
       "40466    3332      89322               0            0  ...            0   \n",
       "39009    2726      61567               0            0  ...            0   \n",
       "46613    4392      38881               0            0  ...            0   \n",
       "11010    2940      30816               0            0  ...            1   \n",
       "16104    3332      89322               0            0  ...            0   \n",
       "32139    2703      38664               0            0  ...            0   \n",
       "28674    2133      82808               0            0  ...            0   \n",
       "37689    2893       7440               0            0  ...            0   \n",
       "20016    3332      89322               0            0  ...            0   \n",
       "\n",
       "       City_Warsaw  City_Zurich  City_nan  PriceRangeInt  count_cuisines  \\\n",
       "32861            0            0         0              2               4   \n",
       "40466            0            0         0              2               1   \n",
       "39009            0            0         0              2               4   \n",
       "46613            0            0         0              2               1   \n",
       "11010            0            0         0              2               5   \n",
       "16104            0            0         0              2               3   \n",
       "32139            0            0         0              1               4   \n",
       "28674            0            0         0              2               1   \n",
       "37689            0            0         0              2               1   \n",
       "20016            0            0         0              2               3   \n",
       "\n",
       "       IndexPopularCuisines  last_review  interval_reviews  \\\n",
       "32861                     0         1345                33   \n",
       "40466                     0         1909               207   \n",
       "39009                     2         1656                 0   \n",
       "46613                     0         1440               171   \n",
       "11010                     2         1656                 0   \n",
       "16104                     2         1404               135   \n",
       "32139                     1         1291                15   \n",
       "28674                     0         1656                 0   \n",
       "37689                     0         2194               481   \n",
       "20016                     1         1317               311   \n",
       "\n",
       "       ranking_of_population  \n",
       "32861               2.032419  \n",
       "40466               4.989119  \n",
       "39009               0.884510  \n",
       "46613               0.520316  \n",
       "11010               1.462310  \n",
       "16104               5.123454  \n",
       "32139               1.117132  \n",
       "28674               4.775408  \n",
       "37689               1.202722  \n",
       "20016               1.768216  \n",
       "\n",
       "[10 rows x 46 columns]"
      ]
     },
     "execution_count": 77,
     "metadata": {},
     "output_type": "execute_result"
    }
   ],
   "source": [
    "df_preproc = preproc_data(data)\n",
    "df_preproc.sample(10)"
   ]
  },
  {
   "cell_type": "code",
   "execution_count": 78,
   "metadata": {
    "execution": {
     "iopub.execute_input": "2021-07-15T13:13:19.794309Z",
     "iopub.status.busy": "2021-07-15T13:13:19.794068Z",
     "iopub.status.idle": "2021-07-15T13:13:19.813767Z",
     "shell.execute_reply": "2021-07-15T13:13:19.812969Z",
     "shell.execute_reply.started": "2021-07-15T13:13:19.794267Z"
    }
   },
   "outputs": [
    {
     "name": "stdout",
     "output_type": "stream",
     "text": [
      "<class 'pandas.core.frame.DataFrame'>\n",
      "RangeIndex: 50000 entries, 0 to 49999\n",
      "Data columns (total 46 columns):\n",
      " #   Column                 Non-Null Count  Dtype  \n",
      "---  ------                 --------------  -----  \n",
      " 0   Ranking                50000 non-null  float64\n",
      " 1   Number of Reviews      50000 non-null  float64\n",
      " 2   sample                 50000 non-null  int64  \n",
      " 3   Rating                 50000 non-null  float64\n",
      " 4   population             50000 non-null  float64\n",
      " 5   capital                50000 non-null  int64  \n",
      " 6   salary                 50000 non-null  int64  \n",
      " 7   mgzavreby              50000 non-null  int64  \n",
      " 8   City_Amsterdam         50000 non-null  uint8  \n",
      " 9   City_Athens            50000 non-null  uint8  \n",
      " 10  City_Barcelona         50000 non-null  uint8  \n",
      " 11  City_Berlin            50000 non-null  uint8  \n",
      " 12  City_Bratislava        50000 non-null  uint8  \n",
      " 13  City_Brussels          50000 non-null  uint8  \n",
      " 14  City_Budapest          50000 non-null  uint8  \n",
      " 15  City_Copenhagen        50000 non-null  uint8  \n",
      " 16  City_Dublin            50000 non-null  uint8  \n",
      " 17  City_Edinburgh         50000 non-null  uint8  \n",
      " 18  City_Geneva            50000 non-null  uint8  \n",
      " 19  City_Hamburg           50000 non-null  uint8  \n",
      " 20  City_Helsinki          50000 non-null  uint8  \n",
      " 21  City_Krakow            50000 non-null  uint8  \n",
      " 22  City_Lisbon            50000 non-null  uint8  \n",
      " 23  City_Ljubljana         50000 non-null  uint8  \n",
      " 24  City_London            50000 non-null  uint8  \n",
      " 25  City_Luxembourg        50000 non-null  uint8  \n",
      " 26  City_Lyon              50000 non-null  uint8  \n",
      " 27  City_Madrid            50000 non-null  uint8  \n",
      " 28  City_Milan             50000 non-null  uint8  \n",
      " 29  City_Munich            50000 non-null  uint8  \n",
      " 30  City_Oporto            50000 non-null  uint8  \n",
      " 31  City_Oslo              50000 non-null  uint8  \n",
      " 32  City_Paris             50000 non-null  uint8  \n",
      " 33  City_Prague            50000 non-null  uint8  \n",
      " 34  City_Rome              50000 non-null  uint8  \n",
      " 35  City_Stockholm         50000 non-null  uint8  \n",
      " 36  City_Vienna            50000 non-null  uint8  \n",
      " 37  City_Warsaw            50000 non-null  uint8  \n",
      " 38  City_Zurich            50000 non-null  uint8  \n",
      " 39  City_nan               50000 non-null  uint8  \n",
      " 40  PriceRangeInt          50000 non-null  int64  \n",
      " 41  count_cuisines         50000 non-null  int64  \n",
      " 42  IndexPopularCuisines   50000 non-null  int64  \n",
      " 43  last_review            50000 non-null  int64  \n",
      " 44  interval_reviews       50000 non-null  int64  \n",
      " 45  ranking_of_population  50000 non-null  float64\n",
      "dtypes: float64(5), int64(9), uint8(32)\n",
      "memory usage: 6.9 MB\n"
     ]
    }
   ],
   "source": [
    "df_preproc.info()"
   ]
  },
  {
   "cell_type": "code",
   "execution_count": 79,
   "metadata": {
    "execution": {
     "iopub.execute_input": "2021-07-15T13:13:19.815384Z",
     "iopub.status.busy": "2021-07-15T13:13:19.815105Z",
     "iopub.status.idle": "2021-07-15T13:13:19.843419Z",
     "shell.execute_reply": "2021-07-15T13:13:19.842609Z",
     "shell.execute_reply.started": "2021-07-15T13:13:19.815323Z"
    }
   },
   "outputs": [],
   "source": [
    "# Теперь выделим тестовую часть\n",
    "train_data = df_preproc.query('sample == 1').drop(['sample'], axis=1)\n",
    "test_data = df_preproc.query('sample == 0').drop(['sample'], axis=1)\n",
    "\n",
    "y = train_data.Rating.values            # наш таргет\n",
    "X = train_data.drop(['Rating'], axis=1)"
   ]
  },
  {
   "cell_type": "markdown",
   "metadata": {},
   "source": [
    "**Перед тем как отправлять наши данные на обучение, разделим данные на еще один тест и трейн, для валидации. \n",
    "Это поможет нам проверить, как хорошо наша модель работает, до отправки submissiona на kaggle.**"
   ]
  },
  {
   "cell_type": "code",
   "execution_count": 80,
   "metadata": {
    "execution": {
     "iopub.execute_input": "2021-07-15T13:13:19.844913Z",
     "iopub.status.busy": "2021-07-15T13:13:19.844525Z",
     "iopub.status.idle": "2021-07-15T13:13:19.861155Z",
     "shell.execute_reply": "2021-07-15T13:13:19.860297Z",
     "shell.execute_reply.started": "2021-07-15T13:13:19.844713Z"
    }
   },
   "outputs": [],
   "source": [
    "# Воспользуемся специальной функцие train_test_split для разбивки тестовых данных\n",
    "# выделим 20% данных на валидацию (параметр test_size)\n",
    "X_train, X_test, y_train, y_test = train_test_split(X, y, test_size=0.2, random_state=RANDOM_SEED)"
   ]
  },
  {
   "cell_type": "code",
   "execution_count": 81,
   "metadata": {
    "execution": {
     "iopub.execute_input": "2021-07-15T13:13:19.862712Z",
     "iopub.status.busy": "2021-07-15T13:13:19.862320Z",
     "iopub.status.idle": "2021-07-15T13:13:19.868862Z",
     "shell.execute_reply": "2021-07-15T13:13:19.867858Z",
     "shell.execute_reply.started": "2021-07-15T13:13:19.862529Z"
    }
   },
   "outputs": [
    {
     "data": {
      "text/plain": [
       "((10000, 45), (40000, 45), (40000, 44), (32000, 44), (8000, 44))"
      ]
     },
     "execution_count": 81,
     "metadata": {},
     "output_type": "execute_result"
    }
   ],
   "source": [
    "# проверяем\n",
    "test_data.shape, train_data.shape, X.shape, X_train.shape, X_test.shape"
   ]
  },
  {
   "cell_type": "markdown",
   "metadata": {},
   "source": [
    "# Model \n",
    "Сам ML"
   ]
  },
  {
   "cell_type": "code",
   "execution_count": 82,
   "metadata": {
    "execution": {
     "iopub.execute_input": "2021-07-15T13:13:19.871140Z",
     "iopub.status.busy": "2021-07-15T13:13:19.870585Z",
     "iopub.status.idle": "2021-07-15T13:13:19.878914Z",
     "shell.execute_reply": "2021-07-15T13:13:19.877734Z",
     "shell.execute_reply.started": "2021-07-15T13:13:19.870902Z"
    }
   },
   "outputs": [],
   "source": [
    "# Импортируем необходимые библиотеки:\n",
    "from sklearn.ensemble import RandomForestRegressor # инструмент для создания и обучения модели\n",
    "from sklearn import metrics # инструменты для оценки точности модели"
   ]
  },
  {
   "cell_type": "code",
   "execution_count": 83,
   "metadata": {
    "execution": {
     "iopub.execute_input": "2021-07-15T13:13:19.880975Z",
     "iopub.status.busy": "2021-07-15T13:13:19.880407Z",
     "iopub.status.idle": "2021-07-15T13:13:19.893566Z",
     "shell.execute_reply": "2021-07-15T13:13:19.892963Z",
     "shell.execute_reply.started": "2021-07-15T13:13:19.880921Z"
    }
   },
   "outputs": [],
   "source": [
    "# Создаём модель (НАСТРОЙКИ НЕ ТРОГАЕМ)\n",
    "model = RandomForestRegressor(n_estimators=100, verbose=1, n_jobs=-1, random_state=RANDOM_SEED)"
   ]
  },
  {
   "cell_type": "code",
   "execution_count": 84,
   "metadata": {
    "execution": {
     "iopub.execute_input": "2021-07-15T13:13:19.895532Z",
     "iopub.status.busy": "2021-07-15T13:13:19.895030Z",
     "iopub.status.idle": "2021-07-15T13:13:27.790786Z",
     "shell.execute_reply": "2021-07-15T13:13:27.788895Z",
     "shell.execute_reply.started": "2021-07-15T13:13:19.895479Z"
    }
   },
   "outputs": [
    {
     "name": "stderr",
     "output_type": "stream",
     "text": [
      "[Parallel(n_jobs=-1)]: Using backend ThreadingBackend with 8 concurrent workers.\n",
      "[Parallel(n_jobs=-1)]: Done  34 tasks      | elapsed:    1.6s\n",
      "[Parallel(n_jobs=-1)]: Done 100 out of 100 | elapsed:    4.3s finished\n",
      "[Parallel(n_jobs=8)]: Using backend ThreadingBackend with 8 concurrent workers.\n",
      "[Parallel(n_jobs=8)]: Done  34 tasks      | elapsed:    0.0s\n",
      "[Parallel(n_jobs=8)]: Done 100 out of 100 | elapsed:    0.0s finished\n"
     ]
    }
   ],
   "source": [
    "# Обучаем модель на тестовом наборе данных\n",
    "model.fit(X_train, y_train)\n",
    "\n",
    "# Используем обученную модель для предсказания рейтинга ресторанов в тестовой выборке.\n",
    "# Предсказанные значения записываем в переменную y_pred\n",
    "y_pred = model.predict(X_test)"
   ]
  },
  {
   "cell_type": "code",
   "execution_count": 85,
   "metadata": {
    "execution": {
     "iopub.execute_input": "2021-07-15T13:13:27.792351Z",
     "iopub.status.busy": "2021-07-15T13:13:27.792128Z",
     "iopub.status.idle": "2021-07-15T13:13:27.797663Z",
     "shell.execute_reply": "2021-07-15T13:13:27.796549Z",
     "shell.execute_reply.started": "2021-07-15T13:13:27.792317Z"
    }
   },
   "outputs": [
    {
     "name": "stdout",
     "output_type": "stream",
     "text": [
      "MAE: 0.20381749999999998\n"
     ]
    }
   ],
   "source": [
    "# Сравниваем предсказанные значения (y_pred) с реальными (y_test), и смотрим насколько они в среднем отличаются\n",
    "# Метрика называется Mean Absolute Error (MAE) и показывает среднее отклонение предсказанных значений от фактических.\n",
    "print('MAE:', metrics.mean_absolute_error(y_test, y_pred))"
   ]
  },
  {
   "cell_type": "code",
   "execution_count": 86,
   "metadata": {
    "execution": {
     "iopub.execute_input": "2021-07-15T13:13:27.799196Z",
     "iopub.status.busy": "2021-07-15T13:13:27.798944Z",
     "iopub.status.idle": "2021-07-15T13:13:28.289551Z",
     "shell.execute_reply": "2021-07-15T13:13:28.288514Z",
     "shell.execute_reply.started": "2021-07-15T13:13:27.799147Z"
    }
   },
   "outputs": [
    {
     "data": {
      "text/plain": [
       "<AxesSubplot:>"
      ]
     },
     "execution_count": 86,
     "metadata": {},
     "output_type": "execute_result"
    },
    {
     "data": {
      "image/png": "[encoded data removed]",
      "text/plain": [
       "<Figure size 720x720 with 1 Axes>"
      ]
     },
     "metadata": {
      "needs_background": "light"
     },
     "output_type": "display_data"
    }
   ],
   "source": [
    "# в RandomForestRegressor есть возможность вывести самые важные признаки для модели\n",
    "plt.rcParams['figure.figsize'] = (10,10)\n",
    "feat_importances = pd.Series(model.feature_importances_, index=X.columns)\n",
    "feat_importances.nlargest(15).plot(kind='barh')"
   ]
  },
  {
   "cell_type": "markdown",
   "metadata": {},
   "source": [
    "# Submission\n",
    "Если все устраевает - готовим Submission на кагл"
   ]
  },
  {
   "cell_type": "code",
   "execution_count": 87,
   "metadata": {
    "execution": {
     "iopub.execute_input": "2021-07-15T13:13:28.297939Z",
     "iopub.status.busy": "2021-07-15T13:13:28.295164Z",
     "iopub.status.idle": "2021-07-15T13:13:28.334851Z",
     "shell.execute_reply": "2021-07-15T13:13:28.334235Z",
     "shell.execute_reply.started": "2021-07-15T13:13:28.297864Z"
    }
   },
   "outputs": [
    {
     "data": {
      "text/html": [
       "<div>\n",
       "<style scoped>\n",
       "    .dataframe tbody tr th:only-of-type {\n",
       "        vertical-align: middle;\n",
       "    }\n",
       "\n",
       "    .dataframe tbody tr th {\n",
       "        vertical-align: top;\n",
       "    }\n",
       "\n",
       "    .dataframe thead th {\n",
       "        text-align: right;\n",
       "    }\n",
       "</style>\n",
       "<table border=\"1\" class=\"dataframe\">\n",
       "  <thead>\n",
       "    <tr style=\"text-align: right;\">\n",
       "      <th></th>\n",
       "      <th>Ranking</th>\n",
       "      <th>Number of Reviews</th>\n",
       "      <th>Rating</th>\n",
       "      <th>population</th>\n",
       "      <th>capital</th>\n",
       "      <th>salary</th>\n",
       "      <th>mgzavreby</th>\n",
       "      <th>City_Amsterdam</th>\n",
       "      <th>City_Athens</th>\n",
       "      <th>City_Barcelona</th>\n",
       "      <th>...</th>\n",
       "      <th>City_Vienna</th>\n",
       "      <th>City_Warsaw</th>\n",
       "      <th>City_Zurich</th>\n",
       "      <th>City_nan</th>\n",
       "      <th>PriceRangeInt</th>\n",
       "      <th>count_cuisines</th>\n",
       "      <th>IndexPopularCuisines</th>\n",
       "      <th>last_review</th>\n",
       "      <th>interval_reviews</th>\n",
       "      <th>ranking_of_population</th>\n",
       "    </tr>\n",
       "  </thead>\n",
       "  <tbody>\n",
       "    <tr>\n",
       "      <th>4784</th>\n",
       "      <td>185.0</td>\n",
       "      <td>1698.0</td>\n",
       "      <td>0.0</td>\n",
       "      <td>8173.921</td>\n",
       "      <td>1</td>\n",
       "      <td>2703</td>\n",
       "      <td>38664</td>\n",
       "      <td>0</td>\n",
       "      <td>0</td>\n",
       "      <td>0</td>\n",
       "      <td>...</td>\n",
       "      <td>0</td>\n",
       "      <td>0</td>\n",
       "      <td>0</td>\n",
       "      <td>0</td>\n",
       "      <td>2</td>\n",
       "      <td>4</td>\n",
       "      <td>1</td>\n",
       "      <td>1285</td>\n",
       "      <td>1</td>\n",
       "      <td>0.022633</td>\n",
       "    </tr>\n",
       "    <tr>\n",
       "      <th>5648</th>\n",
       "      <td>2188.0</td>\n",
       "      <td>1.0</td>\n",
       "      <td>0.0</td>\n",
       "      <td>1364.992</td>\n",
       "      <td>0</td>\n",
       "      <td>4392</td>\n",
       "      <td>38881</td>\n",
       "      <td>0</td>\n",
       "      <td>0</td>\n",
       "      <td>0</td>\n",
       "      <td>...</td>\n",
       "      <td>0</td>\n",
       "      <td>0</td>\n",
       "      <td>0</td>\n",
       "      <td>0</td>\n",
       "      <td>2</td>\n",
       "      <td>1</td>\n",
       "      <td>0</td>\n",
       "      <td>1656</td>\n",
       "      <td>0</td>\n",
       "      <td>1.602940</td>\n",
       "    </tr>\n",
       "    <tr>\n",
       "      <th>7854</th>\n",
       "      <td>33.0</td>\n",
       "      <td>146.0</td>\n",
       "      <td>0.0</td>\n",
       "      <td>496.373</td>\n",
       "      <td>0</td>\n",
       "      <td>3332</td>\n",
       "      <td>89322</td>\n",
       "      <td>0</td>\n",
       "      <td>0</td>\n",
       "      <td>0</td>\n",
       "      <td>...</td>\n",
       "      <td>0</td>\n",
       "      <td>0</td>\n",
       "      <td>0</td>\n",
       "      <td>0</td>\n",
       "      <td>3</td>\n",
       "      <td>4</td>\n",
       "      <td>1</td>\n",
       "      <td>1415</td>\n",
       "      <td>69</td>\n",
       "      <td>0.066482</td>\n",
       "    </tr>\n",
       "    <tr>\n",
       "      <th>3653</th>\n",
       "      <td>1854.0</td>\n",
       "      <td>3.0</td>\n",
       "      <td>0.0</td>\n",
       "      <td>1720.442</td>\n",
       "      <td>1</td>\n",
       "      <td>1253</td>\n",
       "      <td>14283</td>\n",
       "      <td>0</td>\n",
       "      <td>0</td>\n",
       "      <td>0</td>\n",
       "      <td>...</td>\n",
       "      <td>0</td>\n",
       "      <td>1</td>\n",
       "      <td>0</td>\n",
       "      <td>0</td>\n",
       "      <td>2</td>\n",
       "      <td>1</td>\n",
       "      <td>0</td>\n",
       "      <td>1656</td>\n",
       "      <td>0</td>\n",
       "      <td>1.077630</td>\n",
       "    </tr>\n",
       "    <tr>\n",
       "      <th>6708</th>\n",
       "      <td>485.0</td>\n",
       "      <td>86.0</td>\n",
       "      <td>0.0</td>\n",
       "      <td>673.519</td>\n",
       "      <td>1</td>\n",
       "      <td>5450</td>\n",
       "      <td>5688</td>\n",
       "      <td>0</td>\n",
       "      <td>0</td>\n",
       "      <td>0</td>\n",
       "      <td>...</td>\n",
       "      <td>0</td>\n",
       "      <td>0</td>\n",
       "      <td>0</td>\n",
       "      <td>0</td>\n",
       "      <td>2</td>\n",
       "      <td>5</td>\n",
       "      <td>1</td>\n",
       "      <td>1307</td>\n",
       "      <td>17</td>\n",
       "      <td>0.720098</td>\n",
       "    </tr>\n",
       "    <tr>\n",
       "      <th>2885</th>\n",
       "      <td>1447.0</td>\n",
       "      <td>15.0</td>\n",
       "      <td>0.0</td>\n",
       "      <td>402.294</td>\n",
       "      <td>0</td>\n",
       "      <td>3930</td>\n",
       "      <td>11715</td>\n",
       "      <td>0</td>\n",
       "      <td>0</td>\n",
       "      <td>0</td>\n",
       "      <td>...</td>\n",
       "      <td>0</td>\n",
       "      <td>0</td>\n",
       "      <td>1</td>\n",
       "      <td>0</td>\n",
       "      <td>2</td>\n",
       "      <td>2</td>\n",
       "      <td>1</td>\n",
       "      <td>1470</td>\n",
       "      <td>0</td>\n",
       "      <td>3.596872</td>\n",
       "    </tr>\n",
       "    <tr>\n",
       "      <th>2856</th>\n",
       "      <td>4696.0</td>\n",
       "      <td>7.0</td>\n",
       "      <td>0.0</td>\n",
       "      <td>1628.552</td>\n",
       "      <td>0</td>\n",
       "      <td>2133</td>\n",
       "      <td>82808</td>\n",
       "      <td>0</td>\n",
       "      <td>0</td>\n",
       "      <td>1</td>\n",
       "      <td>...</td>\n",
       "      <td>0</td>\n",
       "      <td>0</td>\n",
       "      <td>0</td>\n",
       "      <td>0</td>\n",
       "      <td>2</td>\n",
       "      <td>1</td>\n",
       "      <td>0</td>\n",
       "      <td>1656</td>\n",
       "      <td>0</td>\n",
       "      <td>2.883543</td>\n",
       "    </tr>\n",
       "    <tr>\n",
       "      <th>5743</th>\n",
       "      <td>375.0</td>\n",
       "      <td>163.0</td>\n",
       "      <td>0.0</td>\n",
       "      <td>3326.095</td>\n",
       "      <td>1</td>\n",
       "      <td>4392</td>\n",
       "      <td>38881</td>\n",
       "      <td>0</td>\n",
       "      <td>0</td>\n",
       "      <td>0</td>\n",
       "      <td>...</td>\n",
       "      <td>0</td>\n",
       "      <td>0</td>\n",
       "      <td>0</td>\n",
       "      <td>0</td>\n",
       "      <td>2</td>\n",
       "      <td>4</td>\n",
       "      <td>2</td>\n",
       "      <td>1404</td>\n",
       "      <td>4</td>\n",
       "      <td>0.112745</td>\n",
       "    </tr>\n",
       "    <tr>\n",
       "      <th>2971</th>\n",
       "      <td>12539.0</td>\n",
       "      <td>2.0</td>\n",
       "      <td>0.0</td>\n",
       "      <td>8173.921</td>\n",
       "      <td>1</td>\n",
       "      <td>2703</td>\n",
       "      <td>38664</td>\n",
       "      <td>0</td>\n",
       "      <td>0</td>\n",
       "      <td>0</td>\n",
       "      <td>...</td>\n",
       "      <td>0</td>\n",
       "      <td>0</td>\n",
       "      <td>0</td>\n",
       "      <td>0</td>\n",
       "      <td>2</td>\n",
       "      <td>1</td>\n",
       "      <td>0</td>\n",
       "      <td>1550</td>\n",
       "      <td>77</td>\n",
       "      <td>1.534025</td>\n",
       "    </tr>\n",
       "    <tr>\n",
       "      <th>8507</th>\n",
       "      <td>3335.0</td>\n",
       "      <td>30.0</td>\n",
       "      <td>0.0</td>\n",
       "      <td>1628.552</td>\n",
       "      <td>0</td>\n",
       "      <td>2133</td>\n",
       "      <td>82808</td>\n",
       "      <td>0</td>\n",
       "      <td>0</td>\n",
       "      <td>1</td>\n",
       "      <td>...</td>\n",
       "      <td>0</td>\n",
       "      <td>0</td>\n",
       "      <td>0</td>\n",
       "      <td>0</td>\n",
       "      <td>1</td>\n",
       "      <td>5</td>\n",
       "      <td>2</td>\n",
       "      <td>1466</td>\n",
       "      <td>157</td>\n",
       "      <td>2.047831</td>\n",
       "    </tr>\n",
       "  </tbody>\n",
       "</table>\n",
       "<p>10 rows × 45 columns</p>\n",
       "</div>"
      ],
      "text/plain": [
       "      Ranking  Number of Reviews  Rating  population  capital  salary  \\\n",
       "4784    185.0             1698.0     0.0    8173.921        1    2703   \n",
       "5648   2188.0                1.0     0.0    1364.992        0    4392   \n",
       "7854     33.0              146.0     0.0     496.373        0    3332   \n",
       "3653   1854.0                3.0     0.0    1720.442        1    1253   \n",
       "6708    485.0               86.0     0.0     673.519        1    5450   \n",
       "2885   1447.0               15.0     0.0     402.294        0    3930   \n",
       "2856   4696.0                7.0     0.0    1628.552        0    2133   \n",
       "5743    375.0              163.0     0.0    3326.095        1    4392   \n",
       "2971  12539.0                2.0     0.0    8173.921        1    2703   \n",
       "8507   3335.0               30.0     0.0    1628.552        0    2133   \n",
       "\n",
       "      mgzavreby  City_Amsterdam  City_Athens  City_Barcelona  ...  \\\n",
       "4784      38664               0            0               0  ...   \n",
       "5648      38881               0            0               0  ...   \n",
       "7854      89322               0            0               0  ...   \n",
       "3653      14283               0            0               0  ...   \n",
       "6708       5688               0            0               0  ...   \n",
       "2885      11715               0            0               0  ...   \n",
       "2856      82808               0            0               1  ...   \n",
       "5743      38881               0            0               0  ...   \n",
       "2971      38664               0            0               0  ...   \n",
       "8507      82808               0            0               1  ...   \n",
       "\n",
       "      City_Vienna  City_Warsaw  City_Zurich  City_nan  PriceRangeInt  \\\n",
       "4784            0            0            0         0              2   \n",
       "5648            0            0            0         0              2   \n",
       "7854            0            0            0         0              3   \n",
       "3653            0            1            0         0              2   \n",
       "6708            0            0            0         0              2   \n",
       "2885            0            0            1         0              2   \n",
       "2856            0            0            0         0              2   \n",
       "5743            0            0            0         0              2   \n",
       "2971            0            0            0         0              2   \n",
       "8507            0            0            0         0              1   \n",
       "\n",
       "      count_cuisines  IndexPopularCuisines  last_review  interval_reviews  \\\n",
       "4784               4                     1         1285                 1   \n",
       "5648               1                     0         1656                 0   \n",
       "7854               4                     1         1415                69   \n",
       "3653               1                     0         1656                 0   \n",
       "6708               5                     1         1307                17   \n",
       "2885               2                     1         1470                 0   \n",
       "2856               1                     0         1656                 0   \n",
       "5743               4                     2         1404                 4   \n",
       "2971               1                     0         1550                77   \n",
       "8507               5                     2         1466               157   \n",
       "\n",
       "      ranking_of_population  \n",
       "4784               0.022633  \n",
       "5648               1.602940  \n",
       "7854               0.066482  \n",
       "3653               1.077630  \n",
       "6708               0.720098  \n",
       "2885               3.596872  \n",
       "2856               2.883543  \n",
       "5743               0.112745  \n",
       "2971               1.534025  \n",
       "8507               2.047831  \n",
       "\n",
       "[10 rows x 45 columns]"
      ]
     },
     "execution_count": 87,
     "metadata": {},
     "output_type": "execute_result"
    }
   ],
   "source": [
    "test_data.sample(10)"
   ]
  },
  {
   "cell_type": "code",
   "execution_count": 88,
   "metadata": {
    "execution": {
     "iopub.execute_input": "2021-07-15T13:13:28.336751Z",
     "iopub.status.busy": "2021-07-15T13:13:28.336236Z",
     "iopub.status.idle": "2021-07-15T13:13:28.343634Z",
     "shell.execute_reply": "2021-07-15T13:13:28.342866Z",
     "shell.execute_reply.started": "2021-07-15T13:13:28.336694Z"
    }
   },
   "outputs": [],
   "source": [
    "test_data = test_data.drop(['Rating'], axis=1)"
   ]
  },
  {
   "cell_type": "code",
   "execution_count": 89,
   "metadata": {
    "execution": {
     "iopub.execute_input": "2021-07-15T13:13:28.345467Z",
     "iopub.status.busy": "2021-07-15T13:13:28.344950Z",
     "iopub.status.idle": "2021-07-15T13:13:28.363306Z",
     "shell.execute_reply": "2021-07-15T13:13:28.362269Z",
     "shell.execute_reply.started": "2021-07-15T13:13:28.345409Z"
    }
   },
   "outputs": [
    {
     "data": {
      "text/html": [
       "<div>\n",
       "<style scoped>\n",
       "    .dataframe tbody tr th:only-of-type {\n",
       "        vertical-align: middle;\n",
       "    }\n",
       "\n",
       "    .dataframe tbody tr th {\n",
       "        vertical-align: top;\n",
       "    }\n",
       "\n",
       "    .dataframe thead th {\n",
       "        text-align: right;\n",
       "    }\n",
       "</style>\n",
       "<table border=\"1\" class=\"dataframe\">\n",
       "  <thead>\n",
       "    <tr style=\"text-align: right;\">\n",
       "      <th></th>\n",
       "      <th>Restaurant_id</th>\n",
       "      <th>Rating</th>\n",
       "    </tr>\n",
       "  </thead>\n",
       "  <tbody>\n",
       "    <tr>\n",
       "      <th>0</th>\n",
       "      <td>id_0</td>\n",
       "      <td>2.0</td>\n",
       "    </tr>\n",
       "    <tr>\n",
       "      <th>1</th>\n",
       "      <td>id_1</td>\n",
       "      <td>2.5</td>\n",
       "    </tr>\n",
       "    <tr>\n",
       "      <th>2</th>\n",
       "      <td>id_2</td>\n",
       "      <td>4.0</td>\n",
       "    </tr>\n",
       "    <tr>\n",
       "      <th>3</th>\n",
       "      <td>id_3</td>\n",
       "      <td>1.0</td>\n",
       "    </tr>\n",
       "    <tr>\n",
       "      <th>4</th>\n",
       "      <td>id_4</td>\n",
       "      <td>4.0</td>\n",
       "    </tr>\n",
       "    <tr>\n",
       "      <th>...</th>\n",
       "      <td>...</td>\n",
       "      <td>...</td>\n",
       "    </tr>\n",
       "    <tr>\n",
       "      <th>9995</th>\n",
       "      <td>id_9995</td>\n",
       "      <td>3.0</td>\n",
       "    </tr>\n",
       "    <tr>\n",
       "      <th>9996</th>\n",
       "      <td>id_9996</td>\n",
       "      <td>1.5</td>\n",
       "    </tr>\n",
       "    <tr>\n",
       "      <th>9997</th>\n",
       "      <td>id_9997</td>\n",
       "      <td>4.5</td>\n",
       "    </tr>\n",
       "    <tr>\n",
       "      <th>9998</th>\n",
       "      <td>id_9998</td>\n",
       "      <td>1.0</td>\n",
       "    </tr>\n",
       "    <tr>\n",
       "      <th>9999</th>\n",
       "      <td>id_9999</td>\n",
       "      <td>2.5</td>\n",
       "    </tr>\n",
       "  </tbody>\n",
       "</table>\n",
       "<p>10000 rows × 2 columns</p>\n",
       "</div>"
      ],
      "text/plain": [
       "     Restaurant_id  Rating\n",
       "0             id_0     2.0\n",
       "1             id_1     2.5\n",
       "2             id_2     4.0\n",
       "3             id_3     1.0\n",
       "4             id_4     4.0\n",
       "...            ...     ...\n",
       "9995       id_9995     3.0\n",
       "9996       id_9996     1.5\n",
       "9997       id_9997     4.5\n",
       "9998       id_9998     1.0\n",
       "9999       id_9999     2.5\n",
       "\n",
       "[10000 rows x 2 columns]"
      ]
     },
     "execution_count": 89,
     "metadata": {},
     "output_type": "execute_result"
    }
   ],
   "source": [
    "sample_submission"
   ]
  },
  {
   "cell_type": "code",
   "execution_count": 90,
   "metadata": {
    "execution": {
     "iopub.execute_input": "2021-07-15T13:13:28.365163Z",
     "iopub.status.busy": "2021-07-15T13:13:28.364688Z",
     "iopub.status.idle": "2021-07-15T13:13:28.577805Z",
     "shell.execute_reply": "2021-07-15T13:13:28.576998Z",
     "shell.execute_reply.started": "2021-07-15T13:13:28.364918Z"
    }
   },
   "outputs": [
    {
     "name": "stderr",
     "output_type": "stream",
     "text": [
      "[Parallel(n_jobs=8)]: Using backend ThreadingBackend with 8 concurrent workers.\n",
      "[Parallel(n_jobs=8)]: Done  34 tasks      | elapsed:    0.0s\n",
      "[Parallel(n_jobs=8)]: Done 100 out of 100 | elapsed:    0.0s finished\n"
     ]
    }
   ],
   "source": [
    "predict_submission = model.predict(test_data)"
   ]
  },
  {
   "cell_type": "code",
   "execution_count": 91,
   "metadata": {
    "execution": {
     "iopub.execute_input": "2021-07-15T13:13:28.579003Z",
     "iopub.status.busy": "2021-07-15T13:13:28.578733Z",
     "iopub.status.idle": "2021-07-15T13:13:28.584908Z",
     "shell.execute_reply": "2021-07-15T13:13:28.584194Z",
     "shell.execute_reply.started": "2021-07-15T13:13:28.578963Z"
    }
   },
   "outputs": [
    {
     "data": {
      "text/plain": [
       "array([3.03 , 4.195, 4.395, ..., 3.04 , 4.495, 4.315])"
      ]
     },
     "execution_count": 91,
     "metadata": {},
     "output_type": "execute_result"
    }
   ],
   "source": [
    "predict_submission"
   ]
  },
  {
   "cell_type": "code",
   "execution_count": 92,
   "metadata": {
    "execution": {
     "iopub.execute_input": "2021-07-15T13:13:28.586527Z",
     "iopub.status.busy": "2021-07-15T13:13:28.586139Z",
     "iopub.status.idle": "2021-07-15T13:13:28.632844Z",
     "shell.execute_reply": "2021-07-15T13:13:28.632236Z",
     "shell.execute_reply.started": "2021-07-15T13:13:28.586476Z"
    }
   },
   "outputs": [
    {
     "data": {
      "text/html": [
       "<div>\n",
       "<style scoped>\n",
       "    .dataframe tbody tr th:only-of-type {\n",
       "        vertical-align: middle;\n",
       "    }\n",
       "\n",
       "    .dataframe tbody tr th {\n",
       "        vertical-align: top;\n",
       "    }\n",
       "\n",
       "    .dataframe thead th {\n",
       "        text-align: right;\n",
       "    }\n",
       "</style>\n",
       "<table border=\"1\" class=\"dataframe\">\n",
       "  <thead>\n",
       "    <tr style=\"text-align: right;\">\n",
       "      <th></th>\n",
       "      <th>Restaurant_id</th>\n",
       "      <th>Rating</th>\n",
       "    </tr>\n",
       "  </thead>\n",
       "  <tbody>\n",
       "    <tr>\n",
       "      <th>0</th>\n",
       "      <td>id_0</td>\n",
       "      <td>3.030</td>\n",
       "    </tr>\n",
       "    <tr>\n",
       "      <th>1</th>\n",
       "      <td>id_1</td>\n",
       "      <td>4.195</td>\n",
       "    </tr>\n",
       "    <tr>\n",
       "      <th>2</th>\n",
       "      <td>id_2</td>\n",
       "      <td>4.395</td>\n",
       "    </tr>\n",
       "    <tr>\n",
       "      <th>3</th>\n",
       "      <td>id_3</td>\n",
       "      <td>4.360</td>\n",
       "    </tr>\n",
       "    <tr>\n",
       "      <th>4</th>\n",
       "      <td>id_4</td>\n",
       "      <td>4.395</td>\n",
       "    </tr>\n",
       "    <tr>\n",
       "      <th>5</th>\n",
       "      <td>id_5</td>\n",
       "      <td>4.305</td>\n",
       "    </tr>\n",
       "    <tr>\n",
       "      <th>6</th>\n",
       "      <td>id_6</td>\n",
       "      <td>1.355</td>\n",
       "    </tr>\n",
       "    <tr>\n",
       "      <th>7</th>\n",
       "      <td>id_7</td>\n",
       "      <td>2.625</td>\n",
       "    </tr>\n",
       "    <tr>\n",
       "      <th>8</th>\n",
       "      <td>id_8</td>\n",
       "      <td>3.915</td>\n",
       "    </tr>\n",
       "    <tr>\n",
       "      <th>9</th>\n",
       "      <td>id_9</td>\n",
       "      <td>4.615</td>\n",
       "    </tr>\n",
       "  </tbody>\n",
       "</table>\n",
       "</div>"
      ],
      "text/plain": [
       "  Restaurant_id  Rating\n",
       "0          id_0   3.030\n",
       "1          id_1   4.195\n",
       "2          id_2   4.395\n",
       "3          id_3   4.360\n",
       "4          id_4   4.395\n",
       "5          id_5   4.305\n",
       "6          id_6   1.355\n",
       "7          id_7   2.625\n",
       "8          id_8   3.915\n",
       "9          id_9   4.615"
      ]
     },
     "execution_count": 92,
     "metadata": {},
     "output_type": "execute_result"
    }
   ],
   "source": [
    "sample_submission['Rating'] = predict_submission\n",
    "sample_submission.to_csv('submission.csv', index=False)\n",
    "sample_submission.head(10)"
   ]
  },
  {
   "cell_type": "markdown",
   "metadata": {},
   "source": [
    "# What's next?\n",
    "Или что делать, чтоб улучшить результат:\n",
    "* Обработать оставшиеся признаки в понятный для машины формат\n",
    "* Посмотреть, что еще можно извлечь из признаков\n",
    "* Сгенерировать новые признаки\n",
    "* Подгрузить дополнительные данные, например: по населению или благосостоянию городов\n",
    "* Подобрать состав признаков\n",
    "\n",
    "В общем, процесс творческий и весьма увлекательный! Удачи в соревновании!\n"
   ]
  },
  {
   "cell_type": "code",
   "execution_count": null,
   "metadata": {},
   "outputs": [],
   "source": []
  }
 ],
 "metadata": {
  "kernelspec": {
   "display_name": "Python 3",
   "language": "python",
   "name": "python3"
  },
  "language_info": {
   "codemirror_mode": {
    "name": "ipython",
    "version": 3
   },
   "file_extension": ".py",
   "mimetype": "text/x-python",
   "name": "python",
   "nbconvert_exporter": "python",
   "pygments_lexer": "ipython3",
   "version": "3.8.5"
  }
 },
 "nbformat": 4,
 "nbformat_minor": 4
}
